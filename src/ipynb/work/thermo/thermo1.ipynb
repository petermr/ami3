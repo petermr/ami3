{
 "cells": [
  {
   "cell_type": "markdown",
   "metadata": {},
   "source": [
    "# extract data from thermal conductivity diagrams\n",
    "\n"
   ]
  },
  {
   "cell_type": "markdown",
   "metadata": {},
   "source": [
    "## overview\n",
    "* creates a project from raw PDFs\n",
    "* extracts images\n",
    "* creates octree \n",
    "* filters by title (NYI)"
   ]
  },
  {
   "cell_type": "markdown",
   "metadata": {},
   "source": [
    "### variables\n",
    "\n",
    "Set variables which will be used later. Note that at present I can't get variables working in ami/picocli commands so we run the command from the project directory. This is probably a good thing anyway.\n",
    "\n"
   ]
  },
  {
   "cell_type": "code",
   "execution_count": 1,
   "metadata": {},
   "outputs": [
    {
     "name": "stdout",
     "output_type": "stream",
     "text": [
      "thermo raw: /Users/pm286/workspace/cmdev/ami3/src/test/resources/org/contentmine/ami/thermo/\n"
     ]
    }
   ],
   "source": [
    "# specific problem\n",
    "THERMO = \"thermo\"\n",
    "\n",
    "########### Remote raw data #############\n",
    "# where is ami3? (assume you have checked out or copied `ami3` distrib)\n",
    "# TODO - can we replace this by URL?\n",
    "\n",
    "HOME = \"/Users/pm286/\"\n",
    "WORKSPACE = HOME + \"workspace/\"\n",
    "AMI3 = WORKSPACE + \"cmdev/ami3/\"\n",
    "\n",
    "# general data resource within the `ami3` distrib\n",
    "IPYNB = AMI3 + \"src/ipynb/\"\n",
    "TEST_RESOURCES = AMI3 + \"src/test/resources/\"\n",
    "AMI_DATA = TEST_RESOURCES + \"org/contentmine/ami/\"\n",
    "\n",
    "# specific for thermal conductivity\n",
    "THERMO_RAW = AMI_DATA + THERMO + \"/\"\n",
    "\n",
    "print (\"thermo raw: \" + THERMO_RAW)\n",
    "\n",
    "######### Local Resources #############\n",
    "\n",
    "# local workspace\n",
    "WORK = WORKSPACE + \"work/\"\n",
    "THERMO_WORK = WORK + THERMO + \"/\"\n",
    "\n",
    "### ami uses a CProject\n",
    "PROJECT = THERMO_WORK\n",
    "\n"
   ]
  },
  {
   "cell_type": "code",
   "execution_count": 2,
   "metadata": {},
   "outputs": [
    {
     "name": "stdout",
     "output_type": "stream",
     "text": [
      "PhysRevLett.125.045701.pdf\r\n"
     ]
    }
   ],
   "source": [
    "## clean and copy \n",
    "\n",
    "! cd $THERMO_WORK\n",
    "# clean previous work\n",
    "! rm -rf phys* make_project* logs*\n",
    "# clean copy of raw data\n",
    "! cp -R $THERMO_RAW .\n",
    "! ls *.pdf\n",
    "\n",
    "# should be 6 files (may be less due to copyright)\n"
   ]
  },
  {
   "cell_type": "code",
   "execution_count": 3,
   "metadata": {
    "scrolled": true
   },
   "outputs": [
    {
     "name": "stdout",
     "output_type": "stream",
     "text": [
      "(The console will show DEBUG level messages)\n",
      "(Logs will also be printed to /Users/pm286/workspace/work/thermo/logs/ami.log)\n",
      "Version: ami 2020.08.09_09.54-NEXT-SNAPSHOT\n",
      "(jar:file:/Users/pm286/workspace/cmdev/ami3/target/appassembler/repo/ami3-2020.08.09_09.54-NEXT-SNAPSHOT.jar)\n",
      "JVM: 14.0.1 (Oracle Corporation Java HotSpot(TM) 64-Bit Server VM 14.0.1+7)\n",
      "OS: Mac OS X 10.15.6 x86_64\n",
      "\n",
      "\n",
      "Generic values (AMIMakeProjectTool)\n",
      "================================\n",
      "input basename      null\n",
      "input basename list null\n",
      "cproject            /Users/pm286/workspace/work/thermo/.\n",
      "ctree               \n",
      "cTreeList           [./.ipynb_checkpoints, ./_original, ./logs, ./target]\n",
      "excludeBase         {}\n",
      "excludeTrees        {}\n",
      "forceMake           false\n",
      "includeBase         {}\n",
      "includeTrees        null\n",
      "log4j               {}\n",
      "verbose             2\n",
      "\n",
      "Specific values (AMIMakeProjectTool)\n",
      "================================\n",
      "compress            25\n",
      "omit                [template\\.xml, log\\.txt, summary\\.json]\n",
      "directory           /Users/pm286/workspace/work/thermo/.\n",
      "compress            25\n",
      "omit                [template\\.xml, log\\.txt, summary\\.json]\n",
      "directory           /Users/pm286/workspace/work/thermo/.\n",
      "file types          [pdf]\n",
      "logfile             null\n",
      "."
     ]
    }
   ],
   "source": [
    "## make project\n",
    "\n",
    "! ami -vv -p . makeproject --rawfiletypes pdf"
   ]
  },
  {
   "cell_type": "code",
   "execution_count": 4,
   "metadata": {
    "scrolled": false
   },
   "outputs": [
    {
     "name": "stdout",
     "output_type": "stream",
     "text": [
      "fulltext.pdf\r\n"
     ]
    }
   ],
   "source": [
    "ls phys*/\n"
   ]
  },
  {
   "cell_type": "code",
   "execution_count": 5,
   "metadata": {
    "scrolled": true
   },
   "outputs": [
    {
     "name": "stdout",
     "output_type": "stream",
     "text": [
      "\u001b[34m_original\u001b[m\u001b[m              make_project.json      \u001b[34mtarget\u001b[m\u001b[m\r\n",
      "\u001b[34mlogs\u001b[m\u001b[m                   \u001b[34mphysrevlett.125.045701\u001b[m\u001b[m thermo1.ipynb\r\n"
     ]
    }
   ],
   "source": [
    "# save original files (underscore convention means that it is not a CTree)\n",
    "! mv *.pdf _original/\n",
    "! ls"
   ]
  },
  {
   "cell_type": "code",
   "execution_count": 6,
   "metadata": {
    "scrolled": false
   },
   "outputs": [
    {
     "name": "stdout",
     "output_type": "stream",
     "text": [
      "(The console will show DEBUG level messages)\n",
      "(Logs will also be printed to /Users/pm286/workspace/work/thermo/logs/ami.log)\n",
      "Version: ami 2020.08.09_09.54-NEXT-SNAPSHOT\n",
      "(jar:file:/Users/pm286/workspace/cmdev/ami3/target/appassembler/repo/ami3-2020.08.09_09.54-NEXT-SNAPSHOT.jar)\n",
      "JVM: 14.0.1 (Oracle Corporation Java HotSpot(TM) 64-Bit Server VM 14.0.1+7)\n",
      "OS: Mac OS X 10.15.6 x86_64\n",
      "\n",
      "\n",
      "Generic values (AMIPDFTool)\n",
      "================================\n",
      "input basename      null\n",
      "input basename list null\n",
      "cproject            /Users/pm286/workspace/work/thermo/.\n",
      "ctree               \n",
      "cTreeList           [./.ipynb_checkpoints, ./_original, ./logs, ./physrevlett.125.045701, ./target]\n",
      "excludeBase         {}\n",
      "excludeTrees        {}\n",
      "forceMake           false\n",
      "includeBase         {}\n",
      "includeTrees        null\n",
      "log4j               {}\n",
      "verbose             2\n",
      "\n",
      "Specific values (AMIPDFTool)\n",
      "================================\n",
      "Command line options for 'ami pdfbox':\n",
      "--debug             : d AMI_BRIEF\n",
      "--imagedir          : d pdfimages/\n",
      "--maxpages          : d         5\n",
      "--maxprimitives     : d      5000\n",
      "--minimagesize      : d   (10,10)\n",
      "--pages             : d      null\n",
      "--parser            : d       two\n",
      "--no-pdfimages      : d      true\n",
      "--pdf2txt           : d     false\n",
      "--svgdir            : d      svg/\n",
      "--no-svgpages       : d      true\n",
      "--tidysvg           : d [concat, spaces]\n",
      "--help              : d     false\n",
      "--version           : d     false\n",
      "AMIPDFTool cTree: .ipynb_checkpoints\n",
      "cTree: .ipynb_checkpoints\n",
      "pi>include: [-1]\n",
      "\n",
      "AMIPDFTool cTree: _original\n",
      "cTree: _original\n",
      "pi>include: [-1]\n",
      "\n",
      "AMIPDFTool cTree: logs\n",
      "cTree: logs\n",
      "pi>include: [-1]\n",
      "\n",
      "AMIPDFTool cTree: physrevlett.125.045701\n",
      "cTree: physrevlett.125.045701\n",
      "pi>include: [-1]\n",
      "\n",
      "ipageIncluder include: [-1]\n",
      "\n",
      " max pages: 5 0 \n",
      "pageIncluder pages include: [0, 1, 2, 3, 4]\n",
      "[1][2][.0]!![3]![4][.0][.1][5][.0] img  img  img  img  5 \n",
      "pageIncluder pages include: [5, 6, 7, 8, 9]\n",
      "[6]!!end: \n",
      "AMIPDFTool cTree: target\n",
      "cTree: target\n",
      "pi>include: [-1]\n",
      "\n"
     ]
    }
   ],
   "source": [
    "# CONVERT PDF to SVG and PNG\n",
    "! ami -vv -p . pdfbox"
   ]
  },
  {
   "cell_type": "code",
   "execution_count": 7,
   "metadata": {
    "scrolled": true
   },
   "outputs": [
    {
     "name": "stdout",
     "output_type": "stream",
     "text": [
      "\u001b[01;34m.\u001b[00m\r\n",
      "├── \u001b[01;34m_original\u001b[00m\r\n",
      "│   └── physrevlett.125.045701.pdf\r\n",
      "├── \u001b[01;34mlogs\u001b[00m\r\n",
      "│   └── ami.log\r\n",
      "├── make_project.json\r\n",
      "├── \u001b[01;34mphysrevlett.125.045701\u001b[00m\r\n",
      "│   ├── fulltext.pdf\r\n",
      "│   ├── \u001b[01;34mpdfimages\u001b[00m\r\n",
      "│   │   ├── image.2.1.56_556.335_639.png\r\n",
      "│   │   ├── image.4.1.328_548.462_661.png\r\n",
      "│   │   ├── image.4.2.55_295.55_337.png\r\n",
      "│   │   └── image.5.1.400_475.474_478.png\r\n",
      "│   └── \u001b[01;34msvg\u001b[00m\r\n",
      "│       ├── fulltext-page.0.svg\r\n",
      "│       ├── fulltext-page.1.svg\r\n",
      "│       ├── fulltext-page.2.svg\r\n",
      "│       ├── fulltext-page.3.svg\r\n",
      "│       ├── fulltext-page.4.svg\r\n",
      "│       └── fulltext-page.5.svg\r\n",
      "├── \u001b[01;34mtarget\u001b[00m\r\n",
      "│   └── log.xml\r\n",
      "└── thermo1.ipynb\r\n",
      "\r\n",
      "6 directories, 16 files\r\n"
     ]
    }
   ],
   "source": [
    "# see what we have produced (SVG and PNG)\n",
    "! tree "
   ]
  },
  {
   "cell_type": "code",
   "execution_count": 8,
   "metadata": {},
   "outputs": [
    {
     "name": "stdout",
     "output_type": "stream",
     "text": [
      "(The console will show DEBUG level messages)\n",
      "(Logs will also be printed to /Users/pm286/workspace/work/thermo/logs/ami.log)\n",
      "Version: ami 2020.08.09_09.54-NEXT-SNAPSHOT\n",
      "(jar:file:/Users/pm286/workspace/cmdev/ami3/target/appassembler/repo/ami3-2020.08.09_09.54-NEXT-SNAPSHOT.jar)\n",
      "JVM: 14.0.1 (Oracle Corporation Java HotSpot(TM) 64-Bit Server VM 14.0.1+7)\n",
      "OS: Mac OS X 10.15.6 x86_64\n",
      "\n",
      "\n",
      "Generic values (AMIImageTool)\n",
      "================================\n",
      "input basename      raw\n",
      "input basename list null\n",
      "cproject            /Users/pm286/workspace/work/thermo/.\n",
      "ctree               \n",
      "cTreeList           [./.ipynb_checkpoints, ./_original, ./logs, ./physrevlett.125.045701, ./target]\n",
      "excludeBase         {}\n",
      "excludeTrees        {}\n",
      "forceMake           false\n",
      "includeBase         {}\n",
      "includeTrees        null\n",
      "log4j               {}\n",
      "verbose             2\n",
      "\n",
      "Specific values (AMIImageTool)\n",
      "================================\n",
      "Command line options for 'ami image':\n",
      "--borders           : d      null\n",
      "--filter            : d     false\n",
      "--exclude           : d      null\n",
      "--include           : d      null\n",
      "--minheight         : d       100\n",
      "--minwidth          : d       100\n",
      "--annotate          : d     false\n",
      "--binarize          : d      null\n",
      "--despeckle         : d     false\n",
      "--dither            : d      true\n",
      "--erodedilate       : d     false\n",
      "--maxheight         : d      1000\n",
      "--maxwidth          : d      1000\n",
      "--mediancut         : d      null\n",
      "--merge             : d         0\n",
      "--minpixels         : d       100\n",
      "--octree            : m         8\n",
      "--outputfiles       : m [binary, channels, histogram, neighbours, octree]\n",
      "--panels            : d      null\n",
      "--posterize         : d      null\n",
      "--priority          : d       RAW\n",
      "--rotate            : d      null\n",
      "--scalefactor       : d      null\n",
      "--serpentine        : d      true\n",
      "--sharpen           : d      none\n",
      "--template          : d      null\n",
      "--thinning          : d      null\n",
      "--threshold         : d      null\n",
      "--toolkit           : d      null\n",
      "--help              : d     false\n",
      "--version           : d     false\n",
      "AMIImageTool cTree: .ipynb_checkpoints\n",
      "AMIImageTool processTree\n",
      "no pdfimages/ dir and no image/ dir\n",
      "AMIImageTool cTree: _original\n",
      "AMIImageTool processTree\n",
      "no pdfimages/ dir and no image/ dir\n",
      "AMIImageTool cTree: logs\n",
      "AMIImageTool processTree\n",
      "no pdfimages/ dir and no image/ dir\n",
      "AMIImageTool cTree: physrevlett.125.045701\n",
      "AMIImageTool processTree\n",
      "converting to subdirectories: 4\n",
      "converting: ./physrevlett.125.045701/pdfimages/image.2.1.56_556.335_639.png to image.2.1.56_556.335_639/\n",
      "made /Users/pm286/workspace/work/thermo/./physrevlett.125.045701/pdfimages/image.2.1.56_556.335_639/raw.png\n",
      "converting: ./physrevlett.125.045701/pdfimages/image.4.1.328_548.462_661.png to image.4.1.328_548.462_661/\n",
      "made /Users/pm286/workspace/work/thermo/./physrevlett.125.045701/pdfimages/image.4.1.328_548.462_661/raw.png\n",
      "converting: ./physrevlett.125.045701/pdfimages/image.4.2.55_295.55_337.png to image.4.2.55_295.55_337/\n",
      "made /Users/pm286/workspace/work/thermo/./physrevlett.125.045701/pdfimages/image.4.2.55_295.55_337/raw.png\n",
      "converting: ./physrevlett.125.045701/pdfimages/image.5.1.400_475.474_478.png to image.5.1.400_475.474_478/\n",
      "made /Users/pm286/workspace/work/thermo/./physrevlett.125.045701/pdfimages/image.5.1.400_475.474_478/raw.png\n",
      " >>>>> imageDirs: 4\n",
      "T: 2637078/W: 2066786/NW: 570292\n",
      "*****OK...physrevlett.125.045701//image.2.1.56_556.335_639\n",
      "physrevlett.125.045701//image.2.1.56_556.335_639\n",
      "transforming: image.2.1.56_556.335_639/raw.png\n",
      "Freq: f6f6f6: 1805604\n",
      "Freq: 2c221a: 228062\n",
      "Freq: c74012: 36148\n",
      "Freq: 9624b1: 108738\n",
      "Freq: d2cf2b: 45892\n",
      "Freq: 1f9c67: 24814\n",
      "Freq: 1dd2c4: 120627\n",
      "Freq: 041bbc: 267193\n",
      "neighbours: f6f6f6>  041bbc 2c221a 1dd2c4 9624b1 d2cf2b c74012 1f9c67\n",
      "041bbc>  2c221a 1dd2c4 9624b1 d2cf2b c74012 1f9c67\n",
      "2c221a>  1dd2c4 9624b1 d2cf2b c74012 1f9c67\n",
      "1dd2c4>  9624b1 d2cf2b c74012 1f9c67\n",
      "9624b1>  d2cf2b c74012 1f9c67\n",
      "d2cf2b>  c74012 1f9c67\n",
      "c74012>  1f9c67\n",
      "\n",
      "htmlFile ./physrevlett.125.045701/pdfimages/image.2.1.56_556.335_639/images.html\n",
      "T: 759276/W: 740096/NW: 19180\n",
      "*****OK...physrevlett.125.045701//image.4.1.328_548.462_661\n",
      "physrevlett.125.045701//image.4.1.328_548.462_661\n",
      "transforming: image.4.1.328_548.462_661/raw.png\n",
      "Freq: fbfbfb: 716465\n",
      "Freq: 252525: 37807\n",
      "Freq: d55118: 2023\n",
      "Freq: 96965d: 269\n",
      "Freq: 7487a0: 187\n",
      "Freq: 255f9c: 2522\n",
      "neighbours: fbfbfb>  252525 255f9c d55118 96965d 7487a0 7e8473\n",
      "252525>  255f9c d55118 96965d 7487a0 7e8473\n",
      "255f9c>  d55118 96965d 7487a0 7e8473\n",
      "d55118>  96965d 7487a0 7e8473\n",
      "96965d>  7487a0 7e8473\n",
      "7487a0>  7e8473\n",
      "\n",
      "htmlFile ./physrevlett.125.045701/pdfimages/image.4.1.328_548.462_661/images.html\n",
      "T: 1176000/W: 1159939/NW: 16061\n",
      "*****OK...physrevlett.125.045701//image.4.2.55_295.55_337\n",
      "physrevlett.125.045701//image.4.2.55_295.55_337\n",
      "transforming: image.4.2.55_295.55_337/raw.png\n",
      "Freq: ae6e6b: 33377\n",
      "Freq: 459ad2: 462\n",
      "Freq: c9945d: 4689\n",
      "Freq: 342f2f: 40873\n",
      "Freq: 0170bb: 2362\n",
      "Freq: f6f1e9: 1094205\n",
      "neighbours: f6f1e9>  342f2f ae6e6b c9945d 0170bb 459ad2 c27f80\n",
      "342f2f>  ae6e6b c9945d 0170bb 459ad2 c27f80\n",
      "ae6e6b>  c9945d 0170bb 459ad2 c27f80\n",
      "c9945d>  0170bb 459ad2 c27f80\n",
      "0170bb>  459ad2 c27f80\n",
      "459ad2>  c27f80\n",
      "\n",
      "htmlFile ./physrevlett.125.045701/pdfimages/image.4.2.55_295.55_337/images.html\n",
      "T: 6220/W: 6220/NW: 0\n",
      "*****OK...physrevlett.125.045701//image.5.1.400_475.474_478\n",
      "physrevlett.125.045701//image.5.1.400_475.474_478\n",
      "transforming: image.5.1.400_475.474_478/raw.png\n",
      "Freq: f9f9f9: 4534\n",
      "Freq: 58595b: 228\n",
      "Freq: 231f20: 1409\n",
      "neighbours: f9f9f9>  231f20 58595b 7e8083 7c7d80 3f3f40\n",
      "231f20>  58595b 7e8083 7c7d80 3f3f40\n",
      "58595b>  7e8083 7c7d80 3f3f40\n",
      "7e8083>  7c7d80 3f3f40\n",
      "7c7d80>  3f3f40\n",
      "\n",
      "htmlFile ./physrevlett.125.045701/pdfimages/image.5.1.400_475.474_478/images.html\n",
      "AMIImageTool cTree: target\n",
      "AMIImageTool processTree\n",
      "no pdfimages/ dir and no image/ dir\n",
      "============ FINISHED OCTREE ===========\n"
     ]
    }
   ],
   "source": [
    " \n",
    "# octree creates a discrete set of color levels in each image (here 8)\n",
    "! ami -vv -p .  --inputname raw --output octree image --octree 8  --outputfiles binary channels histogram neighbours octree\n",
    "print (\"============ FINISHED OCTREE ===========\")\n"
   ]
  },
  {
   "cell_type": "code",
   "execution_count": null,
   "metadata": {},
   "outputs": [],
   "source": []
  }
 ],
 "metadata": {
  "kernelspec": {
   "display_name": "Python 3",
   "language": "python",
   "name": "python3"
  },
  "language_info": {
   "codemirror_mode": {
    "name": "ipython",
    "version": 3
   },
   "file_extension": ".py",
   "mimetype": "text/x-python",
   "name": "python",
   "nbconvert_exporter": "python",
   "pygments_lexer": "ipython3",
   "version": "3.8.3"
  }
 },
 "nbformat": 4,
 "nbformat_minor": 4
}

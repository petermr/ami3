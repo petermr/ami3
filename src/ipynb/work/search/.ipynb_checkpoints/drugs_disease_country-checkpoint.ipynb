{
 "cells": [
  {
   "cell_type": "markdown",
   "metadata": {},
   "source": [
    "# search with ami\n",
    "\n"
   ]
  },
  {
   "cell_type": "markdown",
   "metadata": {},
   "source": [
    "### define the parameters of the search\n",
    "\n",
    "It is useful to use symbolic variables where possible\n"
   ]
  },
  {
   "cell_type": "code",
   "execution_count": 4,
   "metadata": {},
   "outputs": [],
   "source": [
    "# specific problem\n",
    "PROJECT = \"drugs_disease_country\"\n",
    "EPMC = \"viral epidemics\"\n",
    "HITS = 100\n",
    "DICTIONARIES = \"drugs disease country\"\n",
    "CLEAN = True"
   ]
  },
  {
   "cell_type": "code",
   "execution_count": 2,
   "metadata": {},
   "outputs": [],
   "source": [
    "# This will be user-specific. EDIT\n",
    "# defines AMI3 and WORK\n",
    "\n",
    "# where is your workspace?\n",
    "HOME = \"/Users/pm286/\"\n",
    "WORK = HOME + \"workspace/work/search/\"\n",
    "\n",
    "# and where is ami3 distrib (DEMO ONLY)?\n",
    "AMI3 = HOME + \"workspace/cmdev/ami3/src/ipynb/work/search/\""
   ]
  },
  {
   "cell_type": "code",
   "execution_count": 3,
   "metadata": {
    "scrolled": false
   },
   "outputs": [
    {
     "name": "stdout",
     "output_type": "stream",
     "text": [
      "working in: /Users/pm286/workspace/work/search/\n",
      "files: \n",
      "\n",
      "\u001b[34mdict8\u001b[m\u001b[m                       \u001b[34mlogs\u001b[m\u001b[m\r\n",
      "dicts_8.ipynb               search.ipynb\r\n",
      "\u001b[34mdrugs_disease_country\u001b[m\u001b[m       \u001b[34mtarget\u001b[m\u001b[m\r\n",
      "drugs_disease_country.ipynb tempAll.svg\r\n",
      "\u001b[34mfunders\u001b[m\u001b[m                     tempAllPlots.svg\r\n",
      "funders.ipynb\r\n"
     ]
    }
   ],
   "source": [
    "# user independent \n",
    "# (DEMO ONLY) copy so we don't contaminate AMI3\n",
    "! cp -R $AMI3 $WORK\n",
    "\n",
    "#specific project\n",
    "PROJECT_WORK = WORK + PROJECT + \"/\"\n",
    "\n",
    "! cd $WORK\n",
    "print (\"working in: \" + WORK + \"\\nfiles: \\n\")\n",
    "# list all files in directory\n",
    "! ls\n",
    "\n"
   ]
  },
  {
   "cell_type": "code",
   "execution_count": 5,
   "metadata": {},
   "outputs": [
    {
     "ename": "TypeError",
     "evalue": "can only concatenate str (not \"bool\") to str",
     "output_type": "error",
     "traceback": [
      "\u001b[0;31m---------------------------------------------------------------------------\u001b[0m",
      "\u001b[0;31mTypeError\u001b[0m                                 Traceback (most recent call last)",
      "\u001b[0;32m<ipython-input-5-9ea9d9a26582>\u001b[0m in \u001b[0;36m<module>\u001b[0;34m\u001b[0m\n\u001b[1;32m      1\u001b[0m \u001b[0;31m# clean project completely\u001b[0m\u001b[0;34m\u001b[0m\u001b[0;34m\u001b[0m\u001b[0;34m\u001b[0m\u001b[0m\n\u001b[0;32m----> 2\u001b[0;31m \u001b[0mprint\u001b[0m \u001b[0;34m(\u001b[0m\u001b[0;34m\"clean: \"\u001b[0m \u001b[0;34m+\u001b[0m \u001b[0mPROJECT\u001b[0m \u001b[0;34m+\u001b[0m \u001b[0;34m\"?\"\u001b[0m \u001b[0;34m+\u001b[0m \u001b[0mCLEAN\u001b[0m\u001b[0;34m)\u001b[0m\u001b[0;34m\u001b[0m\u001b[0;34m\u001b[0m\u001b[0m\n\u001b[0m\u001b[1;32m      3\u001b[0m \u001b[0;32mif\u001b[0m \u001b[0;34m(\u001b[0m\u001b[0mCLEAN\u001b[0m\u001b[0;34m)\u001b[0m\u001b[0;34m:\u001b[0m\u001b[0;34m\u001b[0m\u001b[0;34m\u001b[0m\u001b[0m\n\u001b[1;32m      4\u001b[0m     \u001b[0mget_ipython\u001b[0m\u001b[0;34m(\u001b[0m\u001b[0;34m)\u001b[0m\u001b[0;34m.\u001b[0m\u001b[0msystem\u001b[0m\u001b[0;34m(\u001b[0m\u001b[0;34m' rm -rf $PROJECT'\u001b[0m\u001b[0;34m)\u001b[0m\u001b[0;34m\u001b[0m\u001b[0;34m\u001b[0m\u001b[0m\n",
      "\u001b[0;31mTypeError\u001b[0m: can only concatenate str (not \"bool\") to str"
     ]
    }
   ],
   "source": [
    "# clean project completely \n",
    "print (\"clean: \" + PROJECT + \"?\" + CLEAN)\n",
    "if (CLEAN):\n",
    "    ! rm -rf $PROJECT"
   ]
  },
  {
   "cell_type": "markdown",
   "metadata": {},
   "source": [
    "## search EPMC with getpapers\n",
    "This needs\n",
    "* a search query (EPMC) to send to europepmc.org\n",
    "* a project name (PROJECT) which will create a directory under your current directory\n",
    "* maximum hits (HITS)"
   ]
  },
  {
   "cell_type": "code",
   "execution_count": 14,
   "metadata": {},
   "outputs": [
    {
     "name": "stdout",
     "output_type": "stream",
     "text": [
      "\u001b[32minfo\u001b[39m: Searching using eupmc API\n",
      "\u001b[32minfo\u001b[39m: Found 21383 open access results\n",
      "\u001b[33mwarn\u001b[39m: This version of getpapers wasn't built with this version of the EuPMC api in mind\n",
      "\u001b[33mwarn\u001b[39m: getpapers EuPMCVersion: 5.3.2 vs. 6.4 reported by api\n",
      "\u001b[32minfo\u001b[39m: Limiting to 100 hits\n",
      "\u001b[2K\u001b[1GRetrieving results [\u001b[32m=\u001b[39m\u001b[32m=\u001b[39m\u001b[32m=\u001b[39m\u001b[32m=\u001b[39m\u001b[32m=\u001b[39m\u001b[32m=\u001b[39m\u001b[32m=\u001b[39m\u001b[32m=\u001b[39m\u001b[32m=\u001b[39m\u001b[32m=\u001b[39m\u001b[32m=\u001b[39m\u001b[32m=\u001b[39m\u001b[32m=\u001b[39m\u001b[32m=\u001b[39m\u001b[32m=\u001b[39m\u001b[32m=\u001b[39m\u001b[32m=\u001b[39m\u001b[32m=\u001b[39m\u001b[32m=\u001b[39m\u001b[32m=\u001b[39m\u001b[32m=\u001b[39m\u001b[32m=\u001b[39m\u001b[32m=\u001b[39m\u001b[32m=\u001b[39m\u001b[32m=\u001b[39m\u001b[32m=\u001b[39m\u001b[32m=\u001b[39m\u001b[32m=\u001b[39m\u001b[32m=\u001b[39m\u001b[32m=\u001b[39m] 100% (eta 0.0s)\n",
      "\u001b[32minfo\u001b[39m: Done collecting results\n",
      "\u001b[32minfo\u001b[39m: limiting hits\n",
      "\u001b[32minfo\u001b[39m: Saving result metadata\n",
      "\u001b[32minfo\u001b[39m: Full EUPMC result metadata written to \u001b[34meupmc_results.json\u001b[39m\n",
      "\u001b[32minfo\u001b[39m: Individual EUPMC result metadata records written\n",
      "\u001b[32minfo\u001b[39m: Extracting fulltext HTML URL list (may not be available for all articles)\n",
      "\u001b[32minfo\u001b[39m: Fulltext HTML URL list written to \u001b[34meupmc_fulltext_html_urls.txt\u001b[39m\n",
      "\u001b[33mwarn\u001b[39m: Article with doi \"10.1101/2020.06.10.20127597 did not have a PMCID (therefore no XML)\n",
      "\u001b[33mwarn\u001b[39m: Article with pmcid \"PMC6517453\" was not Open Access (therefore no XML)\n",
      "\u001b[33mwarn\u001b[39m: Article with pmcid \"PMC7516576\" was not Open Access (therefore no XML)\n",
      "\u001b[33mwarn\u001b[39m: Article with pmcid \"PMC7513765\" was not Open Access (therefore no XML)\n",
      "\u001b[33mwarn\u001b[39m: Article with pmcid \"PMC7513919\" was not Open Access (therefore no XML)\n",
      "\u001b[33mwarn\u001b[39m: Article with pmcid \"PMC7485949\" was not Open Access (therefore no XML)\n",
      "\u001b[33mwarn\u001b[39m: Article with pmcid \"PMC7515607\" was not Open Access (therefore no XML)\n",
      "\u001b[33mwarn\u001b[39m: Article with pmcid \"PMC7371815\" was not Open Access (therefore no XML)\n",
      "\u001b[33mwarn\u001b[39m: Article with pmcid \"PMC7516517\" was not Open Access (therefore no XML)\n",
      "\u001b[33mwarn\u001b[39m: Article with pmcid \"PMC7467093\" was not Open Access (therefore no XML)\n",
      "\u001b[33mwarn\u001b[39m: Article with doi \"10.1101/2020.09.02.20187203 did not have a PMCID (therefore no XML)\n",
      "\u001b[33mwarn\u001b[39m: Article with pmcid \"PMC7314157\" was not Open Access (therefore no XML)\n",
      "\u001b[33mwarn\u001b[39m: Article with pmcid \"PMC7391983\" was not Open Access (therefore no XML)\n",
      "\u001b[33mwarn\u001b[39m: Article with pmcid \"PMC7508551\" was not Open Access (therefore no XML)\n",
      "\u001b[33mwarn\u001b[39m: Article with pmcid \"PMC7486873\" was not Open Access (therefore no XML)\n",
      "\u001b[33mwarn\u001b[39m: Article with pmcid \"PMC7164915\" was not Open Access (therefore no XML)\n",
      "\u001b[33mwarn\u001b[39m: Article with doi \"10.1101/2020.09.04.20187948 did not have a PMCID (therefore no XML)\n",
      "\u001b[33mwarn\u001b[39m: Article with pmcid \"PMC7180667\" was not Open Access (therefore no XML)\n",
      "\u001b[32minfo\u001b[39m: Got XML URLs for 82 out of 100 results\n",
      "\u001b[32minfo\u001b[39m: Downloading fulltext XML files\n",
      "\u001b[2K\u001b[1GDownloading files [--------------------------] 1% (1/82) [0.0s elapsed, eta 0.0]\u001b[2K\u001b[1GDownloading files [\u001b[32m=\u001b[39m-------------------------] 2% (2/82) [0.0s elapsed, eta 0.0]\u001b[2K\u001b[1GDownloading files [\u001b[32m=\u001b[39m-------------------------] 4% (3/82) [0.0s elapsed, eta 0.0]\u001b[2K\u001b[1GDownloading files [\u001b[32m=\u001b[39m-------------------------] 5% (4/82) [0.0s elapsed, eta 0.0]\u001b[2K\u001b[1GDownloading files [\u001b[32m=\u001b[39m\u001b[32m=\u001b[39m------------------------] 6% (5/82) [0.0s elapsed, eta 0.0]\u001b[2K\u001b[1GDownloading files [\u001b[32m=\u001b[39m\u001b[32m=\u001b[39m------------------------] 7% (6/82) [0.0s elapsed, eta 0.0]\u001b[2K\u001b[1GDownloading files [\u001b[32m=\u001b[39m\u001b[32m=\u001b[39m------------------------] 9% (7/82) [0.0s elapsed, eta 0.0]\u001b[2K\u001b[1GDownloading files [\u001b[32m=\u001b[39m\u001b[32m=\u001b[39m-----------------------] 10% (8/82) [0.0s elapsed, eta 0.0]\u001b[2K\u001b[1GDownloading files [\u001b[32m=\u001b[39m\u001b[32m=\u001b[39m\u001b[32m=\u001b[39m----------------------] 11% (9/82) [0.0s elapsed, eta 0.0]\u001b[2K\u001b[1GDownloading files [\u001b[32m=\u001b[39m\u001b[32m=\u001b[39m\u001b[32m=\u001b[39m---------------------] 12% (10/82) [0.0s elapsed, eta 0.0]\u001b[32minfo\u001b[39m: File of type: XML and id: PMC7402669 already exists. Skipping.\n",
      "\u001b[2K\u001b[1GDownloading files [\u001b[32m=\u001b[39m\u001b[32m=\u001b[39m\u001b[32m=\u001b[39m---------------------] 13% (11/82) [0.0s elapsed, eta 0.2]\u001b[32minfo\u001b[39m: File of type: XML and id: PMC7241517 already exists. Skipping.\n",
      "\u001b[2K\u001b[1GDownloading files [\u001b[32m=\u001b[39m\u001b[32m=\u001b[39m\u001b[32m=\u001b[39m\u001b[32m=\u001b[39m--------------------] 15% (12/82) [0.0s elapsed, eta 0.2]\u001b[32minfo\u001b[39m: File of type: XML and id: PMC7409732 already exists. Skipping.\n",
      "\u001b[2K\u001b[1GDownloading files [\u001b[32m=\u001b[39m\u001b[32m=\u001b[39m\u001b[32m=\u001b[39m\u001b[32m=\u001b[39m--------------------] 16% (13/82) [0.0s elapsed, eta 0.2]\u001b[32minfo\u001b[39m: File of type: XML and id: PMC7404095 already exists. Skipping.\n",
      "\u001b[2K\u001b[1GDownloading files [\u001b[32m=\u001b[39m\u001b[32m=\u001b[39m\u001b[32m=\u001b[39m\u001b[32m=\u001b[39m--------------------] 17% (14/82) [0.0s elapsed, eta 0.2]\u001b[32minfo\u001b[39m: File of type: XML and id: PMC7119083 already exists. Skipping.\n",
      "\u001b[2K\u001b[1GDownloading files [\u001b[32m=\u001b[39m\u001b[32m=\u001b[39m\u001b[32m=\u001b[39m\u001b[32m=\u001b[39m--------------------] 18% (15/82) [0.1s elapsed, eta 0.2]\u001b[32minfo\u001b[39m: File of type: XML and id: PMC6695746 already exists. Skipping.\n",
      "\u001b[2K\u001b[1GDownloading files [\u001b[32m=\u001b[39m\u001b[32m=\u001b[39m\u001b[32m=\u001b[39m\u001b[32m=\u001b[39m\u001b[32m=\u001b[39m-------------------] 20% (16/82) [0.1s elapsed, eta 0.2]\u001b[32minfo\u001b[39m: File of type: XML and id: PMC7395586 already exists. Skipping.\n",
      "\u001b[2K\u001b[1GDownloading files [\u001b[32m=\u001b[39m\u001b[32m=\u001b[39m\u001b[32m=\u001b[39m\u001b[32m=\u001b[39m\u001b[32m=\u001b[39m-------------------] 21% (17/82) [0.1s elapsed, eta 0.2]\u001b[32minfo\u001b[39m: File of type: XML and id: PMC7459150 already exists. Skipping.\n",
      "\u001b[2K\u001b[1GDownloading files [\u001b[32m=\u001b[39m\u001b[32m=\u001b[39m\u001b[32m=\u001b[39m\u001b[32m=\u001b[39m\u001b[32m=\u001b[39m-------------------] 22% (18/82) [0.1s elapsed, eta 0.2]\u001b[32minfo\u001b[39m: File of type: XML and id: PMC7102705 already exists. Skipping.\n",
      "\u001b[2K\u001b[1GDownloading files [\u001b[32m=\u001b[39m\u001b[32m=\u001b[39m\u001b[32m=\u001b[39m\u001b[32m=\u001b[39m\u001b[32m=\u001b[39m\u001b[32m=\u001b[39m------------------] 23% (19/82) [0.1s elapsed, eta 0.2]\u001b[32minfo\u001b[39m: File of type: XML and id: PMC7341712 already exists. Skipping.\n",
      "\u001b[2K\u001b[1GDownloading files [\u001b[32m=\u001b[39m\u001b[32m=\u001b[39m\u001b[32m=\u001b[39m\u001b[32m=\u001b[39m\u001b[32m=\u001b[39m\u001b[32m=\u001b[39m------------------] 24% (20/82) [0.1s elapsed, eta 0.2]\u001b[32minfo\u001b[39m: File of type: XML and id: PMC3561042 already exists. Skipping.\n",
      "\u001b[2K\u001b[1GDownloading files [\u001b[32m=\u001b[39m\u001b[32m=\u001b[39m\u001b[32m=\u001b[39m\u001b[32m=\u001b[39m\u001b[32m=\u001b[39m\u001b[32m=\u001b[39m------------------] 26% (21/82) [0.1s elapsed, eta 0.2]\u001b[32minfo\u001b[39m: File of type: XML and id: PMC7257617 already exists. Skipping.\n",
      "\u001b[2K\u001b[1GDownloading files [\u001b[32m=\u001b[39m\u001b[32m=\u001b[39m\u001b[32m=\u001b[39m\u001b[32m=\u001b[39m\u001b[32m=\u001b[39m\u001b[32m=\u001b[39m------------------] 27% (22/82) [0.1s elapsed, eta 0.1]\u001b[32minfo\u001b[39m: File of type: XML and id: PMC7120695 already exists. Skipping.\n",
      "\u001b[2K\u001b[1GDownloading files [\u001b[32m=\u001b[39m\u001b[32m=\u001b[39m\u001b[32m=\u001b[39m\u001b[32m=\u001b[39m\u001b[32m=\u001b[39m\u001b[32m=\u001b[39m\u001b[32m=\u001b[39m-----------------] 28% (23/82) [0.1s elapsed, eta 0.1]\u001b[32minfo\u001b[39m: File of type: XML and id: PMC7494453 already exists. Skipping.\n",
      "\u001b[2K\u001b[1GDownloading files [\u001b[32m=\u001b[39m\u001b[32m=\u001b[39m\u001b[32m=\u001b[39m\u001b[32m=\u001b[39m\u001b[32m=\u001b[39m\u001b[32m=\u001b[39m\u001b[32m=\u001b[39m-----------------] 29% (24/82) [0.1s elapsed, eta 0.1]\u001b[32minfo\u001b[39m: File of type: XML and id: PMC7300792 already exists. Skipping.\n",
      "\u001b[2K\u001b[1GDownloading files [\u001b[32m=\u001b[39m\u001b[32m=\u001b[39m\u001b[32m=\u001b[39m\u001b[32m=\u001b[39m\u001b[32m=\u001b[39m\u001b[32m=\u001b[39m\u001b[32m=\u001b[39m-----------------] 30% (25/82) [0.1s elapsed, eta 0.1]\u001b[32minfo\u001b[39m: File of type: XML and id: PMC7197577 already exists. Skipping.\n",
      "\u001b[2K\u001b[1GDownloading files [\u001b[32m=\u001b[39m\u001b[32m=\u001b[39m\u001b[32m=\u001b[39m\u001b[32m=\u001b[39m\u001b[32m=\u001b[39m\u001b[32m=\u001b[39m\u001b[32m=\u001b[39m\u001b[32m=\u001b[39m----------------] 32% (26/82) [0.1s elapsed, eta 0.1]\u001b[32minfo\u001b[39m: File of type: XML and id: PMC7202122 already exists. Skipping.\n",
      "\u001b[2K\u001b[1GDownloading files [\u001b[32m=\u001b[39m\u001b[32m=\u001b[39m\u001b[32m=\u001b[39m\u001b[32m=\u001b[39m\u001b[32m=\u001b[39m\u001b[32m=\u001b[39m\u001b[32m=\u001b[39m\u001b[32m=\u001b[39m----------------] 33% (27/82) [0.1s elapsed, eta 0.1]\u001b[32minfo\u001b[39m: File of type: XML and id: PMC7338960 already exists. Skipping.\n",
      "\u001b[2K\u001b[1GDownloading files [\u001b[32m=\u001b[39m\u001b[32m=\u001b[39m\u001b[32m=\u001b[39m\u001b[32m=\u001b[39m\u001b[32m=\u001b[39m\u001b[32m=\u001b[39m\u001b[32m=\u001b[39m\u001b[32m=\u001b[39m----------------] 34% (28/82) [0.1s elapsed, eta 0.1]\u001b[32minfo\u001b[39m: File of type: XML and id: PMC7203543 already exists. Skipping.\n",
      "\u001b[2K\u001b[1GDownloading files [\u001b[32m=\u001b[39m\u001b[32m=\u001b[39m\u001b[32m=\u001b[39m\u001b[32m=\u001b[39m\u001b[32m=\u001b[39m\u001b[32m=\u001b[39m\u001b[32m=\u001b[39m\u001b[32m=\u001b[39m----------------] 35% (29/82) [0.1s elapsed, eta 0.1]\u001b[32minfo\u001b[39m: File of type: XML and id: PMC7416915 already exists. Skipping.\n",
      "\u001b[2K\u001b[1GDownloading files [\u001b[32m=\u001b[39m\u001b[32m=\u001b[39m\u001b[32m=\u001b[39m\u001b[32m=\u001b[39m\u001b[32m=\u001b[39m\u001b[32m=\u001b[39m\u001b[32m=\u001b[39m\u001b[32m=\u001b[39m\u001b[32m=\u001b[39m---------------] 37% (30/82) [0.1s elapsed, eta 0.1]\u001b[32minfo\u001b[39m: File of type: XML and id: PMC7414693 already exists. Skipping.\n",
      "\u001b[2K\u001b[1GDownloading files [\u001b[32m=\u001b[39m\u001b[32m=\u001b[39m\u001b[32m=\u001b[39m\u001b[32m=\u001b[39m\u001b[32m=\u001b[39m\u001b[32m=\u001b[39m\u001b[32m=\u001b[39m\u001b[32m=\u001b[39m\u001b[32m=\u001b[39m---------------] 38% (31/82) [0.1s elapsed, eta 0.1]\u001b[32minfo\u001b[39m: File of type: XML and id: PMC7499620 already exists. Skipping.\n",
      "\u001b[2K\u001b[1GDownloading files [\u001b[32m=\u001b[39m\u001b[32m=\u001b[39m\u001b[32m=\u001b[39m\u001b[32m=\u001b[39m\u001b[32m=\u001b[39m\u001b[32m=\u001b[39m\u001b[32m=\u001b[39m\u001b[32m=\u001b[39m\u001b[32m=\u001b[39m---------------] 39% (32/82) [0.1s elapsed, eta 0.1]\u001b[32minfo\u001b[39m: File of type: XML and id: PMC7245250 already exists. Skipping.\n",
      "\u001b[2K\u001b[1GDownloading files [\u001b[32m=\u001b[39m\u001b[32m=\u001b[39m\u001b[32m=\u001b[39m\u001b[32m=\u001b[39m\u001b[32m=\u001b[39m\u001b[32m=\u001b[39m\u001b[32m=\u001b[39m\u001b[32m=\u001b[39m\u001b[32m=\u001b[39m\u001b[32m=\u001b[39m--------------] 40% (33/82) [0.1s elapsed, eta 0.1]\u001b[32minfo\u001b[39m: File of type: XML and id: PMC7298473 already exists. Skipping.\n",
      "\u001b[2K\u001b[1GDownloading files [\u001b[32m=\u001b[39m\u001b[32m=\u001b[39m\u001b[32m=\u001b[39m\u001b[32m=\u001b[39m\u001b[32m=\u001b[39m\u001b[32m=\u001b[39m\u001b[32m=\u001b[39m\u001b[32m=\u001b[39m\u001b[32m=\u001b[39m\u001b[32m=\u001b[39m--------------] 41% (34/82) [0.1s elapsed, eta 0.1]\u001b[32minfo\u001b[39m: File of type: XML and id: PMC7144339 already exists. Skipping.\n",
      "\u001b[2K\u001b[1GDownloading files [\u001b[32m=\u001b[39m\u001b[32m=\u001b[39m\u001b[32m=\u001b[39m\u001b[32m=\u001b[39m\u001b[32m=\u001b[39m\u001b[32m=\u001b[39m\u001b[32m=\u001b[39m\u001b[32m=\u001b[39m\u001b[32m=\u001b[39m\u001b[32m=\u001b[39m--------------] 43% (35/82) [0.1s elapsed, eta 0.1]\u001b[32minfo\u001b[39m: File of type: XML and id: PMC7419580 already exists. Skipping.\n",
      "\u001b[2K\u001b[1GDownloading files [\u001b[32m=\u001b[39m\u001b[32m=\u001b[39m\u001b[32m=\u001b[39m\u001b[32m=\u001b[39m\u001b[32m=\u001b[39m\u001b[32m=\u001b[39m\u001b[32m=\u001b[39m\u001b[32m=\u001b[39m\u001b[32m=\u001b[39m\u001b[32m=\u001b[39m\u001b[32m=\u001b[39m-------------] 44% (36/82) [0.1s elapsed, eta 0.1]\u001b[32minfo\u001b[39m: File of type: XML and id: PMC7435559 already exists. Skipping.\n",
      "\u001b[2K\u001b[1GDownloading files [\u001b[32m=\u001b[39m\u001b[32m=\u001b[39m\u001b[32m=\u001b[39m\u001b[32m=\u001b[39m\u001b[32m=\u001b[39m\u001b[32m=\u001b[39m\u001b[32m=\u001b[39m\u001b[32m=\u001b[39m\u001b[32m=\u001b[39m\u001b[32m=\u001b[39m\u001b[32m=\u001b[39m-------------] 45% (37/82) [0.1s elapsed, eta 0.1]\u001b[32minfo\u001b[39m: File of type: XML and id: PMC7427094 already exists. Skipping.\n",
      "\u001b[2K\u001b[1GDownloading files [\u001b[32m=\u001b[39m\u001b[32m=\u001b[39m\u001b[32m=\u001b[39m\u001b[32m=\u001b[39m\u001b[32m=\u001b[39m\u001b[32m=\u001b[39m\u001b[32m=\u001b[39m\u001b[32m=\u001b[39m\u001b[32m=\u001b[39m\u001b[32m=\u001b[39m\u001b[32m=\u001b[39m-------------] 46% (38/82) [0.1s elapsed, eta 0.1]\u001b[32minfo\u001b[39m: File of type: XML and id: PMC7461001 already exists. Skipping.\n",
      "\u001b[2K\u001b[1GDownloading files [\u001b[32m=\u001b[39m\u001b[32m=\u001b[39m\u001b[32m=\u001b[39m\u001b[32m=\u001b[39m\u001b[32m=\u001b[39m\u001b[32m=\u001b[39m\u001b[32m=\u001b[39m\u001b[32m=\u001b[39m\u001b[32m=\u001b[39m\u001b[32m=\u001b[39m\u001b[32m=\u001b[39m-------------] 48% (39/82) [0.1s elapsed, eta 0.1]\u001b[32minfo\u001b[39m: File of type: XML and id: PMC7461190 already exists. Skipping.\n",
      "\u001b[2K\u001b[1GDownloading files [\u001b[32m=\u001b[39m\u001b[32m=\u001b[39m\u001b[32m=\u001b[39m\u001b[32m=\u001b[39m\u001b[32m=\u001b[39m\u001b[32m=\u001b[39m\u001b[32m=\u001b[39m\u001b[32m=\u001b[39m\u001b[32m=\u001b[39m\u001b[32m=\u001b[39m\u001b[32m=\u001b[39m\u001b[32m=\u001b[39m------------] 49% (40/82) [0.1s elapsed, eta 0.1]\u001b[32minfo\u001b[39m: File of type: XML and id: PMC7427313 already exists. Skipping.\n",
      "\u001b[2K\u001b[1GDownloading files [\u001b[32m=\u001b[39m\u001b[32m=\u001b[39m\u001b[32m=\u001b[39m\u001b[32m=\u001b[39m\u001b[32m=\u001b[39m\u001b[32m=\u001b[39m\u001b[32m=\u001b[39m\u001b[32m=\u001b[39m\u001b[32m=\u001b[39m\u001b[32m=\u001b[39m\u001b[32m=\u001b[39m\u001b[32m=\u001b[39m------------] 50% (41/82) [0.1s elapsed, eta 0.1]\u001b[32minfo\u001b[39m: File of type: XML and id: PMC7423094 already exists. Skipping.\n",
      "\u001b[2K\u001b[1GDownloading files [\u001b[32m=\u001b[39m\u001b[32m=\u001b[39m\u001b[32m=\u001b[39m\u001b[32m=\u001b[39m\u001b[32m=\u001b[39m\u001b[32m=\u001b[39m\u001b[32m=\u001b[39m\u001b[32m=\u001b[39m\u001b[32m=\u001b[39m\u001b[32m=\u001b[39m\u001b[32m=\u001b[39m\u001b[32m=\u001b[39m------------] 51% (42/82) [0.1s elapsed, eta 0.1]\u001b[32minfo\u001b[39m: File of type: XML and id: PMC7470771 already exists. Skipping.\n",
      "\u001b[2K\u001b[1GDownloading files [\u001b[32m=\u001b[39m\u001b[32m=\u001b[39m\u001b[32m=\u001b[39m\u001b[32m=\u001b[39m\u001b[32m=\u001b[39m\u001b[32m=\u001b[39m\u001b[32m=\u001b[39m\u001b[32m=\u001b[39m\u001b[32m=\u001b[39m\u001b[32m=\u001b[39m\u001b[32m=\u001b[39m\u001b[32m=\u001b[39m\u001b[32m=\u001b[39m-----------] 52% (43/82) [0.1s elapsed, eta 0.1]\u001b[32minfo\u001b[39m: File of type: XML and id: PMC7458341 already exists. Skipping.\n",
      "\u001b[2K\u001b[1GDownloading files [\u001b[32m=\u001b[39m\u001b[32m=\u001b[39m\u001b[32m=\u001b[39m\u001b[32m=\u001b[39m\u001b[32m=\u001b[39m\u001b[32m=\u001b[39m\u001b[32m=\u001b[39m\u001b[32m=\u001b[39m\u001b[32m=\u001b[39m\u001b[32m=\u001b[39m\u001b[32m=\u001b[39m\u001b[32m=\u001b[39m\u001b[32m=\u001b[39m-----------] 54% (44/82) [0.1s elapsed, eta 0.1]\u001b[32minfo\u001b[39m: File of type: XML and id: PMC7402651 already exists. Skipping.\n",
      "\u001b[2K\u001b[1GDownloading files [\u001b[32m=\u001b[39m\u001b[32m=\u001b[39m\u001b[32m=\u001b[39m\u001b[32m=\u001b[39m\u001b[32m=\u001b[39m\u001b[32m=\u001b[39m\u001b[32m=\u001b[39m\u001b[32m=\u001b[39m\u001b[32m=\u001b[39m\u001b[32m=\u001b[39m\u001b[32m=\u001b[39m\u001b[32m=\u001b[39m\u001b[32m=\u001b[39m-----------] 55% (45/82) [0.1s elapsed, eta 0.0]\u001b[32minfo\u001b[39m: File of type: XML and id: PMC7386680 already exists. Skipping.\n",
      "\u001b[2K\u001b[1GDownloading files [\u001b[32m=\u001b[39m\u001b[32m=\u001b[39m\u001b[32m=\u001b[39m\u001b[32m=\u001b[39m\u001b[32m=\u001b[39m\u001b[32m=\u001b[39m\u001b[32m=\u001b[39m\u001b[32m=\u001b[39m\u001b[32m=\u001b[39m\u001b[32m=\u001b[39m\u001b[32m=\u001b[39m\u001b[32m=\u001b[39m\u001b[32m=\u001b[39m-----------] 56% (46/82) [0.1s elapsed, eta 0.0]\u001b[32minfo\u001b[39m: File of type: XML and id: PMC7229974 already exists. Skipping.\n",
      "\u001b[2K\u001b[1GDownloading files [\u001b[32m=\u001b[39m\u001b[32m=\u001b[39m\u001b[32m=\u001b[39m\u001b[32m=\u001b[39m\u001b[32m=\u001b[39m\u001b[32m=\u001b[39m\u001b[32m=\u001b[39m\u001b[32m=\u001b[39m\u001b[32m=\u001b[39m\u001b[32m=\u001b[39m\u001b[32m=\u001b[39m\u001b[32m=\u001b[39m\u001b[32m=\u001b[39m\u001b[32m=\u001b[39m----------] 57% (47/82) [0.1s elapsed, eta 0.0]\u001b[32minfo\u001b[39m: File of type: XML and id: PMC7256497 already exists. Skipping.\n",
      "\u001b[2K\u001b[1GDownloading files [\u001b[32m=\u001b[39m\u001b[32m=\u001b[39m\u001b[32m=\u001b[39m\u001b[32m=\u001b[39m\u001b[32m=\u001b[39m\u001b[32m=\u001b[39m\u001b[32m=\u001b[39m\u001b[32m=\u001b[39m\u001b[32m=\u001b[39m\u001b[32m=\u001b[39m\u001b[32m=\u001b[39m\u001b[32m=\u001b[39m\u001b[32m=\u001b[39m\u001b[32m=\u001b[39m----------] 59% (48/82) [0.1s elapsed, eta 0.0]\u001b[32minfo\u001b[39m: File of type: XML and id: PMC7428060 already exists. Skipping.\n",
      "\u001b[2K\u001b[1GDownloading files [\u001b[32m=\u001b[39m\u001b[32m=\u001b[39m\u001b[32m=\u001b[39m\u001b[32m=\u001b[39m\u001b[32m=\u001b[39m\u001b[32m=\u001b[39m\u001b[32m=\u001b[39m\u001b[32m=\u001b[39m\u001b[32m=\u001b[39m\u001b[32m=\u001b[39m\u001b[32m=\u001b[39m\u001b[32m=\u001b[39m\u001b[32m=\u001b[39m\u001b[32m=\u001b[39m----------] 60% (49/82) [0.1s elapsed, eta 0.0]\u001b[32minfo\u001b[39m: File of type: XML and id: PMC7413401 already exists. Skipping.\n",
      "\u001b[2K\u001b[1GDownloading files [\u001b[32m=\u001b[39m\u001b[32m=\u001b[39m\u001b[32m=\u001b[39m\u001b[32m=\u001b[39m\u001b[32m=\u001b[39m\u001b[32m=\u001b[39m\u001b[32m=\u001b[39m\u001b[32m=\u001b[39m\u001b[32m=\u001b[39m\u001b[32m=\u001b[39m\u001b[32m=\u001b[39m\u001b[32m=\u001b[39m\u001b[32m=\u001b[39m\u001b[32m=\u001b[39m\u001b[32m=\u001b[39m---------] 61% (50/82) [0.1s elapsed, eta 0.0]\u001b[32minfo\u001b[39m: File of type: XML and id: PMC7402518 already exists. Skipping.\n",
      "\u001b[2K\u001b[1GDownloading files [\u001b[32m=\u001b[39m\u001b[32m=\u001b[39m\u001b[32m=\u001b[39m\u001b[32m=\u001b[39m\u001b[32m=\u001b[39m\u001b[32m=\u001b[39m\u001b[32m=\u001b[39m\u001b[32m=\u001b[39m\u001b[32m=\u001b[39m\u001b[32m=\u001b[39m\u001b[32m=\u001b[39m\u001b[32m=\u001b[39m\u001b[32m=\u001b[39m\u001b[32m=\u001b[39m\u001b[32m=\u001b[39m---------] 62% (51/82) [0.1s elapsed, eta 0.0]\u001b[32minfo\u001b[39m: File of type: XML and id: PMC7392634 already exists. Skipping.\n",
      "\u001b[2K\u001b[1GDownloading files [\u001b[32m=\u001b[39m\u001b[32m=\u001b[39m\u001b[32m=\u001b[39m\u001b[32m=\u001b[39m\u001b[32m=\u001b[39m\u001b[32m=\u001b[39m\u001b[32m=\u001b[39m\u001b[32m=\u001b[39m\u001b[32m=\u001b[39m\u001b[32m=\u001b[39m\u001b[32m=\u001b[39m\u001b[32m=\u001b[39m\u001b[32m=\u001b[39m\u001b[32m=\u001b[39m\u001b[32m=\u001b[39m---------] 63% (52/82) [0.1s elapsed, eta 0.0]\u001b[32minfo\u001b[39m: File of type: XML and id: PMC7441048 already exists. Skipping.\n",
      "\u001b[2K\u001b[1GDownloading files [\u001b[32m=\u001b[39m\u001b[32m=\u001b[39m\u001b[32m=\u001b[39m\u001b[32m=\u001b[39m\u001b[32m=\u001b[39m\u001b[32m=\u001b[39m\u001b[32m=\u001b[39m\u001b[32m=\u001b[39m\u001b[32m=\u001b[39m\u001b[32m=\u001b[39m\u001b[32m=\u001b[39m\u001b[32m=\u001b[39m\u001b[32m=\u001b[39m\u001b[32m=\u001b[39m\u001b[32m=\u001b[39m\u001b[32m=\u001b[39m--------] 65% (53/82) [0.1s elapsed, eta 0.0]\u001b[32minfo\u001b[39m: File of type: XML and id: PMC7467512 already exists. Skipping.\n",
      "\u001b[2K\u001b[1GDownloading files [\u001b[32m=\u001b[39m\u001b[32m=\u001b[39m\u001b[32m=\u001b[39m\u001b[32m=\u001b[39m\u001b[32m=\u001b[39m\u001b[32m=\u001b[39m\u001b[32m=\u001b[39m\u001b[32m=\u001b[39m\u001b[32m=\u001b[39m\u001b[32m=\u001b[39m\u001b[32m=\u001b[39m\u001b[32m=\u001b[39m\u001b[32m=\u001b[39m\u001b[32m=\u001b[39m\u001b[32m=\u001b[39m\u001b[32m=\u001b[39m--------] 66% (54/82) [0.1s elapsed, eta 0.0]\u001b[32minfo\u001b[39m: File of type: XML and id: PMC7279053 already exists. Skipping.\n",
      "\u001b[2K\u001b[1GDownloading files [\u001b[32m=\u001b[39m\u001b[32m=\u001b[39m\u001b[32m=\u001b[39m\u001b[32m=\u001b[39m\u001b[32m=\u001b[39m\u001b[32m=\u001b[39m\u001b[32m=\u001b[39m\u001b[32m=\u001b[39m\u001b[32m=\u001b[39m\u001b[32m=\u001b[39m\u001b[32m=\u001b[39m\u001b[32m=\u001b[39m\u001b[32m=\u001b[39m\u001b[32m=\u001b[39m\u001b[32m=\u001b[39m\u001b[32m=\u001b[39m--------] 67% (55/82) [0.1s elapsed, eta 0.0]\u001b[32minfo\u001b[39m: File of type: XML and id: PMC7467230 already exists. Skipping.\n",
      "\u001b[2K\u001b[1GDownloading files [\u001b[32m=\u001b[39m\u001b[32m=\u001b[39m\u001b[32m=\u001b[39m\u001b[32m=\u001b[39m\u001b[32m=\u001b[39m\u001b[32m=\u001b[39m\u001b[32m=\u001b[39m\u001b[32m=\u001b[39m\u001b[32m=\u001b[39m\u001b[32m=\u001b[39m\u001b[32m=\u001b[39m\u001b[32m=\u001b[39m\u001b[32m=\u001b[39m\u001b[32m=\u001b[39m\u001b[32m=\u001b[39m\u001b[32m=\u001b[39m--------] 68% (56/82) [0.1s elapsed, eta 0.0]\u001b[32minfo\u001b[39m: File of type: XML and id: PMC7365643 already exists. Skipping.\n",
      "\u001b[2K\u001b[1GDownloading files [\u001b[32m=\u001b[39m\u001b[32m=\u001b[39m\u001b[32m=\u001b[39m\u001b[32m=\u001b[39m\u001b[32m=\u001b[39m\u001b[32m=\u001b[39m\u001b[32m=\u001b[39m\u001b[32m=\u001b[39m\u001b[32m=\u001b[39m\u001b[32m=\u001b[39m\u001b[32m=\u001b[39m\u001b[32m=\u001b[39m\u001b[32m=\u001b[39m\u001b[32m=\u001b[39m\u001b[32m=\u001b[39m\u001b[32m=\u001b[39m\u001b[32m=\u001b[39m-------] 70% (57/82) [0.1s elapsed, eta 0.0]\u001b[32minfo\u001b[39m: File of type: XML and id: PMC7440033 already exists. Skipping.\n",
      "\u001b[2K\u001b[1GDownloading files [\u001b[32m=\u001b[39m\u001b[32m=\u001b[39m\u001b[32m=\u001b[39m\u001b[32m=\u001b[39m\u001b[32m=\u001b[39m\u001b[32m=\u001b[39m\u001b[32m=\u001b[39m\u001b[32m=\u001b[39m\u001b[32m=\u001b[39m\u001b[32m=\u001b[39m\u001b[32m=\u001b[39m\u001b[32m=\u001b[39m\u001b[32m=\u001b[39m\u001b[32m=\u001b[39m\u001b[32m=\u001b[39m\u001b[32m=\u001b[39m\u001b[32m=\u001b[39m-------] 71% (58/82) [0.1s elapsed, eta 0.0]\u001b[32minfo\u001b[39m: File of type: XML and id: PMC7265527 already exists. Skipping.\n",
      "\u001b[2K\u001b[1GDownloading files [\u001b[32m=\u001b[39m\u001b[32m=\u001b[39m\u001b[32m=\u001b[39m\u001b[32m=\u001b[39m\u001b[32m=\u001b[39m\u001b[32m=\u001b[39m\u001b[32m=\u001b[39m\u001b[32m=\u001b[39m\u001b[32m=\u001b[39m\u001b[32m=\u001b[39m\u001b[32m=\u001b[39m\u001b[32m=\u001b[39m\u001b[32m=\u001b[39m\u001b[32m=\u001b[39m\u001b[32m=\u001b[39m\u001b[32m=\u001b[39m\u001b[32m=\u001b[39m-------] 72% (59/82) [0.1s elapsed, eta 0.0]\u001b[32minfo\u001b[39m: File of type: XML and id: PMC7454301 already exists. Skipping.\n",
      "\u001b[2K\u001b[1GDownloading files [\u001b[32m=\u001b[39m\u001b[32m=\u001b[39m\u001b[32m=\u001b[39m\u001b[32m=\u001b[39m\u001b[32m=\u001b[39m\u001b[32m=\u001b[39m\u001b[32m=\u001b[39m\u001b[32m=\u001b[39m\u001b[32m=\u001b[39m\u001b[32m=\u001b[39m\u001b[32m=\u001b[39m\u001b[32m=\u001b[39m\u001b[32m=\u001b[39m\u001b[32m=\u001b[39m\u001b[32m=\u001b[39m\u001b[32m=\u001b[39m\u001b[32m=\u001b[39m\u001b[32m=\u001b[39m------] 73% (60/82) [0.1s elapsed, eta 0.0]\u001b[32minfo\u001b[39m: File of type: XML and id: PMC7414935 already exists. Skipping.\n",
      "\u001b[2K\u001b[1GDownloading files [\u001b[32m=\u001b[39m\u001b[32m=\u001b[39m\u001b[32m=\u001b[39m\u001b[32m=\u001b[39m\u001b[32m=\u001b[39m\u001b[32m=\u001b[39m\u001b[32m=\u001b[39m\u001b[32m=\u001b[39m\u001b[32m=\u001b[39m\u001b[32m=\u001b[39m\u001b[32m=\u001b[39m\u001b[32m=\u001b[39m\u001b[32m=\u001b[39m\u001b[32m=\u001b[39m\u001b[32m=\u001b[39m\u001b[32m=\u001b[39m\u001b[32m=\u001b[39m\u001b[32m=\u001b[39m------] 74% (61/82) [0.1s elapsed, eta 0.0]\u001b[32minfo\u001b[39m: File of type: XML and id: PMC7180007 already exists. Skipping.\n",
      "\u001b[2K\u001b[1GDownloading files [\u001b[32m=\u001b[39m\u001b[32m=\u001b[39m\u001b[32m=\u001b[39m\u001b[32m=\u001b[39m\u001b[32m=\u001b[39m\u001b[32m=\u001b[39m\u001b[32m=\u001b[39m\u001b[32m=\u001b[39m\u001b[32m=\u001b[39m\u001b[32m=\u001b[39m\u001b[32m=\u001b[39m\u001b[32m=\u001b[39m\u001b[32m=\u001b[39m\u001b[32m=\u001b[39m\u001b[32m=\u001b[39m\u001b[32m=\u001b[39m\u001b[32m=\u001b[39m\u001b[32m=\u001b[39m------] 76% (62/82) [0.1s elapsed, eta 0.0]\u001b[32minfo\u001b[39m: File of type: XML and id: PMC7225630 already exists. Skipping.\n",
      "\u001b[2K\u001b[1GDownloading files [\u001b[32m=\u001b[39m\u001b[32m=\u001b[39m\u001b[32m=\u001b[39m\u001b[32m=\u001b[39m\u001b[32m=\u001b[39m\u001b[32m=\u001b[39m\u001b[32m=\u001b[39m\u001b[32m=\u001b[39m\u001b[32m=\u001b[39m\u001b[32m=\u001b[39m\u001b[32m=\u001b[39m\u001b[32m=\u001b[39m\u001b[32m=\u001b[39m\u001b[32m=\u001b[39m\u001b[32m=\u001b[39m\u001b[32m=\u001b[39m\u001b[32m=\u001b[39m\u001b[32m=\u001b[39m------] 77% (63/82) [0.1s elapsed, eta 0.0]\u001b[32minfo\u001b[39m: File of type: XML and id: PMC7309641 already exists. Skipping.\n",
      "\u001b[2K\u001b[1GDownloading files [\u001b[32m=\u001b[39m\u001b[32m=\u001b[39m\u001b[32m=\u001b[39m\u001b[32m=\u001b[39m\u001b[32m=\u001b[39m\u001b[32m=\u001b[39m\u001b[32m=\u001b[39m\u001b[32m=\u001b[39m\u001b[32m=\u001b[39m\u001b[32m=\u001b[39m\u001b[32m=\u001b[39m\u001b[32m=\u001b[39m\u001b[32m=\u001b[39m\u001b[32m=\u001b[39m\u001b[32m=\u001b[39m\u001b[32m=\u001b[39m\u001b[32m=\u001b[39m\u001b[32m=\u001b[39m\u001b[32m=\u001b[39m-----] 78% (64/82) [0.1s elapsed, eta 0.0]\u001b[32minfo\u001b[39m: File of type: XML and id: PMC3004943 already exists. Skipping.\n",
      "\u001b[2K\u001b[1GDownloading files [\u001b[32m=\u001b[39m\u001b[32m=\u001b[39m\u001b[32m=\u001b[39m\u001b[32m=\u001b[39m\u001b[32m=\u001b[39m\u001b[32m=\u001b[39m\u001b[32m=\u001b[39m\u001b[32m=\u001b[39m\u001b[32m=\u001b[39m\u001b[32m=\u001b[39m\u001b[32m=\u001b[39m\u001b[32m=\u001b[39m\u001b[32m=\u001b[39m\u001b[32m=\u001b[39m\u001b[32m=\u001b[39m\u001b[32m=\u001b[39m\u001b[32m=\u001b[39m\u001b[32m=\u001b[39m\u001b[32m=\u001b[39m-----] 79% (65/82) [0.1s elapsed, eta 0.0]\u001b[32minfo\u001b[39m: File of type: XML and id: PMC7316359 already exists. Skipping.\n",
      "\u001b[2K\u001b[1GDownloading files [\u001b[32m=\u001b[39m\u001b[32m=\u001b[39m\u001b[32m=\u001b[39m\u001b[32m=\u001b[39m\u001b[32m=\u001b[39m\u001b[32m=\u001b[39m\u001b[32m=\u001b[39m\u001b[32m=\u001b[39m\u001b[32m=\u001b[39m\u001b[32m=\u001b[39m\u001b[32m=\u001b[39m\u001b[32m=\u001b[39m\u001b[32m=\u001b[39m\u001b[32m=\u001b[39m\u001b[32m=\u001b[39m\u001b[32m=\u001b[39m\u001b[32m=\u001b[39m\u001b[32m=\u001b[39m\u001b[32m=\u001b[39m-----] 80% (66/82) [0.1s elapsed, eta 0.0]\u001b[32minfo\u001b[39m: File of type: XML and id: PMC7326430 already exists. Skipping.\n",
      "\u001b[2K\u001b[1GDownloading files [\u001b[32m=\u001b[39m\u001b[32m=\u001b[39m\u001b[32m=\u001b[39m\u001b[32m=\u001b[39m\u001b[32m=\u001b[39m\u001b[32m=\u001b[39m\u001b[32m=\u001b[39m\u001b[32m=\u001b[39m\u001b[32m=\u001b[39m\u001b[32m=\u001b[39m\u001b[32m=\u001b[39m\u001b[32m=\u001b[39m\u001b[32m=\u001b[39m\u001b[32m=\u001b[39m\u001b[32m=\u001b[39m\u001b[32m=\u001b[39m\u001b[32m=\u001b[39m\u001b[32m=\u001b[39m\u001b[32m=\u001b[39m\u001b[32m=\u001b[39m----] 82% (67/82) [0.1s elapsed, eta 0.0]\u001b[32minfo\u001b[39m: File of type: XML and id: PMC7365411 already exists. Skipping.\n",
      "\u001b[2K\u001b[1GDownloading files [\u001b[32m=\u001b[39m\u001b[32m=\u001b[39m\u001b[32m=\u001b[39m\u001b[32m=\u001b[39m\u001b[32m=\u001b[39m\u001b[32m=\u001b[39m\u001b[32m=\u001b[39m\u001b[32m=\u001b[39m\u001b[32m=\u001b[39m\u001b[32m=\u001b[39m\u001b[32m=\u001b[39m\u001b[32m=\u001b[39m\u001b[32m=\u001b[39m\u001b[32m=\u001b[39m\u001b[32m=\u001b[39m\u001b[32m=\u001b[39m\u001b[32m=\u001b[39m\u001b[32m=\u001b[39m\u001b[32m=\u001b[39m\u001b[32m=\u001b[39m----] 83% (68/82) [0.1s elapsed, eta 0.0]\u001b[32minfo\u001b[39m: File of type: XML and id: PMC7462751 already exists. Skipping.\n",
      "\u001b[2K\u001b[1GDownloading files [\u001b[32m=\u001b[39m\u001b[32m=\u001b[39m\u001b[32m=\u001b[39m\u001b[32m=\u001b[39m\u001b[32m=\u001b[39m\u001b[32m=\u001b[39m\u001b[32m=\u001b[39m\u001b[32m=\u001b[39m\u001b[32m=\u001b[39m\u001b[32m=\u001b[39m\u001b[32m=\u001b[39m\u001b[32m=\u001b[39m\u001b[32m=\u001b[39m\u001b[32m=\u001b[39m\u001b[32m=\u001b[39m\u001b[32m=\u001b[39m\u001b[32m=\u001b[39m\u001b[32m=\u001b[39m\u001b[32m=\u001b[39m\u001b[32m=\u001b[39m----] 84% (69/82) [0.1s elapsed, eta 0.0]\u001b[32minfo\u001b[39m: File of type: XML and id: PMC7373336 already exists. Skipping.\n",
      "\u001b[2K\u001b[1GDownloading files [\u001b[32m=\u001b[39m\u001b[32m=\u001b[39m\u001b[32m=\u001b[39m\u001b[32m=\u001b[39m\u001b[32m=\u001b[39m\u001b[32m=\u001b[39m\u001b[32m=\u001b[39m\u001b[32m=\u001b[39m\u001b[32m=\u001b[39m\u001b[32m=\u001b[39m\u001b[32m=\u001b[39m\u001b[32m=\u001b[39m\u001b[32m=\u001b[39m\u001b[32m=\u001b[39m\u001b[32m=\u001b[39m\u001b[32m=\u001b[39m\u001b[32m=\u001b[39m\u001b[32m=\u001b[39m\u001b[32m=\u001b[39m\u001b[32m=\u001b[39m----] 85% (70/82) [0.1s elapsed, eta 0.0]\u001b[32minfo\u001b[39m: File of type: XML and id: PMC7448857 already exists. Skipping.\n",
      "\u001b[2K\u001b[1GDownloading files [\u001b[32m=\u001b[39m\u001b[32m=\u001b[39m\u001b[32m=\u001b[39m\u001b[32m=\u001b[39m\u001b[32m=\u001b[39m\u001b[32m=\u001b[39m\u001b[32m=\u001b[39m\u001b[32m=\u001b[39m\u001b[32m=\u001b[39m\u001b[32m=\u001b[39m\u001b[32m=\u001b[39m\u001b[32m=\u001b[39m\u001b[32m=\u001b[39m\u001b[32m=\u001b[39m\u001b[32m=\u001b[39m\u001b[32m=\u001b[39m\u001b[32m=\u001b[39m\u001b[32m=\u001b[39m\u001b[32m=\u001b[39m\u001b[32m=\u001b[39m\u001b[32m=\u001b[39m---] 87% (71/82) [0.1s elapsed, eta 0.0]\u001b[32minfo\u001b[39m: File of type: XML and id: PMC7323437 already exists. Skipping.\n",
      "\u001b[2K\u001b[1GDownloading files [\u001b[32m=\u001b[39m\u001b[32m=\u001b[39m\u001b[32m=\u001b[39m\u001b[32m=\u001b[39m\u001b[32m=\u001b[39m\u001b[32m=\u001b[39m\u001b[32m=\u001b[39m\u001b[32m=\u001b[39m\u001b[32m=\u001b[39m\u001b[32m=\u001b[39m\u001b[32m=\u001b[39m\u001b[32m=\u001b[39m\u001b[32m=\u001b[39m\u001b[32m=\u001b[39m\u001b[32m=\u001b[39m\u001b[32m=\u001b[39m\u001b[32m=\u001b[39m\u001b[32m=\u001b[39m\u001b[32m=\u001b[39m\u001b[32m=\u001b[39m\u001b[32m=\u001b[39m---] 88% (72/82) [0.1s elapsed, eta 0.0]\u001b[32minfo\u001b[39m: File of type: XML and id: PMC7454771 already exists. Skipping.\n",
      "\u001b[2K\u001b[1GDownloading files [\u001b[32m=\u001b[39m\u001b[32m=\u001b[39m\u001b[32m=\u001b[39m\u001b[32m=\u001b[39m\u001b[32m=\u001b[39m\u001b[32m=\u001b[39m\u001b[32m=\u001b[39m\u001b[32m=\u001b[39m\u001b[32m=\u001b[39m\u001b[32m=\u001b[39m\u001b[32m=\u001b[39m\u001b[32m=\u001b[39m\u001b[32m=\u001b[39m\u001b[32m=\u001b[39m\u001b[32m=\u001b[39m\u001b[32m=\u001b[39m\u001b[32m=\u001b[39m\u001b[32m=\u001b[39m\u001b[32m=\u001b[39m\u001b[32m=\u001b[39m\u001b[32m=\u001b[39m---] 89% (73/82) [0.1s elapsed, eta 0.0]\u001b[32minfo\u001b[39m: File of type: XML and id: PMC7320681 already exists. Skipping.\n",
      "\u001b[2K\u001b[1GDownloading files [\u001b[32m=\u001b[39m\u001b[32m=\u001b[39m\u001b[32m=\u001b[39m\u001b[32m=\u001b[39m\u001b[32m=\u001b[39m\u001b[32m=\u001b[39m\u001b[32m=\u001b[39m\u001b[32m=\u001b[39m\u001b[32m=\u001b[39m\u001b[32m=\u001b[39m\u001b[32m=\u001b[39m\u001b[32m=\u001b[39m\u001b[32m=\u001b[39m\u001b[32m=\u001b[39m\u001b[32m=\u001b[39m\u001b[32m=\u001b[39m\u001b[32m=\u001b[39m\u001b[32m=\u001b[39m\u001b[32m=\u001b[39m\u001b[32m=\u001b[39m\u001b[32m=\u001b[39m\u001b[32m=\u001b[39m--] 90% (74/82) [0.1s elapsed, eta 0.0]\u001b[32minfo\u001b[39m: File of type: XML and id: PMC7341479 already exists. Skipping.\n",
      "\u001b[2K\u001b[1GDownloading files [\u001b[32m=\u001b[39m\u001b[32m=\u001b[39m\u001b[32m=\u001b[39m\u001b[32m=\u001b[39m\u001b[32m=\u001b[39m\u001b[32m=\u001b[39m\u001b[32m=\u001b[39m\u001b[32m=\u001b[39m\u001b[32m=\u001b[39m\u001b[32m=\u001b[39m\u001b[32m=\u001b[39m\u001b[32m=\u001b[39m\u001b[32m=\u001b[39m\u001b[32m=\u001b[39m\u001b[32m=\u001b[39m\u001b[32m=\u001b[39m\u001b[32m=\u001b[39m\u001b[32m=\u001b[39m\u001b[32m=\u001b[39m\u001b[32m=\u001b[39m\u001b[32m=\u001b[39m\u001b[32m=\u001b[39m--] 91% (75/82) [0.1s elapsed, eta 0.0]\u001b[32minfo\u001b[39m: File of type: XML and id: PMC7283747 already exists. Skipping.\n",
      "\u001b[2K\u001b[1GDownloading files [\u001b[32m=\u001b[39m\u001b[32m=\u001b[39m\u001b[32m=\u001b[39m\u001b[32m=\u001b[39m\u001b[32m=\u001b[39m\u001b[32m=\u001b[39m\u001b[32m=\u001b[39m\u001b[32m=\u001b[39m\u001b[32m=\u001b[39m\u001b[32m=\u001b[39m\u001b[32m=\u001b[39m\u001b[32m=\u001b[39m\u001b[32m=\u001b[39m\u001b[32m=\u001b[39m\u001b[32m=\u001b[39m\u001b[32m=\u001b[39m\u001b[32m=\u001b[39m\u001b[32m=\u001b[39m\u001b[32m=\u001b[39m\u001b[32m=\u001b[39m\u001b[32m=\u001b[39m\u001b[32m=\u001b[39m--] 93% (76/82) [0.1s elapsed, eta 0.0]\u001b[32minfo\u001b[39m: File of type: XML and id: PMC7361333 already exists. Skipping.\n",
      "\u001b[2K\u001b[1GDownloading files [\u001b[32m=\u001b[39m\u001b[32m=\u001b[39m\u001b[32m=\u001b[39m\u001b[32m=\u001b[39m\u001b[32m=\u001b[39m\u001b[32m=\u001b[39m\u001b[32m=\u001b[39m\u001b[32m=\u001b[39m\u001b[32m=\u001b[39m\u001b[32m=\u001b[39m\u001b[32m=\u001b[39m\u001b[32m=\u001b[39m\u001b[32m=\u001b[39m\u001b[32m=\u001b[39m\u001b[32m=\u001b[39m\u001b[32m=\u001b[39m\u001b[32m=\u001b[39m\u001b[32m=\u001b[39m\u001b[32m=\u001b[39m\u001b[32m=\u001b[39m\u001b[32m=\u001b[39m\u001b[32m=\u001b[39m\u001b[32m=\u001b[39m-] 94% (77/82) [0.1s elapsed, eta 0.0]\u001b[32minfo\u001b[39m: File of type: XML and id: PMC7482569 already exists. Skipping.\n",
      "\u001b[2K\u001b[1GDownloading files [\u001b[32m=\u001b[39m\u001b[32m=\u001b[39m\u001b[32m=\u001b[39m\u001b[32m=\u001b[39m\u001b[32m=\u001b[39m\u001b[32m=\u001b[39m\u001b[32m=\u001b[39m\u001b[32m=\u001b[39m\u001b[32m=\u001b[39m\u001b[32m=\u001b[39m\u001b[32m=\u001b[39m\u001b[32m=\u001b[39m\u001b[32m=\u001b[39m\u001b[32m=\u001b[39m\u001b[32m=\u001b[39m\u001b[32m=\u001b[39m\u001b[32m=\u001b[39m\u001b[32m=\u001b[39m\u001b[32m=\u001b[39m\u001b[32m=\u001b[39m\u001b[32m=\u001b[39m\u001b[32m=\u001b[39m\u001b[32m=\u001b[39m-] 95% (78/82) [0.1s elapsed, eta 0.0]\u001b[32minfo\u001b[39m: File of type: XML and id: PMC7332278 already exists. Skipping.\n",
      "\u001b[2K\u001b[1GDownloading files [\u001b[32m=\u001b[39m\u001b[32m=\u001b[39m\u001b[32m=\u001b[39m\u001b[32m=\u001b[39m\u001b[32m=\u001b[39m\u001b[32m=\u001b[39m\u001b[32m=\u001b[39m\u001b[32m=\u001b[39m\u001b[32m=\u001b[39m\u001b[32m=\u001b[39m\u001b[32m=\u001b[39m\u001b[32m=\u001b[39m\u001b[32m=\u001b[39m\u001b[32m=\u001b[39m\u001b[32m=\u001b[39m\u001b[32m=\u001b[39m\u001b[32m=\u001b[39m\u001b[32m=\u001b[39m\u001b[32m=\u001b[39m\u001b[32m=\u001b[39m\u001b[32m=\u001b[39m\u001b[32m=\u001b[39m\u001b[32m=\u001b[39m-] 96% (79/82) [0.1s elapsed, eta 0.0]\u001b[32minfo\u001b[39m: File of type: XML and id: PMC7362058 already exists. Skipping.\n",
      "\u001b[2K\u001b[1GDownloading files [\u001b[32m=\u001b[39m\u001b[32m=\u001b[39m\u001b[32m=\u001b[39m\u001b[32m=\u001b[39m\u001b[32m=\u001b[39m\u001b[32m=\u001b[39m\u001b[32m=\u001b[39m\u001b[32m=\u001b[39m\u001b[32m=\u001b[39m\u001b[32m=\u001b[39m\u001b[32m=\u001b[39m\u001b[32m=\u001b[39m\u001b[32m=\u001b[39m\u001b[32m=\u001b[39m\u001b[32m=\u001b[39m\u001b[32m=\u001b[39m\u001b[32m=\u001b[39m\u001b[32m=\u001b[39m\u001b[32m=\u001b[39m\u001b[32m=\u001b[39m\u001b[32m=\u001b[39m\u001b[32m=\u001b[39m\u001b[32m=\u001b[39m-] 98% (80/82) [0.1s elapsed, eta 0.0]\u001b[32minfo\u001b[39m: File of type: XML and id: PMC7376323 already exists. Skipping.\n",
      "\u001b[2K\u001b[1GDownloading files [\u001b[32m=\u001b[39m\u001b[32m=\u001b[39m\u001b[32m=\u001b[39m\u001b[32m=\u001b[39m\u001b[32m=\u001b[39m\u001b[32m=\u001b[39m\u001b[32m=\u001b[39m\u001b[32m=\u001b[39m\u001b[32m=\u001b[39m\u001b[32m=\u001b[39m\u001b[32m=\u001b[39m\u001b[32m=\u001b[39m\u001b[32m=\u001b[39m\u001b[32m=\u001b[39m\u001b[32m=\u001b[39m\u001b[32m=\u001b[39m\u001b[32m=\u001b[39m\u001b[32m=\u001b[39m\u001b[32m=\u001b[39m\u001b[32m=\u001b[39m\u001b[32m=\u001b[39m\u001b[32m=\u001b[39m\u001b[32m=\u001b[39m\u001b[32m=\u001b[39m] 99% (81/82) [0.1s elapsed, eta 0.0]\u001b[32minfo\u001b[39m: File of type: XML and id: PMC7309422 already exists. Skipping.\n",
      "\u001b[2K\u001b[1GDownloading files [\u001b[32m=\u001b[39m\u001b[32m=\u001b[39m\u001b[32m=\u001b[39m\u001b[32m=\u001b[39m\u001b[32m=\u001b[39m\u001b[32m=\u001b[39m\u001b[32m=\u001b[39m\u001b[32m=\u001b[39m\u001b[32m=\u001b[39m\u001b[32m=\u001b[39m\u001b[32m=\u001b[39m\u001b[32m=\u001b[39m\u001b[32m=\u001b[39m\u001b[32m=\u001b[39m\u001b[32m=\u001b[39m\u001b[32m=\u001b[39m\u001b[32m=\u001b[39m\u001b[32m=\u001b[39m\u001b[32m=\u001b[39m\u001b[32m=\u001b[39m\u001b[32m=\u001b[39m\u001b[32m=\u001b[39m\u001b[32m=\u001b[39m] 100% (82/82) [0.1s elapsed, eta 0.0]\n",
      "\u001b[32minfo\u001b[39m: File of type: XML and id: PMC7454384 already exists. Skipping.\n",
      "\u001b[32minfo\u001b[39m: File of type: XML and id: PMC6964091 already exists. Skipping.\n",
      "\u001b[32minfo\u001b[39m: File of type: XML and id: PMC7431640 already exists. Skipping.\n",
      "\u001b[32minfo\u001b[39m: File of type: XML and id: PMC7182292 already exists. Skipping.\n",
      "\u001b[32minfo\u001b[39m: File of type: XML and id: PMC7423499 already exists. Skipping.\n"
     ]
    },
    {
     "name": "stdout",
     "output_type": "stream",
     "text": [
      "\u001b[32minfo\u001b[39m: File of type: XML and id: PMC7445369 already exists. Skipping.\r\n",
      "\u001b[32minfo\u001b[39m: File of type: XML and id: PMC7469891 already exists. Skipping.\r\n",
      "\u001b[32minfo\u001b[39m: File of type: XML and id: PMC7098263 already exists. Skipping.\r\n",
      "\u001b[32minfo\u001b[39m: File of type: XML and id: PMC7472381 already exists. Skipping.\r\n",
      "\u001b[32minfo\u001b[39m: File of type: XML and id: PMC7466926 already exists. Skipping.\r\n"
     ]
    }
   ],
   "source": [
    "! getpapers -q \"$EPMC\" -o $PROJECT -x -k $HITS"
   ]
  },
  {
   "cell_type": "markdown",
   "metadata": {},
   "source": [
    "## `ami search` on results of `getpapers`\n",
    "\n",
    "This requires one or more dictionaries (space-separated) in DICTIONARIES\n",
    "It can transform/search 1-3 papers/sec and is quicker the second time around. "
   ]
  },
  {
   "cell_type": "code",
   "execution_count": 15,
   "metadata": {},
   "outputs": [
    {
     "name": "stdout",
     "output_type": "stream",
     "text": [
      "\n",
      "Generic values (AMISearchTool)\n",
      "================================\n",
      "\n",
      "Specific values (AMISearchTool)\n",
      "================================\n",
      "created COMMAND: word(frequencies)xpath:@count>20~w.stopwords:pmcstop.txt_stopwords.txt search(drugs) search(disease) search(country)\n",
      "cProject: drugs_disease_country\n",
      "created COMMAND: word(frequencies)xpath:@count>20~w.stopwords:pmcstop.txt_stopwords.txt search(drugs) search(disease) search(country)\n",
      "legacy cmd> word(frequencies)xpath:@count>20~w.stopwords:pmcstop.txt_stopwords.txt\n",
      "legacy cmd> search(drugs)\n",
      "legacy cmd> search(disease)\n",
      "legacy cmd> search(country)\n",
      "!10.1101 .PMC3004943 PMC3561042 !PMC6517453 PMC6695746 PMC6964091 PMC7098263 PMC7102705 PMC7119083 PMC7120695 PMC7144339 .!PMC7164915 PMC7180007 !PMC7180667 PMC7182292 PMC7197577 PMC7202122 PMC7203543 PMC7225630 PMC7229974 PMC7241517 .PMC7245250 PMC7256497 PMC7257617 PMC7265527 PMC7279053 PMC7283747 PMC7298473 PMC7300792 PMC7309422 PMC7309641 .!PMC7314157 PMC7316359 PMC7320681 PMC7323437 PMC7326430 PMC7332278 PMC7338960 PMC7341479 PMC7341712 PMC7361333 .PMC7362058 PMC7365411 PMC7365643 !PMC7371815 PMC7373336 PMC7376323 PMC7386680 !PMC7391983 PMC7392634 PMC7395586 .PMC7402518 PMC7402651 PMC7402669 PMC7404095 PMC7409732 PMC7413401 PMC7414693 PMC7414935 PMC7416915 PMC7419580 .PMC7423094 PMC7423499 PMC7427094 PMC7427313 PMC7428060 PMC7431640 PMC7435559 PMC7440033 PMC7441048 PMC7445369 .PMC7448857 PMC7454301 PMC7454384 PMC7454771 PMC7458341 PMC7459150 PMC7461001 PMC7461190 PMC7462751 PMC7466926 .!PMC7467093 PMC7467230 PMC7467512 PMC7469891 PMC7470771 PMC7472381 PMC7482569 !PMC7485949 !PMC7486873 PMC7494453 .PMC7499620 !PMC7508551 !PMC7513765 !PMC7513919 !PMC7515607 !PMC7516517 !PMC7516576 Cannot read stopword stream: /org/contentmine/ami/wordutil, ami3, version 2020/08/09_09/54-NEXT-SNAPSHOT/pmcstop.txt\n",
      "Cannot read stopword stream: /org/contentmine/ami/wordutil, ami3, version 2020/08/09_09/54-NEXT-SNAPSHOT/stopwords.txt\n",
      "10.1101 !w.PMC3004943 PMC3561042 PMC6517453 !wPMC6695746 PMC6964091 PMC7098263 PMC7102705 PMC7119083 PMC7120695 PMC7144339 .PMC7164915 !wPMC7180007 PMC7180667 !wPMC7182292 PMC7197577 PMC7202122 PMC7203543 PMC7225630 PMC7229974 PMC7241517 .PMC7245250 PMC7256497 PMC7257617 PMC7265527 PMC7279053 PMC7283747 PMC7298473 PMC7300792 PMC7309422 PMC7309641 .PMC7314157 !wPMC7316359 PMC7320681 PMC7323437 PMC7326430 PMC7332278 PMC7338960 PMC7341479 PMC7341712 PMC7361333 .PMC7362058 PMC7365411 PMC7365643 PMC7371815 !wPMC7373336 PMC7376323 PMC7386680 PMC7391983 !wPMC7392634 PMC7395586 .PMC7402518 PMC7402651 PMC7402669 PMC7404095 PMC7409732 PMC7413401 PMC7414693 PMC7414935 PMC7416915 PMC7419580 .PMC7423094 PMC7423499 PMC7427094 PMC7427313 PMC7428060 PMC7431640 PMC7435559 PMC7440033 PMC7441048 PMC7445369 .PMC7448857 PMC7454301 PMC7454384 PMC7454771 PMC7458341 PMC7459150 PMC7461001 PMC7461190 PMC7462751 PMC7466926 .PMC7467093 !wPMC7467230 PMC7467512 PMC7469891 PMC7470771 PMC7472381 PMC7482569 PMC7485949 !wPMC7486873 !wPMC7494453 .PMC7499620 PMC7508551 !wPMC7513765 !wPMC7513919 !wPMC7515607 !wPMC7516517 !wPMC7516576 !w..............................................................................................................\n",
      "create data tables\n",
      "rrrrrrrrrrrrrrrrrrrrrrrrrrrrrrrrrrrr"
     ]
    }
   ],
   "source": [
    "! ami -p $PROJECT search --dictionary $DICTIONARIES"
   ]
  },
  {
   "cell_type": "code",
   "execution_count": 16,
   "metadata": {},
   "outputs": [
    {
     "name": "stdout",
     "output_type": "stream",
     "text": [
      "\u001b[34m10.1101\u001b[m\u001b[m/                        \u001b[34mPMC7416915\u001b[m\u001b[m/\r\n",
      "\u001b[34mPMC3004943\u001b[m\u001b[m/                     \u001b[34mPMC7419580\u001b[m\u001b[m/\r\n",
      "\u001b[34mPMC3561042\u001b[m\u001b[m/                     \u001b[34mPMC7423094\u001b[m\u001b[m/\r\n",
      "\u001b[34mPMC6517453\u001b[m\u001b[m/                     \u001b[34mPMC7423499\u001b[m\u001b[m/\r\n",
      "\u001b[34mPMC6695746\u001b[m\u001b[m/                     \u001b[34mPMC7427094\u001b[m\u001b[m/\r\n",
      "\u001b[34mPMC6964091\u001b[m\u001b[m/                     \u001b[34mPMC7427313\u001b[m\u001b[m/\r\n",
      "\u001b[34mPMC7098263\u001b[m\u001b[m/                     \u001b[34mPMC7428060\u001b[m\u001b[m/\r\n",
      "\u001b[34mPMC7102705\u001b[m\u001b[m/                     \u001b[34mPMC7431640\u001b[m\u001b[m/\r\n",
      "\u001b[34mPMC7119083\u001b[m\u001b[m/                     \u001b[34mPMC7435559\u001b[m\u001b[m/\r\n",
      "\u001b[34mPMC7120695\u001b[m\u001b[m/                     \u001b[34mPMC7440033\u001b[m\u001b[m/\r\n",
      "\u001b[34mPMC7144339\u001b[m\u001b[m/                     \u001b[34mPMC7441048\u001b[m\u001b[m/\r\n",
      "\u001b[34mPMC7164915\u001b[m\u001b[m/                     \u001b[34mPMC7445369\u001b[m\u001b[m/\r\n",
      "\u001b[34mPMC7180007\u001b[m\u001b[m/                     \u001b[34mPMC7448857\u001b[m\u001b[m/\r\n",
      "\u001b[34mPMC7180667\u001b[m\u001b[m/                     \u001b[34mPMC7454301\u001b[m\u001b[m/\r\n",
      "\u001b[34mPMC7182292\u001b[m\u001b[m/                     \u001b[34mPMC7454384\u001b[m\u001b[m/\r\n",
      "\u001b[34mPMC7197577\u001b[m\u001b[m/                     \u001b[34mPMC7454771\u001b[m\u001b[m/\r\n",
      "\u001b[34mPMC7202122\u001b[m\u001b[m/                     \u001b[34mPMC7458341\u001b[m\u001b[m/\r\n",
      "\u001b[34mPMC7203543\u001b[m\u001b[m/                     \u001b[34mPMC7459150\u001b[m\u001b[m/\r\n",
      "\u001b[34mPMC7225630\u001b[m\u001b[m/                     \u001b[34mPMC7461001\u001b[m\u001b[m/\r\n",
      "\u001b[34mPMC7229974\u001b[m\u001b[m/                     \u001b[34mPMC7461190\u001b[m\u001b[m/\r\n",
      "\u001b[34mPMC7241517\u001b[m\u001b[m/                     \u001b[34mPMC7462751\u001b[m\u001b[m/\r\n",
      "\u001b[34mPMC7245250\u001b[m\u001b[m/                     \u001b[34mPMC7466926\u001b[m\u001b[m/\r\n",
      "\u001b[34mPMC7256497\u001b[m\u001b[m/                     \u001b[34mPMC7467093\u001b[m\u001b[m/\r\n",
      "\u001b[34mPMC7257617\u001b[m\u001b[m/                     \u001b[34mPMC7467230\u001b[m\u001b[m/\r\n",
      "\u001b[34mPMC7265527\u001b[m\u001b[m/                     \u001b[34mPMC7467512\u001b[m\u001b[m/\r\n",
      "\u001b[34mPMC7279053\u001b[m\u001b[m/                     \u001b[34mPMC7469891\u001b[m\u001b[m/\r\n",
      "\u001b[34mPMC7283747\u001b[m\u001b[m/                     \u001b[34mPMC7470771\u001b[m\u001b[m/\r\n",
      "\u001b[34mPMC7298473\u001b[m\u001b[m/                     \u001b[34mPMC7472381\u001b[m\u001b[m/\r\n",
      "\u001b[34mPMC7300792\u001b[m\u001b[m/                     \u001b[34mPMC7482569\u001b[m\u001b[m/\r\n",
      "\u001b[34mPMC7309422\u001b[m\u001b[m/                     \u001b[34mPMC7485949\u001b[m\u001b[m/\r\n",
      "\u001b[34mPMC7309641\u001b[m\u001b[m/                     \u001b[34mPMC7486873\u001b[m\u001b[m/\r\n",
      "\u001b[34mPMC7314157\u001b[m\u001b[m/                     \u001b[34mPMC7494453\u001b[m\u001b[m/\r\n",
      "\u001b[34mPMC7316359\u001b[m\u001b[m/                     \u001b[34mPMC7499620\u001b[m\u001b[m/\r\n",
      "\u001b[34mPMC7320681\u001b[m\u001b[m/                     \u001b[34mPMC7508551\u001b[m\u001b[m/\r\n",
      "\u001b[34mPMC7323437\u001b[m\u001b[m/                     \u001b[34mPMC7513765\u001b[m\u001b[m/\r\n",
      "\u001b[34mPMC7326430\u001b[m\u001b[m/                     \u001b[34mPMC7513919\u001b[m\u001b[m/\r\n",
      "\u001b[34mPMC7332278\u001b[m\u001b[m/                     \u001b[34mPMC7515607\u001b[m\u001b[m/\r\n",
      "\u001b[34mPMC7338960\u001b[m\u001b[m/                     \u001b[34mPMC7516517\u001b[m\u001b[m/\r\n",
      "\u001b[34mPMC7341479\u001b[m\u001b[m/                     \u001b[34mPMC7516576\u001b[m\u001b[m/\r\n",
      "\u001b[34mPMC7341712\u001b[m\u001b[m/                     \u001b[34m__cooccurrence\u001b[m\u001b[m/\r\n",
      "\u001b[34mPMC7361333\u001b[m\u001b[m/                     commonest.dataTables.html\r\n",
      "\u001b[34mPMC7362058\u001b[m\u001b[m/                     count.dataTables.html\r\n",
      "\u001b[34mPMC7365411\u001b[m\u001b[m/                     entries.dataTables.html\r\n",
      "\u001b[34mPMC7365643\u001b[m\u001b[m/                     eupmc_fulltext_html_urls.txt\r\n",
      "\u001b[34mPMC7371815\u001b[m\u001b[m/                     eupmc_results.json\r\n",
      "\u001b[34mPMC7373336\u001b[m\u001b[m/                     full.dataTables.html\r\n",
      "\u001b[34mPMC7376323\u001b[m\u001b[m/                     search.country.count.xml\r\n",
      "\u001b[34mPMC7386680\u001b[m\u001b[m/                     search.country.documents.xml\r\n",
      "\u001b[34mPMC7391983\u001b[m\u001b[m/                     search.country.snippets.xml\r\n",
      "\u001b[34mPMC7392634\u001b[m\u001b[m/                     search.disease.count.xml\r\n",
      "\u001b[34mPMC7395586\u001b[m\u001b[m/                     search.disease.documents.xml\r\n",
      "\u001b[34mPMC7402518\u001b[m\u001b[m/                     search.disease.snippets.xml\r\n",
      "\u001b[34mPMC7402651\u001b[m\u001b[m/                     search.drugs.count.xml\r\n",
      "\u001b[34mPMC7402669\u001b[m\u001b[m/                     search.drugs.documents.xml\r\n",
      "\u001b[34mPMC7404095\u001b[m\u001b[m/                     search.drugs.snippets.xml\r\n",
      "\u001b[34mPMC7409732\u001b[m\u001b[m/                     word.frequencies.count.xml\r\n",
      "\u001b[34mPMC7413401\u001b[m\u001b[m/                     word.frequencies.documents.xml\r\n",
      "\u001b[34mPMC7414693\u001b[m\u001b[m/                     word.frequencies.snippets.xml\r\n",
      "\u001b[34mPMC7414935\u001b[m\u001b[m/\r\n"
     ]
    }
   ],
   "source": [
    "ls $PROJECT"
   ]
  },
  {
   "cell_type": "markdown",
   "metadata": {},
   "source": [
    "[dashboard](drugs_disease_country/full.dataTables.html)"
   ]
  },
  {
   "cell_type": "code",
   "execution_count": 17,
   "metadata": {},
   "outputs": [],
   "source": [
    "## cooccurrence plots\n",
    "\n",
    "### First, list the plots"
   ]
  },
  {
   "cell_type": "code",
   "execution_count": 18,
   "metadata": {},
   "outputs": [
    {
     "name": "stdout",
     "output_type": "stream",
     "text": [
      "allPlots.svg    \u001b[34mcountry-country\u001b[m\u001b[m \u001b[34mdisease-country\u001b[m\u001b[m \u001b[34mdrugs\u001b[m\u001b[m           \u001b[34mdrugs-disease\u001b[m\u001b[m\n",
      "\u001b[34mcountry\u001b[m\u001b[m         \u001b[34mdisease\u001b[m\u001b[m         \u001b[34mdisease-disease\u001b[m\u001b[m \u001b[34mdrugs-country\u001b[m\u001b[m   \u001b[34mdrugs-drugs\u001b[m\u001b[m\n",
      "drugs_disease_country/__cooccurrence/allPlots.svg\n"
     ]
    }
   ],
   "source": [
    "! ls $PROJECT/__cooccurrence/\n",
    "! ls $PROJECT/__cooccurrence/allPlots.svg \n",
    "# this is a kludge until we work out how to display the file\n",
    "! cp $PROJECT/__cooccurrence/allPlots.svg tempAllPlots.svg"
   ]
  },
  {
   "cell_type": "markdown",
   "metadata": {},
   "source": [
    "### display the all-vs-all plot\n",
    "*WARNING uses a temp file - we need to find a generic way with `display()`\n"
   ]
  },
  {
   "cell_type": "markdown",
   "metadata": {},
   "source": [
    "## all-by-all plots\n",
    "<img src=\"tempAllPlots.svg\">\n",
    "\n",
    "licence\n",
    "![Alt text](https://mirrors.creativecommons.org/presskit/logos/cc.logo.svg)\n",
    "\n"
   ]
  },
  {
   "cell_type": "code",
   "execution_count": null,
   "metadata": {},
   "outputs": [],
   "source": []
  }
 ],
 "metadata": {
  "kernelspec": {
   "display_name": "Python 3",
   "language": "python",
   "name": "python3"
  },
  "language_info": {
   "codemirror_mode": {
    "name": "ipython",
    "version": 3
   },
   "file_extension": ".py",
   "mimetype": "text/x-python",
   "name": "python",
   "nbconvert_exporter": "python",
   "pygments_lexer": "ipython3",
   "version": "3.8.3"
  }
 },
 "nbformat": 4,
 "nbformat_minor": 4
}

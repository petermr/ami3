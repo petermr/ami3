{
 "cells": [
  {
   "cell_type": "markdown",
   "metadata": {},
   "source": [
    "# read PDFs, makeproject, extract images and create octrees\n",
    "\n"
   ]
  },
  {
   "cell_type": "markdown",
   "metadata": {},
   "source": [
    "### variables\n",
    "\n"
   ]
  },
  {
   "cell_type": "code",
   "execution_count": 27,
   "metadata": {},
   "outputs": [],
   "source": [
    "# where is ami3? (assume you have checked out or copied `ami3` distrib).\n",
    "# set AMI3 to location of LOCAL AMI repository\n",
    "# EDIT THIS >>>>>>>\n",
    "HOME = \"/Users/pm286/\"\n",
    "WORKSPACE = HOME + \"workspace/\"\n",
    "AMI3 = WORKSPACE + \"cmdev/ami3/\"\n",
    "# <<<<<<<<<<\n",
    "\n",
    "# local workspace\n",
    "# EDIT this >>>>>>>>\n",
    "WORK = WORKSPACE + \"work/\"\n",
    "# <<<<<<<<<<\n",
    "\n",
    "# specific problem\n",
    "# EDIT THIS to your project (battery10, thermo at present)\n",
    "# >>>>>>>\n",
    "PROJECT = \"battery10\"\n",
    "# <<<<<<<\n",
    "\n",
    "PROJECT_WORK = WORK + PROJECT + \"/\"\n",
    "\n",
    "# general data resource within the `ami3` distrib\n",
    "# IPYNB = AMI3 + \"src/ipynb/\"\n",
    "TEST_RESOURCES = AMI3 + \"src/test/resources/\"\n",
    "AMI_DATA = TEST_RESOURCES + \"org/contentmine/ami/\"\n",
    "\n",
    "# specific for projects under ami3/src/test/resources\n",
    "PROJECT_DATA = AMI_DATA + PROJECT + \".raw\" + \"/\""
   ]
  },
  {
   "cell_type": "code",
   "execution_count": 28,
   "metadata": {
    "scrolled": true
   },
   "outputs": [
    {
     "name": "stdout",
     "output_type": "stream",
     "text": [
      "working in /Users/pm286/workspace/work/battery10/\n",
      "\u001b[34mPMC3211491\u001b[m\u001b[m        \u001b[34mPMC3893646\u001b[m\u001b[m        \u001b[34mPMC4148673\u001b[m\u001b[m        pdf2octree.ipynb\n",
      "\u001b[34mPMC3463005\u001b[m\u001b[m        \u001b[34mPMC3909895\u001b[m\u001b[m        \u001b[34mPMC4177134\u001b[m\u001b[m\n",
      "\u001b[34mPMC3518813\u001b[m\u001b[m        \u001b[34mPMC4062906\u001b[m\u001b[m        \u001b[34mlogs\u001b[m\u001b[m\n",
      "\u001b[34mPMC3776197\u001b[m\u001b[m        \u001b[34mPMC4100024\u001b[m\u001b[m        make_project.json\n",
      "copying raw project /Users/pm286/workspace/cmdev/ami3/src/test/resources/org/contentmine/ami/battery10.raw/ => /Users/pm286/workspace/work/battery10/\n"
     ]
    }
   ],
   "source": [
    "\n",
    "print (\"working in \" + PROJECT_WORK)\n",
    "! cd $PROJECT_WORK\n",
    "! ls\n",
    "print (\"copying raw project \" + PROJECT_DATA + \" => \" + PROJECT_WORK)\n",
    "! cp -R $PROJECT_DATA $PROJECT_WORK"
   ]
  },
  {
   "cell_type": "code",
   "execution_count": 29,
   "metadata": {},
   "outputs": [
    {
     "name": "stdout",
     "output_type": "stream",
     "text": [
      "\u001b[34mPMC3211491\u001b[m\u001b[m/        \u001b[34mPMC3893646\u001b[m\u001b[m/        \u001b[34mPMC4148673\u001b[m\u001b[m/        pdf2octree.ipynb\r\n",
      "\u001b[34mPMC3463005\u001b[m\u001b[m/        \u001b[34mPMC3909895\u001b[m\u001b[m/        \u001b[34mPMC4177134\u001b[m\u001b[m/\r\n",
      "\u001b[34mPMC3518813\u001b[m\u001b[m/        \u001b[34mPMC4062906\u001b[m\u001b[m/        \u001b[34mlogs\u001b[m\u001b[m/\r\n",
      "\u001b[34mPMC3776197\u001b[m\u001b[m/        \u001b[34mPMC4100024\u001b[m\u001b[m/        make_project.json\r\n"
     ]
    }
   ],
   "source": [
    "ls"
   ]
  },
  {
   "cell_type": "code",
   "execution_count": 30,
   "metadata": {},
   "outputs": [
    {
     "name": "stdout",
     "output_type": "stream",
     "text": [
      "\n",
      "Generic values (AMIMakeProjectTool)\n",
      "================================\n",
      "\n",
      "Specific values (AMIMakeProjectTool)\n",
      "================================\n",
      "PMC3211491/fulltext.pdf PMC3893646/fulltext.pdf PMC4148673/fulltext.pdf\n",
      "PMC3463005/fulltext.pdf PMC3909895/fulltext.pdf PMC4177134/fulltext.pdf\n",
      "PMC3518813/fulltext.pdf PMC4062906/fulltext.pdf\n",
      "PMC3776197/fulltext.pdf PMC4100024/fulltext.pdf\n",
      "ls: */*.xml: No such file or directory\n"
     ]
    }
   ],
   "source": [
    "## make project\n",
    "! ami -p . makeproject --rawfiletypes pdf\n",
    "! ls */*.pdf\n",
    "! ls */*.xml"
   ]
  },
  {
   "cell_type": "code",
   "execution_count": 31,
   "metadata": {},
   "outputs": [
    {
     "name": "stdout",
     "output_type": "stream",
     "text": [
      "(The console will show DEBUG level messages)\n",
      "(Logs will also be printed to /Users/pm286/workspace/work/battery10/logs/ami.log)\n",
      "Version: ami 2020.08.09_09.54-NEXT-SNAPSHOT\n",
      "(jar:file:/Users/pm286/workspace/cmdev/ami3/target/appassembler/repo/ami3-2020.08.09_09.54-NEXT-SNAPSHOT.jar)\n",
      "JVM: 14.0.1 (Oracle Corporation Java HotSpot(TM) 64-Bit Server VM 14.0.1+7)\n",
      "OS: Mac OS X 10.15.6 x86_64\n",
      "\n",
      "\n",
      "Generic values (AMIPDFTool)\n",
      "================================\n",
      "input basename      null\n",
      "input basename list null\n",
      "cproject            /Users/pm286/workspace/work/battery10/.\n",
      "ctree               \n",
      "cTreeList           12 trees [./.ipynb_checkpoints, ./PMC3211491, ./PMC3463005,\n",
      "excludeBase         {}\n",
      "excludeTrees        {}\n",
      "forceMake           false\n",
      "includeBase         {}\n",
      "includeTrees        null\n",
      "log4j               {}\n",
      "verbose             2\n",
      "\n",
      "Specific values (AMIPDFTool)\n",
      "================================\n",
      "Command line options for 'ami pdfbox':\n",
      "--debug             : d AMI_BRIEF\n",
      "--imagedir          : d pdfimages/\n",
      "--maxpages          : d         5\n",
      "--maxprimitives     : d      5000\n",
      "--minimagesize      : d   (10,10)\n",
      "--pages             : d      null\n",
      "--parser            : d       two\n",
      "--no-pdfimages      : d      true\n",
      "--pdf2txt           : d     false\n",
      "--svgdir            : d      svg/\n",
      "--no-svgpages       : d      true\n",
      "--tidysvg           : d [concat, spaces]\n",
      "--help              : d     false\n",
      "--version           : d     false\n",
      "AMIPDFTool cTree: .ipynb_checkpoints\n",
      "cTree: .ipynb_checkpoints\n",
      "pi>include: [-1]\n",
      "\n",
      "AMIPDFTool cTree: PMC3211491\n",
      "cTree: PMC3211491\n",
      "pi>include: [-1]\n",
      "\n",
      "ipageIncluder include: [-1]\n",
      "\n",
      " max pages: 5 0 \n",
      "pageIncluder pages include: [0, 1, 2, 3, 4]\n",
      "[1][2][3][.0][4][.0][.1][5][.0] img  img  img  img  5 \n",
      "pageIncluder pages include: [5, 6, 7, 8, 9]\n",
      "[6][.0][.1][7] img  img end: \n",
      "AMIPDFTool cTree: PMC3463005\n",
      "cTree: PMC3463005\n",
      "pi>include: [-1]\n",
      "\n",
      "ipageIncluder include: [-1]\n",
      "\n",
      " max pages: 5 0 \n",
      "pageIncluder pages include: [0, 1, 2, 3, 4]\n",
      "[1][.0][2][.0][.1][3][.0][.1][4][.0][.1][.2][5][.0][.1][.2] img  img  img  img  img  img  img  img  img  img  img  5 \n",
      "pageIncluder pages include: [5, 6, 7, 8, 9]\n",
      "[6][.0][.1][7][.0][.1][8][.0] img  img  img  img  img end: \n",
      "AMIPDFTool cTree: PMC3518813\n",
      "cTree: PMC3518813\n",
      "pi>include: [-1]\n",
      "\n",
      "ipageIncluder include: [-1]\n",
      "\n",
      " max pages: 5 0 \n",
      "pageIncluder pages include: [0, 1, 2, 3, 4]\n",
      "[1][.0][2][.0][.1][3][.0][.1][.2][4][.0][.1][.2][5][.0] img  img  img  img  img  img  img  img  img  img end: \n",
      "AMIPDFTool cTree: PMC3776197\n",
      "cTree: PMC3776197\n",
      "pi>include: [-1]\n",
      "\n",
      "ipageIncluder include: [-1]\n",
      "\n",
      " max pages: 5 0 \n",
      "pageIncluder pages include: [0, 1, 2, 3, 4]\n",
      "[1][.0][2][.0][.1][3][.0][.1][4][.0][.1][5][.0][.1] img  img  img  img  img  img  img  img  img  5 \n",
      "pageIncluder pages include: [5, 6, 7, 8, 9]\n",
      "[6][.0][7][.0][.1][.2][8][.0][9][.0] img  img  img  img  img  img end: \n",
      "AMIPDFTool cTree: PMC3893646\n",
      "cTree: PMC3893646\n",
      "pi>include: [-1]\n",
      "\n",
      "ipageIncluder include: [-1]\n",
      "\n",
      " max pages: 5 0 \n",
      "pageIncluder pages include: [0, 1, 2, 3, 4]\n",
      "[1][.0][2][.0][.1][3][.0][.1][4][.0][.1][.2][5][.0][.1] img  img  img  img  img  img  img  img  img  img  5 \n",
      "pageIncluder pages include: [5, 6, 7, 8, 9]\n",
      "[6][.0][.1][7][.0] img  img  img end: \n",
      "AMIPDFTool cTree: PMC3909895\n",
      "cTree: PMC3909895\n",
      "pi>include: [-1]\n",
      "\n",
      "ipageIncluder include: [-1]\n",
      "\n",
      " max pages: 5 0 \n",
      "pageIncluder pages include: [0, 1, 2, 3, 4]\n",
      "[1][.0][2][.0][.1][3][.0][.1][4][.0][.1][.2][5][.0] img  img  img  img  img  img  img  img  img  5 \n",
      "pageIncluder pages include: [5, 6, 7, 8, 9]\n",
      "[6][.0][.1][.2][7]Sep 28, 2020 5:07:24 PM org.apache.pdfbox.pdmodel.font.PDSimpleFont toUnicode\n",
      "WARNING: No Unicode mapping for C16 (2) in font FOKOBG+AdvP4C4E46\n",
      "Sep 28, 2020 5:07:24 PM org.apache.pdfbox.pdmodel.font.PDSimpleFont toUnicode\n",
      "WARNING: No Unicode mapping for C17 (3) in font FOKOBG+AdvP4C4E46\n",
      "[.0][.0][8][.0]large SVG: (204001) PageSerial [page=6, subPage=null]\n",
      " img  img  img  img  img end: \n",
      "AMIPDFTool cTree: PMC4062906\n",
      "cTree: PMC4062906\n",
      "pi>include: [-1]\n",
      "\n",
      "ipageIncluder include: [-1]\n",
      "\n",
      " max pages: 5 0 \n",
      "pageIncluder pages include: [0, 1, 2, 3, 4]\n",
      "[1][2][3][.0][.1][4][.0][.1][5][.0] img  img  img  img  img  5 \n",
      "pageIncluder pages include: [5, 6, 7, 8, 9]\n",
      "[6][.0][7][8] img end: \n",
      "AMIPDFTool cTree: PMC4100024\n",
      "cTree: PMC4100024\n",
      "pi>include: [-1]\n",
      "\n",
      "ipageIncluder include: [-1]\n",
      "\n",
      " max pages: 5 0 \n",
      "pageIncluder pages include: [0, 1, 2, 3, 4]\n",
      "[1][.0]Sep 28, 2020 5:07:31 PM org.apache.pdfbox.pdmodel.font.PDSimpleFont toUnicode\n",
      "WARNING: No Unicode mapping for C22 (2) in font FIOBDO+AdvP4C4E59\n",
      "[2][.0][.1][.2][3][.0][.1][4][.0][.1][5][.0][.1] img  img  img  img  img  img  img  img  img  img  5 \n",
      "pageIncluder pages include: [5, 6, 7, 8, 9]\n",
      "[6][.0] img end: \n",
      "AMIPDFTool cTree: PMC4148673\n",
      "cTree: PMC4148673\n",
      "pi>include: [-1]\n",
      "\n",
      "ipageIncluder include: [-1]\n",
      "\n",
      " max pages: 5 0 \n",
      "pageIncluder pages include: [0, 1, 2, 3, 4]\n",
      "[1][.0][2][.0][.1][.2][3][.0][.1][4][.0][.1][5][.0] img  img  img  img  img  img  img  img  img end: \n",
      "AMIPDFTool cTree: PMC4177134\n",
      "cTree: PMC4177134\n",
      "pi>include: [-1]\n",
      "\n",
      "ipageIncluder include: [-1]\n",
      "\n",
      " max pages: 5 0 \n",
      "pageIncluder pages include: [0, 1, 2, 3, 4]\n",
      "[1][2][.0][3][.0][.1][4][.0][.1][5] img  img  img  img  img end: \n",
      "AMIPDFTool cTree: logs\n",
      "cTree: logs\n",
      "pi>include: [-1]\n",
      "\n"
     ]
    }
   ],
   "source": [
    "! ami -vv -p . pdfbox"
   ]
  },
  {
   "cell_type": "code",
   "execution_count": 32,
   "metadata": {},
   "outputs": [
    {
     "name": "stdout",
     "output_type": "stream",
     "text": [
      "(The console will show DEBUG level messages)\n",
      "(Logs will also be printed to /Users/pm286/workspace/work/battery10/logs/ami.log)\n",
      "Version: ami 2020.08.09_09.54-NEXT-SNAPSHOT\n",
      "(jar:file:/Users/pm286/workspace/cmdev/ami3/target/appassembler/repo/ami3-2020.08.09_09.54-NEXT-SNAPSHOT.jar)\n",
      "JVM: 14.0.1 (Oracle Corporation Java HotSpot(TM) 64-Bit Server VM 14.0.1+7)\n",
      "OS: Mac OS X 10.15.6 x86_64\n",
      "\n",
      "\n",
      "Generic values (AMIImageTool)\n",
      "================================\n",
      "input basename      raw\n",
      "input basename list null\n",
      "cproject            /Users/pm286/workspace/work/battery10/.\n",
      "ctree               \n",
      "cTreeList           12 trees [./.ipynb_checkpoints, ./PMC3211491, ./PMC3463005,\n",
      "excludeBase         {}\n",
      "excludeTrees        {}\n",
      "forceMake           false\n",
      "includeBase         {}\n",
      "includeTrees        null\n",
      "log4j               {}\n",
      "verbose             2\n",
      "\n",
      "Specific values (AMIImageTool)\n",
      "================================\n",
      "Command line options for 'ami image':\n",
      "--borders           : d      null\n",
      "--filter            : d     false\n",
      "--exclude           : d      null\n",
      "--include           : d      null\n",
      "--minheight         : d       100\n",
      "--minwidth          : d       100\n",
      "--annotate          : d     false\n",
      "--binarize          : d      null\n",
      "--despeckle         : d     false\n",
      "--dither            : d      true\n",
      "--erodedilate       : d     false\n",
      "--maxheight         : d      1000\n",
      "--maxwidth          : d      1000\n",
      "--mediancut         : d      null\n",
      "--merge             : m         1\n",
      "--minpixels         : d       100\n",
      "--octree            : m         8\n",
      "--outputfiles       : m [binary, channels, histogram, neighbours, octree]\n",
      "--panels            : d      null\n",
      "--posterize         : d      null\n",
      "--priority          : d       RAW\n",
      "--rotate            : d      null\n",
      "--scalefactor       : d      null\n",
      "--serpentine        : d      true\n",
      "--sharpen           : d      none\n",
      "--template          : d      null\n",
      "--thinning          : d      null\n",
      "--threshold         : d      null\n",
      "--toolkit           : d      null\n",
      "--help              : d     false\n",
      "--version           : d     false\n",
      "AMIImageTool cTree: .ipynb_checkpoints\n",
      "AMIImageTool processTree\n",
      "no pdfimages/ dir and no image/ dir\n",
      "AMIImageTool cTree: PMC3211491\n",
      "AMIImageTool processTree\n",
      "converting to subdirectories: 6\n",
      "converting: ./PMC3211491/pdfimages/image.3.1.64_532.102_571.png to image.3.1.64_532.102_571/\n",
      "made /Users/pm286/workspace/work/battery10/./PMC3211491/pdfimages/image.3.1.64_532.102_571/raw.png\n",
      "converting: ./PMC3211491/pdfimages/image.4.1.64_532.102_336.png to image.4.1.64_532.102_336/\n",
      "made /Users/pm286/workspace/work/battery10/./PMC3211491/pdfimages/image.4.1.64_532.102_336/raw.png\n",
      "converting: ./PMC3211491/pdfimages/image.4.2.313_531.492_708.png to image.4.2.313_531.492_708/\n",
      "made /Users/pm286/workspace/work/battery10/./PMC3211491/pdfimages/image.4.2.313_531.492_708/raw.png\n",
      "converting: ./PMC3211491/pdfimages/image.5.1.63_533.240_708.png to image.5.1.63_533.240_708/\n",
      "made /Users/pm286/workspace/work/battery10/./PMC3211491/pdfimages/image.5.1.63_533.240_708/raw.png\n",
      "converting: ./PMC3211491/pdfimages/image.6.1.63_286.483_698.png to image.6.1.63_286.483_698/\n",
      "made /Users/pm286/workspace/work/battery10/./PMC3211491/pdfimages/image.6.1.63_286.483_698/raw.png\n",
      "converting: ./PMC3211491/pdfimages/image.6.2.311_534.102_322.png to image.6.2.311_534.102_322/\n",
      "made /Users/pm286/workspace/work/battery10/./PMC3211491/pdfimages/image.6.2.311_534.102_322/raw.png\n",
      " >>>>> imageDirs: 6\n",
      "T: 21715584/W: 20533061/NW: 1182523\n",
      "*****OK...PMC3211491//image.3.1.64_532.102_571\n",
      "PMC3211491//image.3.1.64_532.102_571\n",
      "transforming: image.3.1.64_532.102_571/raw.png\n",
      "Freq: ffff80: 12052181\n",
      "Freq: 7e8040: 217\n",
      "Freq: cbcb1a: 56501\n",
      "Freq: 807ef9: 616\n",
      "Freq: 7e80f3: 181\n",
      "Freq: 3030fd: 443198\n",
      "Freq: 807e3f: 253\n",
      "Freq: 383838: 9162437\n",
      "neighbours: ffff80>  383838 3030fd cbcb1a 807ef9 807e3f 7e8040 7e80f3\n",
      "383838>  3030fd cbcb1a 807ef9 807e3f 7e8040 7e80f3\n",
      "3030fd>  cbcb1a 807ef9 807e3f 7e8040 7e80f3\n",
      "cbcb1a>  807ef9 807e3f 7e8040 7e80f3\n",
      "807ef9>  807e3f 7e8040 7e80f3\n",
      "807e3f>  7e8040 7e80f3\n",
      "7e8040>  7e80f3\n",
      "\n",
      "htmlFile ./PMC3211491/pdfimages/image.3.1.64_532.102_571/images.html\n",
      "T: 5268256/W: 4991276/NW: 276980\n",
      "*****OK...PMC3211491//image.4.1.64_532.102_336\n",
      "PMC3211491//image.4.1.64_532.102_336\n",
      "transforming: image.4.1.64_532.102_336/raw.png\n",
      "^C\n"
     ]
    }
   ],
   "source": [
    "! ami -vv -p .  --inputname raw --output octree image --octree 8  --merge 1 --outputfiles binary channels histogram neighbours octree\n",
    "\n"
   ]
  },
  {
   "cell_type": "code",
   "execution_count": 40,
   "metadata": {},
   "outputs": [
    {
     "ename": "SyntaxError",
     "evalue": "invalid syntax (<ipython-input-40-6408c32cebcc>, line 8)",
     "output_type": "error",
     "traceback": [
      "\u001b[0;36m  File \u001b[0;32m\"<ipython-input-40-6408c32cebcc>\"\u001b[0;36m, line \u001b[0;32m8\u001b[0m\n\u001b[0;31m    cd PMC\u001b[0m\n\u001b[0m       ^\u001b[0m\n\u001b[0;31mSyntaxError\u001b[0m\u001b[0;31m:\u001b[0m invalid syntax\n"
     ]
    }
   ],
   "source": [
    "\n",
    "from IPython.display import display\n",
    "from PIL import Image\n",
    "path=\"PMC3211491/pdfimages/image.3.1.64_532.102_571/raw.png\"\n",
    "display(Image.open(path))\n",
    "\n",
    "# import ipyplot\n",
    "\n",
    "# ipyplot.plot_images(images_array, max_images=20, img_width=150)"
   ]
  },
  {
   "cell_type": "code",
   "execution_count": null,
   "metadata": {},
   "outputs": [],
   "source": [
    "from IPython.display import display\n",
    "from PIL import Image\n",
    "path=\"/path/to/image.jpg\"\n",
    "display(Image.open(path))"
   ]
  },
  {
   "cell_type": "code",
   "execution_count": 34,
   "metadata": {},
   "outputs": [
    {
     "name": "stdout",
     "output_type": "stream",
     "text": [
      "/Users/pm286/workspace/work/battery10\r\n"
     ]
    }
   ],
   "source": [
    "! pwd"
   ]
  },
  {
   "cell_type": "code",
   "execution_count": 35,
   "metadata": {},
   "outputs": [
    {
     "name": "stdout",
     "output_type": "stream",
     "text": [
      "\u001b[34mPMC3211491\u001b[m\u001b[m        \u001b[34mPMC3893646\u001b[m\u001b[m        \u001b[34mPMC4148673\u001b[m\u001b[m        pdf2octree.ipynb\r\n",
      "\u001b[34mPMC3463005\u001b[m\u001b[m        \u001b[34mPMC3909895\u001b[m\u001b[m        \u001b[34mPMC4177134\u001b[m\u001b[m\r\n",
      "\u001b[34mPMC3518813\u001b[m\u001b[m        \u001b[34mPMC4062906\u001b[m\u001b[m        \u001b[34mlogs\u001b[m\u001b[m\r\n",
      "\u001b[34mPMC3776197\u001b[m\u001b[m        \u001b[34mPMC4100024\u001b[m\u001b[m        make_project.json\r\n"
     ]
    }
   ],
   "source": [
    "!ls "
   ]
  },
  {
   "cell_type": "code",
   "execution_count": 39,
   "metadata": {},
   "outputs": [
    {
     "name": "stdout",
     "output_type": "stream",
     "text": [
      "PMC3211491/pdfimages/image.3.1.64_532.102_571/raw.png\r\n"
     ]
    }
   ],
   "source": [
    "!ls PMC3211491/pdfimages/image.3.1.64_532.102_571/raw.png"
   ]
  },
  {
   "cell_type": "code",
   "execution_count": 37,
   "metadata": {},
   "outputs": [
    {
     "name": "stdout",
     "output_type": "stream",
     "text": [
      "\u001b[01;34mPMC3211491\u001b[00m\r\n",
      "├── eupmc_result.json\r\n",
      "├── fulltext.pdf\r\n",
      "├── \u001b[01;34mpdfimages\u001b[00m\r\n",
      "│   ├── \u001b[01;34mimage.3.1.64_532.102_571\u001b[00m\r\n",
      "│   │   ├── images.html\r\n",
      "│   │   ├── \u001b[01;34moctree\u001b[00m\r\n",
      "│   │   │   ├── binary.png\r\n",
      "│   │   │   ├── channel.3030fd.png\r\n",
      "│   │   │   ├── channel.383838.png\r\n",
      "│   │   │   ├── channel.7e8040.png\r\n",
      "│   │   │   ├── channel.7e80f3.png\r\n",
      "│   │   │   ├── channel.807e3f.png\r\n",
      "│   │   │   ├── channel.807ef9.png\r\n",
      "│   │   │   ├── channel.cbcb1a.png\r\n",
      "│   │   │   ├── channel.ffff80.png\r\n",
      "│   │   │   ├── histogram.svg\r\n",
      "│   │   │   └── octree.png\r\n",
      "│   │   ├── raw.png\r\n",
      "│   │   └── raw_o8.png\r\n",
      "│   ├── \u001b[01;34mimage.4.1.64_532.102_336\u001b[00m\r\n",
      "│   │   └── raw.png\r\n",
      "│   ├── \u001b[01;34mimage.4.2.313_531.492_708\u001b[00m\r\n",
      "│   │   └── raw.png\r\n",
      "│   ├── \u001b[01;34mimage.5.1.63_533.240_708\u001b[00m\r\n",
      "│   │   └── raw.png\r\n",
      "│   ├── \u001b[01;34mimage.6.1.63_286.483_698\u001b[00m\r\n",
      "│   │   └── raw.png\r\n",
      "│   └── \u001b[01;34mimage.6.2.311_534.102_322\u001b[00m\r\n",
      "│       └── raw.png\r\n",
      "└── \u001b[01;34msvg\u001b[00m\r\n",
      "    ├── fulltext-page.0.svg\r\n",
      "    ├── fulltext-page.1.svg\r\n",
      "    ├── fulltext-page.2.svg\r\n",
      "    ├── fulltext-page.3.svg\r\n",
      "    ├── fulltext-page.4.svg\r\n",
      "    ├── fulltext-page.5.svg\r\n",
      "    └── fulltext-page.6.svg\r\n",
      "\r\n",
      "9 directories, 28 files\r\n"
     ]
    }
   ],
   "source": [
    "!tree PMC3211491"
   ]
  },
  {
   "cell_type": "code",
   "execution_count": null,
   "metadata": {},
   "outputs": [],
   "source": []
  }
 ],
 "metadata": {
  "kernelspec": {
   "display_name": "Python 3",
   "language": "python",
   "name": "python3"
  },
  "language_info": {
   "codemirror_mode": {
    "name": "ipython",
    "version": 3
   },
   "file_extension": ".py",
   "mimetype": "text/x-python",
   "name": "python",
   "nbconvert_exporter": "python",
   "pygments_lexer": "ipython3",
   "version": "3.8.3"
  }
 },
 "nbformat": 4,
 "nbformat_minor": 4
}

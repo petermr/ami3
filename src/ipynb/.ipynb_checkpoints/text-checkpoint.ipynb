{
 "cells": [
  {
   "cell_type": "code",
   "execution_count": 80,
   "metadata": {},
   "outputs": [],
   "source": [
    "import pandas as pd\n",
    "import numpy as np\n",
    "import nltk\n",
    "import os\n",
    "import nltk.corpus\n"
   ]
  },
  {
   "cell_type": "code",
   "execution_count": 81,
   "metadata": {},
   "outputs": [],
   "source": [
    "text = \"\"\"Research article Open Access\n",
    "A computational analysis of protein-protein interaction networks in\n",
    "neurodegenerative diseases\n",
    "Joaquín Goñi1,2, Francisco J Esteban3, Nieves Vélez de Mendizábal1,4,\n",
    "Jorge Sepulcre1, Sergio Ardanza-Trevijano2, Ion Agirrezabal1 and\n",
    "Pablo Villoslada*1\n",
    "Address: 1Neuroimmunology laboratory, Department of Neuroscience, Center for Applied Medical Research, University of Navarra, Spain,\n",
    "2Department of Physics and Applied Mathematics, University of Navarra, Spain, 3Systems Biology Unit, Department of Experimental Biology,\n",
    "University of Jaen, Spain and 4Department of Computational Sciences and Artificial Intelligence, University of the Basque Country, San Sebastian,\n",
    "Spain\n",
    "Email: Joaquín Goñi - jgoni@unav.es; Francisco J Esteban - festeban@ujaen.es; Nieves Vélez de Mendizábal - nvelez@unav.es;\n",
    "Jorge Sepulcre - jsepulber@unav.es; Sergio Ardanza-Trevijano - sardanza@unav.es; Ion Agirrezabal - iagirrezabal@alumni.unav.es;\n",
    "Pablo Villoslada* - pvilloslada@unav.es\n",
    "* Corresponding author\n",
    "Abstract\n",
    "Background: Recent developments have meant that network theory is making an important\n",
    "contribution to the topological study of biological networks, such as protein-protein interaction\n",
    "(PPI) networks. The identification of differentially expressed genes in DNA array experiments is a\n",
    "source of information regarding the molecular pathways involved in disease. Thus, considering PPI\n",
    "analysis and gene expression studies together may provide a better understanding of multifactorial\n",
    "neurodegenerative diseases such as Multiple Sclerosis (MS) and Alzheimer disease (AD). The aim\n",
    "of this study was to assess whether the parameters of degree and betweenness, two fundamental\n",
    "measures in network theory, are properties that differentiate between implicated (seed-proteins)\n",
    "and non-implicated nodes (neighbors) in MS and AD. We used experimentally validated PPI\n",
    "information to obtain the neighbors for each seed group and we studied these parameters in four\n",
    "networks: MS-blood network; MS-brain network; AD-blood network; and AD-brain network.\n",
    "Results: Specific features of seed-proteins were revealed, whereby they displayed a lower average\n",
    "degree in both diseases and tissues, and a higher betweenness in AD-brain and MS-blood networks.\n",
    "Additionally, the heterogeneity of the processes involved indicate that these findings are not\n",
    "pathway specific but rather that they are spread over different pathways.\n",
    "Conclusion: Our findings show differential centrality properties of proteins whose gene\n",
    "expression is impaired in neurodegenerative diseases.\n",
    "Background\n",
    "The structural and functional relationships underlying the\n",
    "organization of living systems imply the need to coordinate\n",
    "molecular interactions, principally those involving\n",
    "gene expression and protein activity. Although the\n",
    "genome in each cell of a given organism is virtually the\n",
    "Published: 20 June 2008\n",
    "BMC Systems Biology 2008, 2:52 doi:10.1186/1752-0509-2-52\n",
    "Received: 9 December 2007\n",
    "Accepted: 20 June 2008\n",
    "This article is available from: http://www.biomedcentral.com/1752-0509/2/52\n",
    "© 2008 Goñi et al; licensee BioMed Central Ltd.\n",
    "This is an Open Access article distributed under the terms of the Creative Commons Attribution License (http://creativecommons.org/licenses/by/2.0),\n",
    "\"\"\""
   ]
  },
  {
   "cell_type": "code",
   "execution_count": 82,
   "metadata": {},
   "outputs": [
    {
     "data": {
      "text/plain": [
       "'Research article Open Access\\nA computational analysis of protein-protein interaction networks in\\nneurodegenerative diseases\\nJoaquín Goñi1,2, Francisco J Esteban3, Nieves Vélez de Mendizábal1,4,\\nJorge Sepulcre1, Sergio Ardanza-Trevijano2, Ion Agirrezabal1 and\\nPablo Villoslada*1\\nAddress: 1Neuroimmunology laboratory, Department of Neuroscience, Center for Applied Medical Research, University of Navarra, Spain,\\n2Department of Physics and Applied Mathematics, University of Navarra, Spain, 3Systems Biology Unit, Department of Experimental Biology,\\nUniversity of Jaen, Spain and 4Department of Computational Sciences and Artificial Intelligence, University of the Basque Country, San Sebastian,\\nSpain\\nEmail: Joaquín Goñi - jgoni@unav.es; Francisco J Esteban - festeban@ujaen.es; Nieves Vélez de Mendizábal - nvelez@unav.es;\\nJorge Sepulcre - jsepulber@unav.es; Sergio Ardanza-Trevijano - sardanza@unav.es; Ion Agirrezabal - iagirrezabal@alumni.unav.es;\\nPablo Villoslada* - pvilloslada@unav.es\\n* Corresponding author\\nAbstract\\nBackground: Recent developments have meant that network theory is making an important\\ncontribution to the topological study of biological networks, such as protein-protein interaction\\n(PPI) networks. The identification of differentially expressed genes in DNA array experiments is a\\nsource of information regarding the molecular pathways involved in disease. Thus, considering PPI\\nanalysis and gene expression studies together may provide a better understanding of multifactorial\\nneurodegenerative diseases such as Multiple Sclerosis (MS) and Alzheimer disease (AD). The aim\\nof this study was to assess whether the parameters of degree and betweenness, two fundamental\\nmeasures in network theory, are properties that differentiate between implicated (seed-proteins)\\nand non-implicated nodes (neighbors) in MS and AD. We used experimentally validated PPI\\ninformation to obtain the neighbors for each seed group and we studied these parameters in four\\nnetworks: MS-blood network; MS-brain network; AD-blood network; and AD-brain network.\\nResults: Specific features of seed-proteins were revealed, whereby they displayed a lower average\\ndegree in both diseases and tissues, and a higher betweenness in AD-brain and MS-blood networks.\\nAdditionally, the heterogeneity of the processes involved indicate that these findings are not\\npathway specific but rather that they are spread over different pathways.\\nConclusion: Our findings show differential centrality properties of proteins whose gene\\nexpression is impaired in neurodegenerative diseases.\\nBackground\\nThe structural and functional relationships underlying the\\norganization of living systems imply the need to coordinate\\nmolecular interactions, principally those involving\\ngene expression and protein activity. Although the\\ngenome in each cell of a given organism is virtually the\\nPublished: 20 June 2008\\nBMC Systems Biology 2008, 2:52 doi:10.1186/1752-0509-2-52\\nReceived: 9 December 2007\\nAccepted: 20 June 2008\\nThis article is available from: http://www.biomedcentral.com/1752-0509/2/52\\n© 2008 Goñi et al; licensee BioMed Central Ltd.\\nThis is an Open Access article distributed under the terms of the Creative Commons Attribution License (http://creativecommons.org/licenses/by/2.0),\\n'"
      ]
     },
     "execution_count": 82,
     "metadata": {},
     "output_type": "execute_result"
    }
   ],
   "source": [
    "text\n"
   ]
  },
  {
   "cell_type": "code",
   "execution_count": 83,
   "metadata": {},
   "outputs": [
    {
     "name": "stderr",
     "output_type": "stream",
     "text": [
      "[nltk_data] Downloading package punkt to /Users/pm286/nltk_data...\n",
      "[nltk_data]   Package punkt is already up-to-date!\n"
     ]
    },
    {
     "data": {
      "text/plain": [
       "['Research',\n",
       " 'article',\n",
       " 'Open',\n",
       " 'Access',\n",
       " 'A',\n",
       " 'computational',\n",
       " 'analysis',\n",
       " 'of',\n",
       " 'protein-protein',\n",
       " 'interaction',\n",
       " 'networks',\n",
       " 'in',\n",
       " 'neurodegenerative',\n",
       " 'diseases',\n",
       " 'Joaquín',\n",
       " 'Goñi1,2',\n",
       " ',',\n",
       " 'Francisco',\n",
       " 'J',\n",
       " 'Esteban3',\n",
       " ',',\n",
       " 'Nieves',\n",
       " 'Vélez',\n",
       " 'de',\n",
       " 'Mendizábal1,4',\n",
       " ',',\n",
       " 'Jorge',\n",
       " 'Sepulcre1',\n",
       " ',',\n",
       " 'Sergio',\n",
       " 'Ardanza-Trevijano2',\n",
       " ',',\n",
       " 'Ion',\n",
       " 'Agirrezabal1',\n",
       " 'and',\n",
       " 'Pablo',\n",
       " 'Villoslada',\n",
       " '*',\n",
       " '1',\n",
       " 'Address',\n",
       " ':',\n",
       " '1Neuroimmunology',\n",
       " 'laboratory',\n",
       " ',',\n",
       " 'Department',\n",
       " 'of',\n",
       " 'Neuroscience',\n",
       " ',',\n",
       " 'Center',\n",
       " 'for',\n",
       " 'Applied',\n",
       " 'Medical',\n",
       " 'Research',\n",
       " ',',\n",
       " 'University',\n",
       " 'of',\n",
       " 'Navarra',\n",
       " ',',\n",
       " 'Spain',\n",
       " ',',\n",
       " '2Department',\n",
       " 'of',\n",
       " 'Physics',\n",
       " 'and',\n",
       " 'Applied',\n",
       " 'Mathematics',\n",
       " ',',\n",
       " 'University',\n",
       " 'of',\n",
       " 'Navarra',\n",
       " ',',\n",
       " 'Spain',\n",
       " ',',\n",
       " '3Systems',\n",
       " 'Biology',\n",
       " 'Unit',\n",
       " ',',\n",
       " 'Department',\n",
       " 'of',\n",
       " 'Experimental',\n",
       " 'Biology',\n",
       " ',',\n",
       " 'University',\n",
       " 'of',\n",
       " 'Jaen',\n",
       " ',',\n",
       " 'Spain',\n",
       " 'and',\n",
       " '4Department',\n",
       " 'of',\n",
       " 'Computational',\n",
       " 'Sciences',\n",
       " 'and',\n",
       " 'Artificial',\n",
       " 'Intelligence',\n",
       " ',',\n",
       " 'University',\n",
       " 'of',\n",
       " 'the',\n",
       " 'Basque',\n",
       " 'Country',\n",
       " ',',\n",
       " 'San',\n",
       " 'Sebastian',\n",
       " ',',\n",
       " 'Spain',\n",
       " 'Email',\n",
       " ':',\n",
       " 'Joaquín',\n",
       " 'Goñi',\n",
       " '-',\n",
       " 'jgoni',\n",
       " '@',\n",
       " 'unav.es',\n",
       " ';',\n",
       " 'Francisco',\n",
       " 'J',\n",
       " 'Esteban',\n",
       " '-',\n",
       " 'festeban',\n",
       " '@',\n",
       " 'ujaen.es',\n",
       " ';',\n",
       " 'Nieves',\n",
       " 'Vélez',\n",
       " 'de',\n",
       " 'Mendizábal',\n",
       " '-',\n",
       " 'nvelez',\n",
       " '@',\n",
       " 'unav.es',\n",
       " ';',\n",
       " 'Jorge',\n",
       " 'Sepulcre',\n",
       " '-',\n",
       " 'jsepulber',\n",
       " '@',\n",
       " 'unav.es',\n",
       " ';',\n",
       " 'Sergio',\n",
       " 'Ardanza-Trevijano',\n",
       " '-',\n",
       " 'sardanza',\n",
       " '@',\n",
       " 'unav.es',\n",
       " ';',\n",
       " 'Ion',\n",
       " 'Agirrezabal',\n",
       " '-',\n",
       " 'iagirrezabal',\n",
       " '@',\n",
       " 'alumni.unav.es',\n",
       " ';',\n",
       " 'Pablo',\n",
       " 'Villoslada',\n",
       " '*',\n",
       " '-',\n",
       " 'pvilloslada',\n",
       " '@',\n",
       " 'unav.es',\n",
       " '*',\n",
       " 'Corresponding',\n",
       " 'author',\n",
       " 'Abstract',\n",
       " 'Background',\n",
       " ':',\n",
       " 'Recent',\n",
       " 'developments',\n",
       " 'have',\n",
       " 'meant',\n",
       " 'that',\n",
       " 'network',\n",
       " 'theory',\n",
       " 'is',\n",
       " 'making',\n",
       " 'an',\n",
       " 'important',\n",
       " 'contribution',\n",
       " 'to',\n",
       " 'the',\n",
       " 'topological',\n",
       " 'study',\n",
       " 'of',\n",
       " 'biological',\n",
       " 'networks',\n",
       " ',',\n",
       " 'such',\n",
       " 'as',\n",
       " 'protein-protein',\n",
       " 'interaction',\n",
       " '(',\n",
       " 'PPI',\n",
       " ')',\n",
       " 'networks',\n",
       " '.',\n",
       " 'The',\n",
       " 'identification',\n",
       " 'of',\n",
       " 'differentially',\n",
       " 'expressed',\n",
       " 'genes',\n",
       " 'in',\n",
       " 'DNA',\n",
       " 'array',\n",
       " 'experiments',\n",
       " 'is',\n",
       " 'a',\n",
       " 'source',\n",
       " 'of',\n",
       " 'information',\n",
       " 'regarding',\n",
       " 'the',\n",
       " 'molecular',\n",
       " 'pathways',\n",
       " 'involved',\n",
       " 'in',\n",
       " 'disease',\n",
       " '.',\n",
       " 'Thus',\n",
       " ',',\n",
       " 'considering',\n",
       " 'PPI',\n",
       " 'analysis',\n",
       " 'and',\n",
       " 'gene',\n",
       " 'expression',\n",
       " 'studies',\n",
       " 'together',\n",
       " 'may',\n",
       " 'provide',\n",
       " 'a',\n",
       " 'better',\n",
       " 'understanding',\n",
       " 'of',\n",
       " 'multifactorial',\n",
       " 'neurodegenerative',\n",
       " 'diseases',\n",
       " 'such',\n",
       " 'as',\n",
       " 'Multiple',\n",
       " 'Sclerosis',\n",
       " '(',\n",
       " 'MS',\n",
       " ')',\n",
       " 'and',\n",
       " 'Alzheimer',\n",
       " 'disease',\n",
       " '(',\n",
       " 'AD',\n",
       " ')',\n",
       " '.',\n",
       " 'The',\n",
       " 'aim',\n",
       " 'of',\n",
       " 'this',\n",
       " 'study',\n",
       " 'was',\n",
       " 'to',\n",
       " 'assess',\n",
       " 'whether',\n",
       " 'the',\n",
       " 'parameters',\n",
       " 'of',\n",
       " 'degree',\n",
       " 'and',\n",
       " 'betweenness',\n",
       " ',',\n",
       " 'two',\n",
       " 'fundamental',\n",
       " 'measures',\n",
       " 'in',\n",
       " 'network',\n",
       " 'theory',\n",
       " ',',\n",
       " 'are',\n",
       " 'properties',\n",
       " 'that',\n",
       " 'differentiate',\n",
       " 'between',\n",
       " 'implicated',\n",
       " '(',\n",
       " 'seed-proteins',\n",
       " ')',\n",
       " 'and',\n",
       " 'non-implicated',\n",
       " 'nodes',\n",
       " '(',\n",
       " 'neighbors',\n",
       " ')',\n",
       " 'in',\n",
       " 'MS',\n",
       " 'and',\n",
       " 'AD',\n",
       " '.',\n",
       " 'We',\n",
       " 'used',\n",
       " 'experimentally',\n",
       " 'validated',\n",
       " 'PPI',\n",
       " 'information',\n",
       " 'to',\n",
       " 'obtain',\n",
       " 'the',\n",
       " 'neighbors',\n",
       " 'for',\n",
       " 'each',\n",
       " 'seed',\n",
       " 'group',\n",
       " 'and',\n",
       " 'we',\n",
       " 'studied',\n",
       " 'these',\n",
       " 'parameters',\n",
       " 'in',\n",
       " 'four',\n",
       " 'networks',\n",
       " ':',\n",
       " 'MS-blood',\n",
       " 'network',\n",
       " ';',\n",
       " 'MS-brain',\n",
       " 'network',\n",
       " ';',\n",
       " 'AD-blood',\n",
       " 'network',\n",
       " ';',\n",
       " 'and',\n",
       " 'AD-brain',\n",
       " 'network',\n",
       " '.',\n",
       " 'Results',\n",
       " ':',\n",
       " 'Specific',\n",
       " 'features',\n",
       " 'of',\n",
       " 'seed-proteins',\n",
       " 'were',\n",
       " 'revealed',\n",
       " ',',\n",
       " 'whereby',\n",
       " 'they',\n",
       " 'displayed',\n",
       " 'a',\n",
       " 'lower',\n",
       " 'average',\n",
       " 'degree',\n",
       " 'in',\n",
       " 'both',\n",
       " 'diseases',\n",
       " 'and',\n",
       " 'tissues',\n",
       " ',',\n",
       " 'and',\n",
       " 'a',\n",
       " 'higher',\n",
       " 'betweenness',\n",
       " 'in',\n",
       " 'AD-brain',\n",
       " 'and',\n",
       " 'MS-blood',\n",
       " 'networks',\n",
       " '.',\n",
       " 'Additionally',\n",
       " ',',\n",
       " 'the',\n",
       " 'heterogeneity',\n",
       " 'of',\n",
       " 'the',\n",
       " 'processes',\n",
       " 'involved',\n",
       " 'indicate',\n",
       " 'that',\n",
       " 'these',\n",
       " 'findings',\n",
       " 'are',\n",
       " 'not',\n",
       " 'pathway',\n",
       " 'specific',\n",
       " 'but',\n",
       " 'rather',\n",
       " 'that',\n",
       " 'they',\n",
       " 'are',\n",
       " 'spread',\n",
       " 'over',\n",
       " 'different',\n",
       " 'pathways',\n",
       " '.',\n",
       " 'Conclusion',\n",
       " ':',\n",
       " 'Our',\n",
       " 'findings',\n",
       " 'show',\n",
       " 'differential',\n",
       " 'centrality',\n",
       " 'properties',\n",
       " 'of',\n",
       " 'proteins',\n",
       " 'whose',\n",
       " 'gene',\n",
       " 'expression',\n",
       " 'is',\n",
       " 'impaired',\n",
       " 'in',\n",
       " 'neurodegenerative',\n",
       " 'diseases',\n",
       " '.',\n",
       " 'Background',\n",
       " 'The',\n",
       " 'structural',\n",
       " 'and',\n",
       " 'functional',\n",
       " 'relationships',\n",
       " 'underlying',\n",
       " 'the',\n",
       " 'organization',\n",
       " 'of',\n",
       " 'living',\n",
       " 'systems',\n",
       " 'imply',\n",
       " 'the',\n",
       " 'need',\n",
       " 'to',\n",
       " 'coordinate',\n",
       " 'molecular',\n",
       " 'interactions',\n",
       " ',',\n",
       " 'principally',\n",
       " 'those',\n",
       " 'involving',\n",
       " 'gene',\n",
       " 'expression',\n",
       " 'and',\n",
       " 'protein',\n",
       " 'activity',\n",
       " '.',\n",
       " 'Although',\n",
       " 'the',\n",
       " 'genome',\n",
       " 'in',\n",
       " 'each',\n",
       " 'cell',\n",
       " 'of',\n",
       " 'a',\n",
       " 'given',\n",
       " 'organism',\n",
       " 'is',\n",
       " 'virtually',\n",
       " 'the',\n",
       " 'Published',\n",
       " ':',\n",
       " '20',\n",
       " 'June',\n",
       " '2008',\n",
       " 'BMC',\n",
       " 'Systems',\n",
       " 'Biology',\n",
       " '2008',\n",
       " ',',\n",
       " '2:52',\n",
       " 'doi:10.1186/1752-0509-2-52',\n",
       " 'Received',\n",
       " ':',\n",
       " '9',\n",
       " 'December',\n",
       " '2007',\n",
       " 'Accepted',\n",
       " ':',\n",
       " '20',\n",
       " 'June',\n",
       " '2008',\n",
       " 'This',\n",
       " 'article',\n",
       " 'is',\n",
       " 'available',\n",
       " 'from',\n",
       " ':',\n",
       " 'http',\n",
       " ':',\n",
       " '//www.biomedcentral.com/1752-0509/2/52',\n",
       " '©',\n",
       " '2008',\n",
       " 'Goñi',\n",
       " 'et',\n",
       " 'al',\n",
       " ';',\n",
       " 'licensee',\n",
       " 'BioMed',\n",
       " 'Central',\n",
       " 'Ltd',\n",
       " '.',\n",
       " 'This',\n",
       " 'is',\n",
       " 'an',\n",
       " 'Open',\n",
       " 'Access',\n",
       " 'article',\n",
       " 'distributed',\n",
       " 'under',\n",
       " 'the',\n",
       " 'terms',\n",
       " 'of',\n",
       " 'the',\n",
       " 'Creative',\n",
       " 'Commons',\n",
       " 'Attribution',\n",
       " 'License',\n",
       " '(',\n",
       " 'http',\n",
       " ':',\n",
       " '//creativecommons.org/licenses/by/2.0',\n",
       " ')',\n",
       " ',']"
      ]
     },
     "execution_count": 83,
     "metadata": {},
     "output_type": "execute_result"
    }
   ],
   "source": [
    "from nltk.tokenize import word_tokenize\n",
    "nltk.download('punkt')\n",
    "# Passing the string text into word tokenize for breaking the sentences\n",
    "token = word_tokenize(text)\n",
    "token\n"
   ]
  },
  {
   "cell_type": "code",
   "execution_count": 84,
   "metadata": {},
   "outputs": [
    {
     "data": {
      "image/png": "[encoded data removed]",
      "text/plain": [
       "<Figure size 432x288 with 1 Axes>"
      ]
     },
     "metadata": {
      "needs_background": "light"
     },
     "output_type": "display_data"
    }
   ],
   "source": [
    "from nltk.probability import FreqDist\n",
    "fdist = FreqDist(token)\n",
    "fdist\n",
    "\n",
    "import matplotlib.pyplot as plt\n",
    "fdist.plot(30,cumulative=False)\n",
    "plt.show()\n"
   ]
  },
  {
   "cell_type": "code",
   "execution_count": 85,
   "metadata": {},
   "outputs": [
    {
     "data": {
      "text/plain": [
       "[(',', 29),\n",
       " ('of', 21),\n",
       " ('and', 16),\n",
       " ('the', 13),\n",
       " (':', 12),\n",
       " ('in', 10),\n",
       " (';', 10),\n",
       " ('.', 10),\n",
       " ('-', 7),\n",
       " ('@', 7)]"
      ]
     },
     "execution_count": 85,
     "metadata": {},
     "output_type": "execute_result"
    }
   ],
   "source": [
    "# To find the frequency of top 10 words\n",
    "fdist1 = fdist.most_common(10)\n",
    "fdist1"
   ]
  },
  {
   "cell_type": "code",
   "execution_count": 86,
   "metadata": {},
   "outputs": [
    {
     "name": "stdout",
     "output_type": "stream",
     "text": [
      "waited:wait\n",
      "waiting:wait\n",
      "waits:wait\n"
     ]
    }
   ],
   "source": [
    "# Stemming usually refers to normalizing words into its base form or root form.\n",
    "# Importing Porterstemmer from nltk library\n",
    "# Checking for the word ‘giving’ \n",
    "from nltk.stem import PorterStemmer\n",
    "pst = PorterStemmer()\n",
    "\n",
    "# Checking for the list of words\n",
    "stm = [\"waited\", \"waiting\", \"waits\"]\n",
    "for word in stm :\n",
    "   print(word+ \":\" +pst.stem(word))\n"
   ]
  },
  {
   "cell_type": "code",
   "execution_count": 87,
   "metadata": {},
   "outputs": [
    {
     "name": "stdout",
     "output_type": "stream",
     "text": [
      "giving:giv\n",
      "given:giv\n",
      "given:giv\n",
      "gave:gav\n"
     ]
    }
   ],
   "source": [
    "# Importing LancasterStemmer from nltk\n",
    "from nltk.stem import LancasterStemmer\n",
    "lst = LancasterStemmer()\n",
    "stm1 = [\"giving\", \"given\", \"given\", \"gave\"]\n",
    "for word in stm1 :\n",
    " print(word+ \":\" +lst.stem(word))\n",
    " "
   ]
  },
  {
   "cell_type": "code",
   "execution_count": 88,
   "metadata": {
    "scrolled": true
   },
   "outputs": [
    {
     "name": "stdout",
     "output_type": "stream",
     "text": [
      "rocks : rock\n",
      "corpora : corpus\n"
     ]
    },
    {
     "name": "stderr",
     "output_type": "stream",
     "text": [
      "[nltk_data] Downloading package wordnet to /Users/pm286/nltk_data...\n",
      "[nltk_data]   Package wordnet is already up-to-date!\n"
     ]
    }
   ],
   "source": [
    "from nltk.stem import WordNetLemmatizer\n",
    "nltk.download('wordnet')\n",
    "lemmatizer = WordNetLemmatizer() \n",
    "\n",
    " \n",
    "print(\"rocks :\", lemmatizer.lemmatize(\"rocks\")) \n",
    "print(\"corpora :\", lemmatizer.lemmatize(\"corpora\"))\n"
   ]
  },
  {
   "cell_type": "code",
   "execution_count": 89,
   "metadata": {
    "scrolled": true
   },
   "outputs": [
    {
     "name": "stdout",
     "output_type": "stream",
     "text": [
      "['recent', 'developments', 'have', 'meant', 'that', 'network', 'theory', 'is', 'making', 'an', 'important', 'contribution', 'to', 'the', 'topological', 'study', 'of', 'biological', 'networks', ',', 'such', 'as', 'protein-protein', 'interaction', '(', 'ppi', ')', 'networks', '.']\n",
      "['recent', 'developments', 'meant', 'network', 'theory', 'making', 'important', 'contribution', 'topological', 'study', 'biological', 'networks', ',', 'protein-protein', 'interaction', '(', 'ppi', ')', 'networks', '.']\n"
     ]
    },
    {
     "name": "stderr",
     "output_type": "stream",
     "text": [
      "[nltk_data] Downloading package stopwords to /Users/pm286/nltk_data...\n",
      "[nltk_data]   Package stopwords is already up-to-date!\n"
     ]
    }
   ],
   "source": [
    "from nltk import word_tokenize\n",
    "from nltk.corpus import stopwords\n",
    "import nltk\n",
    "nltk.download('stopwords')\n",
    "\n",
    "a = set(stopwords.words('english'))\n",
    "text = \"Recent developments have meant that network theory is making an important contribution to the topological study of biological networks, such as protein-protein interaction (PPI) networks. \"\n",
    "text1 = word_tokenize(text.lower())\n",
    "print(text1)\n",
    "stopwords = [x for x in text1 if x not in a]\n",
    "print(stopwords)\n"
   ]
  },
  {
   "cell_type": "code",
   "execution_count": 90,
   "metadata": {},
   "outputs": [
    {
     "name": "stdout",
     "output_type": "stream",
     "text": [
      "[('Recent', 'NN')]\n",
      "[('developments', 'NNS')]\n",
      "[('have', 'VB')]\n",
      "[('meant', 'NN')]\n",
      "[('that', 'IN')]\n",
      "[('network', 'NN')]\n",
      "[('theory', 'NN')]\n",
      "[('is', 'VBZ')]\n",
      "[('making', 'VBG')]\n",
      "[('an', 'DT')]\n",
      "[('important', 'JJ')]\n",
      "[('contribution', 'NN')]\n",
      "[('to', 'TO')]\n",
      "[('the', 'DT')]\n",
      "[('topological', 'JJ')]\n",
      "[('study', 'NN')]\n",
      "[('of', 'IN')]\n",
      "[('biological', 'JJ')]\n",
      "[('networks', 'NNS')]\n",
      "[(',', ',')]\n",
      "[('such', 'JJ')]\n",
      "[('as', 'IN')]\n",
      "[('protein-protein', 'NN')]\n",
      "[('interaction', 'NN')]\n",
      "[('(', '(')]\n",
      "[('PPI', 'NN')]\n",
      "[(')', ')')]\n",
      "[('networks', 'NNS')]\n",
      "[('.', '.')]\n"
     ]
    },
    {
     "name": "stderr",
     "output_type": "stream",
     "text": [
      "[nltk_data] Downloading package averaged_perceptron_tagger to\n",
      "[nltk_data]     /Users/pm286/nltk_data...\n",
      "[nltk_data]   Package averaged_perceptron_tagger is already up-to-\n",
      "[nltk_data]       date!\n"
     ]
    }
   ],
   "source": [
    "#Tokenize the text\n",
    "nltk.download('averaged_perceptron_tagger')\n",
    "tex = word_tokenize(text)\n",
    "for token in tex:\n",
    "    print(nltk.pos_tag([token]))\n",
    "\n"
   ]
  },
  {
   "cell_type": "code",
   "execution_count": 91,
   "metadata": {},
   "outputs": [
    {
     "name": "stderr",
     "output_type": "stream",
     "text": [
      "[nltk_data] Downloading package maxent_ne_chunker to\n",
      "[nltk_data]     /Users/pm286/nltk_data...\n",
      "[nltk_data]   Package maxent_ne_chunker is already up-to-date!\n",
      "[nltk_data] Downloading package words to /Users/pm286/nltk_data...\n",
      "[nltk_data]   Package words is already up-to-date!\n"
     ]
    },
    {
     "data": {
      "image/png": "[encoded data removed]",
      "text/plain": [
       "Tree('S', [('Recent', 'JJ'), ('developments', 'NNS'), ('have', 'VBP'), ('meant', 'VBN'), ('that', 'IN'), ('network', 'NN'), ('theory', 'NN'), ('is', 'VBZ'), ('making', 'VBG'), ('an', 'DT'), ('important', 'JJ'), ('contribution', 'NN'), ('to', 'TO'), ('the', 'DT'), ('topological', 'JJ'), ('study', 'NN'), ('of', 'IN'), ('biological', 'JJ'), ('networks', 'NNS'), (',', ','), ('such', 'JJ'), ('as', 'IN'), ('protein-protein', 'JJ'), ('interaction', 'NN'), ('(', '('), Tree('ORGANIZATION', [('PPI', 'NNP')]), (')', ')'), ('networks', 'NNS'), ('.', '.')])"
      ]
     },
     "execution_count": 91,
     "metadata": {},
     "output_type": "execute_result"
    }
   ],
   "source": [
    "from nltk import ne_chunk\n",
    "nltk.download('maxent_ne_chunker')\n",
    "nltk.download('words')\n",
    "# tokenize and POS Tagging before doing chunk\n",
    "token = word_tokenize(text)\n",
    "tags = nltk.pos_tag(token)\n",
    "chunk = ne_chunk(tags)\n",
    "chunk"
   ]
  },
  {
   "cell_type": "code",
   "execution_count": 92,
   "metadata": {},
   "outputs": [
    {
     "name": "stdout",
     "output_type": "stream",
     "text": [
      "(S\n",
      "  Recent/JJ\n",
      "  developments/NNS\n",
      "  have/VBP\n",
      "  meant/VBN\n",
      "  that/IN\n",
      "  (NP network/NN)\n",
      "  (NP theory/NN)\n",
      "  is/VBZ\n",
      "  making/VBG\n",
      "  (NP an/DT important/JJ contribution/NN)\n",
      "  to/TO\n",
      "  (NP the/DT topological/JJ study/NN)\n",
      "  of/IN\n",
      "  biological/JJ\n",
      "  networks/NNS\n",
      "  ,/,\n",
      "  such/JJ\n",
      "  as/IN\n",
      "  (NP protein-protein/JJ interaction/NN)\n",
      "  (/(\n",
      "  PPI/NNP\n",
      "  )/)\n",
      "  networks/NNS\n",
      "  ./.)\n"
     ]
    }
   ],
   "source": [
    "token = word_tokenize(text)\n",
    "token\n",
    "tags = nltk.pos_tag(token)\n",
    "reg = \"NP: {<DT>?<JJ>*<NN>}\" \n",
    "a = nltk.RegexpParser(reg)\n",
    "result = a.parse(tags)\n",
    "print(result)"
   ]
  },
  {
   "cell_type": "code",
   "execution_count": 93,
   "metadata": {},
   "outputs": [
    {
     "data": {
      "text/plain": [
       "CountVectorizer(stop_words='english',\n",
       "                tokenizer=<bound method RegexpTokenizer.tokenize of RegexpTokenizer(pattern='[a-zA-Z0-9]+', gaps=False, discard_empty=True, flags=re.UNICODE|re.MULTILINE|re.DOTALL)>)"
      ]
     },
     "execution_count": 93,
     "metadata": {},
     "output_type": "execute_result"
    }
   ],
   "source": [
    "from sklearn.feature_extraction.text import CountVectorizer\n",
    "from nltk.tokenize import RegexpTokenizer\n",
    "#tokenizer to remove unwanted elements from out data like symbols and numbers\n",
    "token = RegexpTokenizer(r'[a-zA-Z0-9]+')\n",
    "cv = CountVectorizer(lowercase=True,stop_words='english',ngram_range = (1,1),tokenizer = token.tokenize)\n",
    "cv\n",
    "# text_counts= cv.fit_transform(data['Phrase'])\n"
   ]
  },
  {
   "cell_type": "code",
   "execution_count": 94,
   "metadata": {
    "scrolled": true
   },
   "outputs": [
    {
     "name": "stdout",
     "output_type": "stream",
     "text": [
      ">> Recent developments have meant that network theory is making an important contribution to the topological study of biological networks, such as protein-protein interaction (PPI) networks.\n",
      "..\n",
      "??1\n"
     ]
    }
   ],
   "source": [
    "from nltk.tokenize import sent_tokenize\n",
    "tokenized_text=sent_tokenize(text)\n",
    "for sentence in tokenized_text:\n",
    "    print(\">> \"+sentence+\"\\n..\")\n",
    "    phrases = sentence.split(\"\\n\")\n",
    "    print(\"??\"+str(len(phrases)))\n"
   ]
  },
  {
   "cell_type": "code",
   "execution_count": 96,
   "metadata": {},
   "outputs": [],
   "source": [
    "from sklearn.feature_extraction.text import TfidfVectorizer\n",
    "tf=TfidfVectorizer()\n",
    "# text_tf= tf.fit_transform(data['Phrase'])\n",
    "text_tf= tf.fit_transform(phrases)"
   ]
  },
  {
   "cell_type": "code",
   "execution_count": 98,
   "metadata": {
    "scrolled": true
   },
   "outputs": [
    {
     "data": {
      "text/plain": [
       "(1, 24)"
      ]
     },
     "execution_count": 98,
     "metadata": {},
     "output_type": "execute_result"
    }
   ],
   "source": [
    "text_tf.shape\n"
   ]
  },
  {
   "cell_type": "code",
   "execution_count": 110,
   "metadata": {
    "scrolled": true
   },
   "outputs": [
    {
     "ename": "NameError",
     "evalue": "name 'sentences' is not defined",
     "output_type": "error",
     "traceback": [
      "\u001b[0;31m---------------------------------------------------------------------------\u001b[0m",
      "\u001b[0;31mNameError\u001b[0m                                 Traceback (most recent call last)",
      "\u001b[0;32m<ipython-input-110-aec004346759>\u001b[0m in \u001b[0;36m<module>\u001b[0;34m\u001b[0m\n\u001b[1;32m      3\u001b[0m \u001b[0;32mfrom\u001b[0m \u001b[0msklearn\u001b[0m\u001b[0;34m.\u001b[0m\u001b[0mfeature_extraction\u001b[0m\u001b[0;34m.\u001b[0m\u001b[0mtext\u001b[0m \u001b[0;32mimport\u001b[0m \u001b[0mCountVectorizer\u001b[0m\u001b[0;34m\u001b[0m\u001b[0;34m\u001b[0m\u001b[0m\n\u001b[1;32m      4\u001b[0m \u001b[0mcv\u001b[0m\u001b[0;34m=\u001b[0m\u001b[0mCountVectorizer\u001b[0m\u001b[0;34m(\u001b[0m\u001b[0;34m)\u001b[0m\u001b[0;34m\u001b[0m\u001b[0;34m\u001b[0m\u001b[0m\n\u001b[0;32m----> 5\u001b[0;31m \u001b[0mword_count_vector\u001b[0m\u001b[0;34m=\u001b[0m\u001b[0mcv\u001b[0m\u001b[0;34m.\u001b[0m\u001b[0mfit_transform\u001b[0m\u001b[0;34m(\u001b[0m\u001b[0msentences\u001b[0m\u001b[0;34m)\u001b[0m\u001b[0;34m\u001b[0m\u001b[0;34m\u001b[0m\u001b[0m\n\u001b[0m\u001b[1;32m      6\u001b[0m \u001b[0mtfidf_transformer\u001b[0m\u001b[0;34m=\u001b[0m\u001b[0mTfidfTransformer\u001b[0m\u001b[0;34m(\u001b[0m\u001b[0msmooth_idf\u001b[0m\u001b[0;34m=\u001b[0m\u001b[0;32mTrue\u001b[0m\u001b[0;34m,\u001b[0m\u001b[0muse_idf\u001b[0m\u001b[0;34m=\u001b[0m\u001b[0;32mTrue\u001b[0m\u001b[0;34m)\u001b[0m\u001b[0;34m\u001b[0m\u001b[0;34m\u001b[0m\u001b[0m\n\u001b[1;32m      7\u001b[0m \u001b[0mtfidf_transformer\u001b[0m\u001b[0;34m.\u001b[0m\u001b[0mfit\u001b[0m\u001b[0;34m(\u001b[0m\u001b[0mword_count_vector\u001b[0m\u001b[0;34m)\u001b[0m\u001b[0;34m\u001b[0m\u001b[0;34m\u001b[0m\u001b[0m\n",
      "\u001b[0;31mNameError\u001b[0m: name 'sentences' is not defined"
     ]
    }
   ],
   "source": [
    "import pandas as pd \n",
    "from sklearn.feature_extraction.text import TfidfTransformer\n",
    "from sklearn.feature_extraction.text import CountVectorizer\n",
    "cv=CountVectorizer() \n",
    "word_count_vector=cv.fit_transform(sentence)\n",
    "tfidf_transformer=TfidfTransformer(smooth_idf=True,use_idf=True) \n",
    "tfidf_transformer.fit(word_count_vector)\n",
    "# print idf values \n",
    "df_idf = pd.DataFrame(tfidf_transformer.idf_, index=cv.get_feature_names(),columns=[\"idf_weights\"]) \n",
    " \n",
    "# sort ascending \n",
    "df_idf.sort_values(by=['idf_weights'])"
   ]
  },
  {
   "cell_type": "code",
   "execution_count": null,
   "metadata": {},
   "outputs": [],
   "source": []
  }
 ],
 "metadata": {
  "kernelspec": {
   "display_name": "Python 3",
   "language": "python",
   "name": "python3"
  },
  "language_info": {
   "codemirror_mode": {
    "name": "ipython",
    "version": 3
   },
   "file_extension": ".py",
   "mimetype": "text/x-python",
   "name": "python",
   "nbconvert_exporter": "python",
   "pygments_lexer": "ipython3",
   "version": "3.8.3"
  }
 },
 "nbformat": 4,
 "nbformat_minor": 4
}

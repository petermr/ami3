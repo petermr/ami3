{
 "cells": [
  {
   "cell_type": "markdown",
   "metadata": {},
   "source": [
    "# extract data from thermal conductivity diagrams\n",
    "\n"
   ]
  },
  {
   "cell_type": "markdown",
   "metadata": {},
   "source": [
    "### variables\n",
    "\n"
   ]
  },
  {
   "cell_type": "code",
   "execution_count": 3,
   "metadata": {},
   "outputs": [
    {
     "name": "stdout",
     "output_type": "stream",
     "text": [
      "mkdir: /Users/pm286/workspace/work/: File exists\n",
      "mkdir: /Users/pm286/workspace/work/thermo/: File exists\n"
     ]
    }
   ],
   "source": [
    "# specific problem\n",
    "THERMO = \"thermo\"\n",
    "\n",
    "# where is ami3? (assume you have checked out or copied `ami3` distrib)\n",
    "HOME = \"/Users/pm286/\"\n",
    "WORKSPACE = HOME + \"workspace/\"\n",
    "AMI3 = WORKSPACE + \"cmdev/ami3/\"\n",
    "\n",
    "# local workspace\n",
    "WORK = WORKSPACE + \"work/\"\n",
    "! mkdir $WORK\n",
    "THERMO_WORK = WORK + THERMO + \"/\"\n",
    "! mkdir $THERMO_WORK\n",
    "\n",
    "### ami uses a CProject\n",
    "PROJECT = THERMO_WORK\n",
    "\n",
    "# general data resource within the `ami3` distrib\n",
    "IPYNB = AMI3 + \"src/ipynb/\"\n",
    "TEST_RESOURCES = AMI3 + \"src/test/resources/\"\n",
    "AMI_DATA = TEST_RESOURCES + \"org/contentmine/ami/\"\n",
    "\n",
    "# specific for thermal conductivity\n",
    "THERMO_DATA = AMI_DATA + THERMO + \"/\""
   ]
  },
  {
   "cell_type": "markdown",
   "metadata": {},
   "source": [
    "### check the files\n",
    "\n",
    "should be 6 pdfs\n"
   ]
  },
  {
   "cell_type": "code",
   "execution_count": 4,
   "metadata": {
    "scrolled": true
   },
   "outputs": [
    {
     "name": "stdout",
     "output_type": "stream",
     "text": [
      "PhysRevB.94.125203.pdf         PhysRevLett.125.045701.pdf\r\n",
      "PhysRevB.96.161201.pdf         PhysRevLett.125.085902.pdf\r\n",
      "PhysRevLett.117.046602.pdf     PhysRevMaterials.4.054002.pdf\r\n"
     ]
    }
   ],
   "source": [
    "ls $THERMO_DATA "
   ]
  },
  {
   "cell_type": "code",
   "execution_count": 5,
   "metadata": {},
   "outputs": [],
   "source": [
    "### copy data to local work space\n",
    "\n",
    "! cp -R $THERMO_DATA $PROJECT"
   ]
  },
  {
   "cell_type": "code",
   "execution_count": 6,
   "metadata": {},
   "outputs": [
    {
     "name": "stdout",
     "output_type": "stream",
     "text": [
      "project is /Users/pm286/workspace/work/thermo/\n",
      "PhysRevB.94.125203.pdf        \u001b[34mphysrevb.94.125203\u001b[m\u001b[m\r\n",
      "PhysRevB.96.161201.pdf        \u001b[34mphysrevb.96.161201\u001b[m\u001b[m\r\n",
      "PhysRevLett.117.046602.pdf    \u001b[34mphysrevlett.117.046602\u001b[m\u001b[m\r\n",
      "PhysRevLett.125.045701.pdf    \u001b[34mphysrevlett.125.045701\u001b[m\u001b[m\r\n",
      "PhysRevLett.125.085902.pdf    \u001b[34mphysrevlett.125.085902\u001b[m\u001b[m\r\n",
      "PhysRevMaterials.4.054002.pdf \u001b[34mphysrevmaterials.4.054002\u001b[m\u001b[m\r\n",
      "make_project.json\r\n"
     ]
    }
   ],
   "source": [
    "print (\"project is \" + PROJECT)\n",
    "! ls $PROJECT"
   ]
  },
  {
   "cell_type": "code",
   "execution_count": 17,
   "metadata": {},
   "outputs": [
    {
     "name": "stdout",
     "output_type": "stream",
     "text": [
      "proj /Users/pm286/workspace/work/thermo/\n",
      "ls: PROJECT: No such file or directory\n",
      "ami -vv -p /Users/pm286/workspace/work/thermo/ makeproject --rawfiletypes pdf\n",
      "/bin/bash: CMD: command not found\n"
     ]
    }
   ],
   "source": [
    "## make project\n",
    "\n",
    "print (\"proj \"+PROJECT)\n",
    "! ls PROJECT\n",
    "CMD = \"ami -vv -p \" + PROJECT + \" makeproject --rawfiletypes pdf\"\n",
    "print (CMD)\n",
    "# ! CMD\n",
    "! ami -vv -p /Users/pm286/workspace/work/thermo/ makeproject --rawfiletypes pdf"
   ]
  },
  {
   "cell_type": "code",
   "execution_count": null,
   "metadata": {},
   "outputs": [],
   "source": []
  },
  {
   "cell_type": "code",
   "execution_count": null,
   "metadata": {},
   "outputs": [],
   "source": []
  }
 ],
 "metadata": {
  "kernelspec": {
   "display_name": "Python 3",
   "language": "python",
   "name": "python3"
  },
  "language_info": {
   "codemirror_mode": {
    "name": "ipython",
    "version": 3
   },
   "file_extension": ".py",
   "mimetype": "text/x-python",
   "name": "python",
   "nbconvert_exporter": "python",
   "pygments_lexer": "ipython3",
   "version": "3.8.3"
  }
 },
 "nbformat": 4,
 "nbformat_minor": 4
}

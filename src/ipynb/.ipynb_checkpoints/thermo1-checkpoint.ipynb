{
 "cells": [
  {
   "cell_type": "markdown",
   "metadata": {},
   "source": [
    "# extract data from thermal conductivity diagrams\n",
    "\n"
   ]
  },
  {
   "cell_type": "markdown",
   "metadata": {},
   "source": [
    "### variables\n",
    "\n"
   ]
  },
  {
   "cell_type": "code",
   "execution_count": 3,
   "metadata": {},
   "outputs": [
    {
     "name": "stdout",
     "output_type": "stream",
     "text": [
      "mkdir: /Users/pm286/workspace/work/: File exists\n",
      "mkdir: /Users/pm286/workspace/work/thermo/: File exists\n"
     ]
    }
   ],
   "source": [
    "# specific problem\n",
    "THERMO = \"thermo\"\n",
    "\n",
    "# where is ami3? (assume you have checked out or copied `ami3` distrib)\n",
    "HOME = \"/Users/pm286/\"\n",
    "WORKSPACE = HOME + \"workspace/\"\n",
    "AMI3 = WORKSPACE + \"cmdev/ami3/\"\n",
    "\n",
    "# local workspace\n",
    "WORK = WORKSPACE + \"work/\"\n",
    "! mkdir $WORK\n",
    "THERMO_WORK = WORK + THERMO + \"/\"\n",
    "! mkdir $THERMO_WORK\n",
    "\n",
    "### ami uses a CProject\n",
    "PROJECT = THERMO_WORK\n",
    "\n",
    "# general data resource within the `ami3` distrib\n",
    "IPYNB = AMI3 + \"src/ipynb/\"\n",
    "TEST_RESOURCES = AMI3 + \"src/test/resources/\"\n",
    "AMI_DATA = TEST_RESOURCES + \"org/contentmine/ami/\"\n",
    "\n",
    "# specific for thermal conductivity\n",
    "THERMO_DATA = AMI_DATA + THERMO + \"/\""
   ]
  },
  {
   "cell_type": "markdown",
   "metadata": {},
   "source": [
    "### check the files\n",
    "\n",
    "should be 6 pdfs\n"
   ]
  },
  {
   "cell_type": "code",
   "execution_count": 4,
   "metadata": {
    "scrolled": true
   },
   "outputs": [
    {
     "name": "stdout",
     "output_type": "stream",
     "text": [
      "PhysRevB.94.125203.pdf         PhysRevLett.125.045701.pdf\r\n",
      "PhysRevB.96.161201.pdf         PhysRevLett.125.085902.pdf\r\n",
      "PhysRevLett.117.046602.pdf     PhysRevMaterials.4.054002.pdf\r\n"
     ]
    }
   ],
   "source": [
    "ls $THERMO_DATA "
   ]
  },
  {
   "cell_type": "code",
   "execution_count": 5,
   "metadata": {},
   "outputs": [],
   "source": [
    "### copy data to local work space\n",
    "\n",
    "! cp -R $THERMO_DATA $PROJECT"
   ]
  },
  {
   "cell_type": "code",
   "execution_count": 6,
   "metadata": {},
   "outputs": [
    {
     "name": "stdout",
     "output_type": "stream",
     "text": [
      "project is /Users/pm286/workspace/work/thermo/\n",
      "PhysRevB.94.125203.pdf        \u001b[34mphysrevb.94.125203\u001b[m\u001b[m\r\n",
      "PhysRevB.96.161201.pdf        \u001b[34mphysrevb.96.161201\u001b[m\u001b[m\r\n",
      "PhysRevLett.117.046602.pdf    \u001b[34mphysrevlett.117.046602\u001b[m\u001b[m\r\n",
      "PhysRevLett.125.045701.pdf    \u001b[34mphysrevlett.125.045701\u001b[m\u001b[m\r\n",
      "PhysRevLett.125.085902.pdf    \u001b[34mphysrevlett.125.085902\u001b[m\u001b[m\r\n",
      "PhysRevMaterials.4.054002.pdf \u001b[34mphysrevmaterials.4.054002\u001b[m\u001b[m\r\n",
      "make_project.json\r\n"
     ]
    }
   ],
   "source": [
    "print (\"project is \" + PROJECT)\n",
    "! ls $PROJECT"
   ]
  },
  {
   "cell_type": "code",
   "execution_count": 18,
   "metadata": {},
   "outputs": [
    {
     "name": "stdout",
     "output_type": "stream",
     "text": [
      "proj /Users/pm286/workspace/work/thermo/\n",
      "ls: PROJECT: No such file or directory\n",
      "ami -vv -p /Users/pm286/workspace/work/thermo/ makeproject --rawfiletypes pdf\n",
      "(The console will show DEBUG level messages)\n",
      "(Logs will also be printed to /Users/pm286/workspace/cmdev/ami3/src/ipynb/logs/ami.log)\n",
      "Version: ami 2020.08.09_09.54-NEXT-SNAPSHOT\n",
      "(jar:file:/Users/pm286/workspace/cmdev/ami3/target/appassembler/repo/ami3-2020.08.09_09.54-NEXT-SNAPSHOT.jar)\n",
      "JVM: 14.0.1 (Oracle Corporation Java HotSpot(TM) 64-Bit Server VM 14.0.1+7)\n",
      "OS: Mac OS X 10.15.6 x86_64\n",
      "\n",
      "\n",
      "Generic values (AMIMakeProjectTool)\n",
      "================================\n",
      "input basename      null\n",
      "input basename list null\n",
      "cproject            /Users/pm286/workspace/work/thermo\n",
      "ctree               \n",
      "cTreeList           7 trees [/Users/pm286/workspace/work/thermo/fulltext, /Use\n",
      "excludeBase         {}\n",
      "excludeTrees        {}\n",
      "forceMake           false\n",
      "includeBase         {}\n",
      "includeTrees        null\n",
      "log4j               {}\n",
      "verbose             2\n",
      "\n",
      "Specific values (AMIMakeProjectTool)\n",
      "================================\n",
      "compress            25\n",
      "omit                [template\\.xml, log\\.txt, summary\\.json]\n",
      "directory           /Users/pm286/workspace/work/thermo\n",
      "compress            25\n",
      "omit                [template\\.xml, log\\.txt, summary\\.json]\n",
      "directory           /Users/pm286/workspace/work/thermo\n",
      "file types          [pdf]\n",
      "logfile             null\n",
      "."
     ]
    }
   ],
   "source": [
    "## make project\n",
    "\n",
    "print (\"proj \"+PROJECT)\n",
    "! ls PROJECT\n",
    "CMD = \"ami -vv -p \" + PROJECT + \" makeproject --rawfiletypes pdf\"\n",
    "print (CMD)\n",
    "# ! CMD\n",
    "! ami -vv -p /Users/pm286/workspace/work/thermo/ makeproject --rawfiletypes pdf"
   ]
  },
  {
   "cell_type": "code",
   "execution_count": 19,
   "metadata": {},
   "outputs": [
    {
     "name": "stdout",
     "output_type": "stream",
     "text": [
      "\u001b[34mlogs\u001b[m\u001b[m/         \u001b[34mtarget\u001b[m\u001b[m/       test.ipynb    thermo.ipynb\r\n"
     ]
    }
   ],
   "source": [
    "ls"
   ]
  },
  {
   "cell_type": "code",
   "execution_count": 20,
   "metadata": {},
   "outputs": [
    {
     "name": "stdout",
     "output_type": "stream",
     "text": [
      "\u001b[34mfulltext\u001b[m\u001b[m/                      \u001b[34mphysrevlett.125.045701\u001b[m\u001b[m/\r\n",
      "make_project.json              physrevlett.125.045701.pdf\r\n",
      "\u001b[34mphysrevb.94.125203\u001b[m\u001b[m/            \u001b[34mphysrevlett.125.085902\u001b[m\u001b[m/\r\n",
      "physrevb.94.125203.pdf         physrevlett.125.085902.pdf\r\n",
      "\u001b[34mphysrevb.96.161201\u001b[m\u001b[m/            \u001b[34mphysrevmaterials.4.054002\u001b[m\u001b[m/\r\n",
      "\u001b[34mphysrevlett.117.046602\u001b[m\u001b[m/        physrevmaterials.4.054002.pdf\r\n",
      "physrevlett.117.046602.pdf\r\n"
     ]
    }
   ],
   "source": [
    "ls /Users/pm286/workspace/work/thermo/"
   ]
  },
  {
   "cell_type": "code",
   "execution_count": 21,
   "metadata": {},
   "outputs": [],
   "source": [
    "rm -rf fulltext\n"
   ]
  },
  {
   "cell_type": "code",
   "execution_count": 24,
   "metadata": {},
   "outputs": [
    {
     "name": "stdout",
     "output_type": "stream",
     "text": [
      "\u001b[01;34m/Users/pm286/workspace/work/thermo/\u001b[00m\r\n",
      "├── \u001b[01;34mfulltext\u001b[00m\r\n",
      "│   └── fulltext.pdf\r\n",
      "├── make_project.json\r\n",
      "├── \u001b[01;34mphysrevb.94.125203\u001b[00m\r\n",
      "│   └── fulltext.pdf\r\n",
      "├── physrevb.94.125203.pdf\r\n",
      "├── \u001b[01;34mphysrevb.96.161201\u001b[00m\r\n",
      "│   └── fulltext.pdf\r\n",
      "├── \u001b[01;34mphysrevlett.117.046602\u001b[00m\r\n",
      "│   └── fulltext.pdf\r\n",
      "├── physrevlett.117.046602.pdf\r\n",
      "├── \u001b[01;34mphysrevlett.125.045701\u001b[00m\r\n",
      "│   └── fulltext.pdf\r\n",
      "├── physrevlett.125.045701.pdf\r\n",
      "├── \u001b[01;34mphysrevlett.125.085902\u001b[00m\r\n",
      "│   └── fulltext.pdf\r\n",
      "├── physrevlett.125.085902.pdf\r\n",
      "├── \u001b[01;34mphysrevmaterials.4.054002\u001b[00m\r\n",
      "│   └── fulltext.pdf\r\n",
      "└── physrevmaterials.4.054002.pdf\r\n",
      "\r\n",
      "7 directories, 13 files\r\n"
     ]
    }
   ],
   "source": [
    "! tree $THERMO_WORK"
   ]
  },
  {
   "cell_type": "code",
   "execution_count": 25,
   "metadata": {},
   "outputs": [
    {
     "name": "stdout",
     "output_type": "stream",
     "text": [
      "(The console will show DEBUG level messages)\n",
      "(Logs will also be printed to /Users/pm286/workspace/cmdev/ami3/src/ipynb/logs/ami.log)\n",
      "Version: ami 2020.08.09_09.54-NEXT-SNAPSHOT\n",
      "(jar:file:/Users/pm286/workspace/cmdev/ami3/target/appassembler/repo/ami3-2020.08.09_09.54-NEXT-SNAPSHOT.jar)\n",
      "JVM: 14.0.1 (Oracle Corporation Java HotSpot(TM) 64-Bit Server VM 14.0.1+7)\n",
      "OS: Mac OS X 10.15.6 x86_64\n",
      "\n",
      "\n",
      "Generic values (AMIPDFTool)\n",
      "================================\n",
      "input basename      null\n",
      "input basename list null\n",
      "cproject            /Users/pm286/workspace/work/thermo\n",
      "ctree               \n",
      "cTreeList           7 trees [/Users/pm286/workspace/work/thermo/fulltext, /Use\n",
      "excludeBase         {}\n",
      "excludeTrees        {}\n",
      "forceMake           false\n",
      "includeBase         {}\n",
      "includeTrees        null\n",
      "log4j               {}\n",
      "verbose             2\n",
      "\n",
      "Specific values (AMIPDFTool)\n",
      "================================\n",
      "Command line options for 'ami pdfbox':\n",
      "--debug             : d AMI_BRIEF\n",
      "--imagedir          : d pdfimages/\n",
      "--maxpages          : d         5\n",
      "--maxprimitives     : d      5000\n",
      "--minimagesize      : d   (10,10)\n",
      "--pages             : d      null\n",
      "--parser            : d       two\n",
      "--no-pdfimages      : d      true\n",
      "--pdf2txt           : d     false\n",
      "--svgdir            : d      svg/\n",
      "--no-svgpages       : d      true\n",
      "--tidysvg           : d [concat, spaces]\n",
      "--help              : d     false\n",
      "--version           : d     false\n",
      "AMIPDFTool cTree: fulltext\n",
      "cTree: fulltext\n",
      "pi>include: [-1]\n",
      "\n",
      "ipageIncluder include: [-1]\n",
      "\n",
      " max pages: 5 0 \n",
      "pageIncluder pages include: [0, 1, 2, 3, 4]\n",
      "[1][2][.0][.0][.0][.0][.0][.0][.0][.0][.0][.0][.0][.0][.0][.0][.0][.0][.0][.0][.0][.0][.0][.0][.0][.0][.0][.0][.0][.0][.0][.0][.0][.1][.1][.1][.1][.1][.1][.1][.1][.1][.1][.1][.1][.1][.1][.1][.1][.1][.1][.1][.1][.1][.1][.1][.1][.1][.1][.1][.1][.1][.1][.1][.1][.1][.1][.1][.1][.1][.1][.1][.1][.1][.1][.1][.1][.1][.1][.1][.1][.1][.1][.1][.1][.1][.1][.1][.1][.1][.1][.1][.1][.1][.1][.1][.1][.1][.1][.1][.1][.1][.1][.1][.1][.1]Sep 25, 2020 10:03:54 PM org.apache.pdfbox.pdmodel.font.PDSimpleFont toUnicode\n",
      "WARNING: No Unicode mapping for Gamma1 (3) in font NNCECD+MTMI\n",
      "[3][.0][.0]tokenList>5000: 6731\n",
      "pp: 1107 pp: 554 parse: 1843; d 38357 prims: 554/ extract: 0\n",
      "pp: 553 tokenList>5000: 6748\n",
      "pp: 1114 pp: 557 parse: 1846; d 38388 prims: 557/ extract: 1\n",
      "pp: 549 tokenList>5000: 6970\n",
      "pp: 1159 pp: 580 parse: 1988; d 39534 prims: 580/ extract: 0\n",
      "[4]Sep 25, 2020 10:04:08 PM org.apache.pdfbox.pdmodel.font.PDSimpleFont toUnicode\n",
      "WARNING: No Unicode mapping for Phi1 (7) in font NNCECD+MTMI\n",
      "[5]large SVG: (336786) PageSerial [page=1, subPage=null]\n",
      "large SVG: (10383827) PageSerial [page=2, subPage=null]\n",
      " img  5 \n",
      "pageIncluder pages include: [5, 6, 7, 8, 9]\n",
      "[6]end: \n",
      "AMIPDFTool cTree: physrevb.94.125203\n",
      "cTree: physrevb.94.125203\n",
      "pi>include: [-1]\n",
      "\n",
      "ipageIncluder include: [-1]\n",
      "\n",
      " max pages: 5 0 \n",
      "pageIncluder pages include: [0, 1, 2, 3, 4]\n",
      "[1][2][.0]Sep 25, 2020 10:04:10 PM org.apache.pdfbox.pdmodel.font.PDSimpleFont toUnicode\n",
      "WARNING: No Unicode mapping for Delta1 (8) in font CBKLNO+MTMI\n",
      "Sep 25, 2020 10:04:10 PM org.apache.pdfbox.pdmodel.font.PDSimpleFont toUnicode\n",
      "WARNING: No Unicode mapping for bracketleftbigg (2) in font CBKMNK+MTEX\n",
      "Sep 25, 2020 10:04:10 PM org.apache.pdfbox.pdmodel.font.PDSimpleFont toUnicode\n",
      "WARNING: No Unicode mapping for parenleftbigg (3) in font CBKMNK+MTEX\n",
      "Sep 25, 2020 10:04:10 PM org.apache.pdfbox.pdmodel.font.PDSimpleFont toUnicode\n",
      "WARNING: No Unicode mapping for parenrightbigg (4) in font CBKMNK+MTEX\n",
      "Sep 25, 2020 10:04:10 PM org.apache.pdfbox.pdmodel.font.PDSimpleFont toUnicode\n",
      "WARNING: No Unicode mapping for bracketrightbigg (5) in font CBKMNK+MTEX\n",
      "Sep 25, 2020 10:04:10 PM org.apache.pdfbox.pdmodel.font.PDSimpleFont toUnicode\n",
      "WARNING: No Unicode mapping for parenleftbig (6) in font CBKMNK+MTEX\n",
      "Sep 25, 2020 10:04:10 PM org.apache.pdfbox.pdmodel.font.PDSimpleFont toUnicode\n",
      "WARNING: No Unicode mapping for parenrightbig (7) in font CBKMNK+MTEX\n",
      "Sep 25, 2020 10:04:11 PM org.apache.pdfbox.pdmodel.font.PDSimpleFont toUnicode\n",
      "WARNING: No Unicode mapping for Gamma1 (11) in font CBKLNO+MTMI\n",
      "[3][.0]Sep 25, 2020 10:04:11 PM org.apache.pdfbox.pdmodel.font.PDSimpleFont toUnicode\n",
      "WARNING: No Unicode mapping for prime (4) in font CBKLNP+MTSY\n",
      "[4][.0][.1][.2][5] img  img  img  img  img  5 \n",
      "pageIncluder pages include: [5, 6, 7, 8, 9]\n",
      "[6]end: \n",
      "AMIPDFTool cTree: physrevb.96.161201\n",
      "cTree: physrevb.96.161201\n",
      "pi>include: [-1]\n",
      "\n",
      "ipageIncluder include: [-1]\n",
      "\n",
      " max pages: 5 0 \n",
      "pageIncluder pages include: [0, 1, 2, 3, 4]\n",
      "[1][2][.0][.0][.0][.0][.0][.0][.0][.0][.0][.0][.0][.0][.0][.0][.0][.0][.0][.0][.0][.0][.0][.0][.0][.0][.0][.0][.0][.0][.0][.0][.0][.1][.1][.1][.1][.1][.1][.1][.1][.1][.1][.1][.1][.1][.1][.1][.1][.1][.1][.1][.1][.1][.1][.1][.1][.1][.1][.1][.1][.1][.1][.1][.1][.1][.1][.1][.1][.1][.1][.1][.1][.1][.1][.1][.1][.1][.1][.1][.1][.1][.1][.1][.1][.1][.1][.1][.1][.1][.1][.1][.1][.1][.1][.1][.1][.1][.1][.1][.1][.1][.1][.1][.1][.1]Sep 25, 2020 10:04:13 PM org.apache.pdfbox.pdmodel.font.PDSimpleFont toUnicode\n",
      "WARNING: No Unicode mapping for Gamma1 (3) in font NNCECD+MTMI\n",
      "[3][.0][.0]tokenList>5000: 6731\n",
      "pp: 1107 pp: 554 parse: 1923; d 38357 prims: 554/ extract: 1\n",
      "pp: 553 tokenList>5000: 6748\n",
      "pp: 1114 pp: 557 parse: 1932; d 38388 prims: 557/ extract: 0\n",
      "pp: 549 tokenList>5000: 6970\n",
      "pp: 1159 pp: 580 parse: 2067; d 39534 prims: 580/ extract: 1\n",
      "[4]Sep 25, 2020 10:04:27 PM org.apache.pdfbox.pdmodel.font.PDSimpleFont toUnicode\n",
      "WARNING: No Unicode mapping for Phi1 (7) in font NNCECD+MTMI\n",
      "[5]large SVG: (336786) PageSerial [page=1, subPage=null]\n",
      "large SVG: (10383827) PageSerial [page=2, subPage=null]\n",
      " img  5 \n",
      "pageIncluder pages include: [5, 6, 7, 8, 9]\n",
      "[6]end: \n",
      "AMIPDFTool cTree: physrevlett.117.046602\n",
      "cTree: physrevlett.117.046602\n",
      "pi>include: [-1]\n",
      "\n",
      "ipageIncluder include: [-1]\n",
      "\n",
      " max pages: 5 0 \n",
      "pageIncluder pages include: [0, 1, 2, 3, 4]\n",
      "[1][2]Sep 25, 2020 10:04:29 PM org.apache.pdfbox.pdmodel.font.PDSimpleFont toUnicode\n",
      "WARNING: No Unicode mapping for C3 (2) in font CLGLMI+AdvP4C4E74\n",
      "tokenList>5000: 12403\n",
      "pp: 1757 pp: 879 parse: 4522; d 73475 prims: 879/ extract: 1\n",
      "[3]Sep 25, 2020 10:04:34 PM org.apache.pdfbox.pdmodel.font.PDSimpleFont toUnicode\n",
      "WARNING: No Unicode mapping for C6 (3) in font CLGLMI+AdvP4C4E74\n",
      "[4][.0][5][.0]large SVG: (1020589) PageSerial [page=3, subPage=null]\n",
      " img  img  5 \n",
      "pageIncluder pages include: [5, 6, 7, 8, 9]\n",
      "[6]end: \n",
      "AMIPDFTool cTree: physrevlett.125.045701\n",
      "cTree: physrevlett.125.045701\n",
      "pi>include: [-1]\n",
      "\n",
      "ipageIncluder include: [-1]\n",
      "\n",
      " max pages: 5 0 \n",
      "pageIncluder pages include: [0, 1, 2, 3, 4]\n",
      "[1][2][.0]!![3]![4][.0][.1][5][.0] img  img  img  img  5 \n",
      "pageIncluder pages include: [5, 6, 7, 8, 9]\n",
      "[6]!!end: \n",
      "AMIPDFTool cTree: physrevlett.125.085902\n",
      "cTree: physrevlett.125.085902\n",
      "pi>include: [-1]\n",
      "\n",
      "ipageIncluder include: [-1]\n",
      "\n",
      " max pages: 5 0 \n",
      "pageIncluder pages include: [0, 1, 2, 3, 4]\n",
      "[1]Sep 25, 2020 10:04:40 PM org.apache.pdfbox.pdmodel.font.PDSimpleFont toUnicode\n",
      "WARNING: No Unicode mapping for C6 (1) in font BIMMLC+AdvP4C4E74\n",
      "[2]Sep 25, 2020 10:04:40 PM org.apache.pdfbox.pdmodel.font.PDSimpleFont toUnicode\n",
      "WARNING: No Unicode mapping for C3 (3) in font BIMMLC+AdvP4C4E74\n",
      "[.0][3][.0][4][.0][5]Sep 25, 2020 10:04:41 PM org.apache.pdfbox.pdmodel.font.PDSimpleFont toUnicode\n",
      "WARNING: No Unicode mapping for C138 (4) in font BIMMLC+AdvP4C4E74\n",
      "[.0] img  img  img  img  5 \n",
      "pageIncluder pages include: [5, 6, 7, 8, 9]\n",
      "[6][7]end: \n",
      "AMIPDFTool cTree: physrevmaterials.4.054002\n",
      "cTree: physrevmaterials.4.054002\n",
      "pi>include: [-1]\n",
      "\n",
      "ipageIncluder include: [-1]\n",
      "\n",
      " max pages: 5 0 \n",
      "pageIncluder pages include: [0, 1, 2, 3, 4]\n",
      "[1][.0][2][.0][3][.0][.1][4][.0][5] img  img  img  img  img end: \n"
     ]
    }
   ],
   "source": [
    "! ami -vv -p /Users/pm286/workspace/work/thermo/ pdfbox"
   ]
  },
  {
   "cell_type": "code",
   "execution_count": 26,
   "metadata": {},
   "outputs": [
    {
     "name": "stdout",
     "output_type": "stream",
     "text": [
      "\u001b[01;34m/Users/pm286/workspace/work/thermo/\u001b[00m\r\n",
      "├── \u001b[01;34mfulltext\u001b[00m\r\n",
      "│   ├── fulltext.pdf\r\n",
      "│   ├── \u001b[01;34mpdfimages\u001b[00m\r\n",
      "│   │   └── image.2.1.230_247.198_212.png\r\n",
      "│   └── \u001b[01;34msvg\u001b[00m\r\n",
      "│       ├── fulltext-page.0.svg\r\n",
      "│       ├── fulltext-page.1.svg\r\n",
      "│       ├── fulltext-page.2.svg\r\n",
      "│       ├── fulltext-page.3.svg\r\n",
      "│       ├── fulltext-page.4.svg\r\n",
      "│       └── fulltext-page.5.svg\r\n",
      "├── make_project.json\r\n",
      "├── \u001b[01;34mphysrevb.94.125203\u001b[00m\r\n",
      "│   ├── fulltext.pdf\r\n",
      "│   ├── \u001b[01;34mpdfimages\u001b[00m\r\n",
      "│   │   ├── image.2.1.71_275.60_228.png\r\n",
      "│   │   ├── image.3.1.65_281.450_692.png\r\n",
      "│   │   ├── image.4.1.65_281.60_306.png\r\n",
      "│   │   ├── image.4.2.340_532.61_372.png\r\n",
      "│   │   └── image.4.3.313_558.611_714.png\r\n",
      "│   └── \u001b[01;34msvg\u001b[00m\r\n",
      "│       ├── fulltext-page.0.svg\r\n",
      "│       ├── fulltext-page.1.svg\r\n",
      "│       ├── fulltext-page.2.svg\r\n",
      "│       ├── fulltext-page.3.svg\r\n",
      "│       ├── fulltext-page.4.svg\r\n",
      "│       └── fulltext-page.5.svg\r\n",
      "├── physrevb.94.125203.pdf\r\n",
      "├── \u001b[01;34mphysrevb.96.161201\u001b[00m\r\n",
      "│   ├── fulltext.pdf\r\n",
      "│   ├── \u001b[01;34mpdfimages\u001b[00m\r\n",
      "│   │   └── image.2.1.230_247.198_212.png\r\n",
      "│   └── \u001b[01;34msvg\u001b[00m\r\n",
      "│       ├── fulltext-page.0.svg\r\n",
      "│       ├── fulltext-page.1.svg\r\n",
      "│       ├── fulltext-page.2.svg\r\n",
      "│       ├── fulltext-page.3.svg\r\n",
      "│       ├── fulltext-page.4.svg\r\n",
      "│       └── fulltext-page.5.svg\r\n",
      "├── \u001b[01;34mphysrevlett.117.046602\u001b[00m\r\n",
      "│   ├── fulltext.pdf\r\n",
      "│   ├── \u001b[01;34mpdfimages\u001b[00m\r\n",
      "│   │   ├── image.4.1.332_543.55_214.png\r\n",
      "│   │   └── image.5.1.137_212.303_308.png\r\n",
      "│   └── \u001b[01;34msvg\u001b[00m\r\n",
      "│       ├── fulltext-page.0.svg\r\n",
      "│       ├── fulltext-page.1.svg\r\n",
      "│       ├── fulltext-page.2.svg\r\n",
      "│       ├── fulltext-page.3.svg\r\n",
      "│       ├── fulltext-page.4.svg\r\n",
      "│       └── fulltext-page.5.svg\r\n",
      "├── physrevlett.117.046602.pdf\r\n",
      "├── \u001b[01;34mphysrevlett.125.045701\u001b[00m\r\n",
      "│   ├── fulltext.pdf\r\n",
      "│   ├── \u001b[01;34mpdfimages\u001b[00m\r\n",
      "│   │   ├── image.2.1.56_556.335_639.png\r\n",
      "│   │   ├── image.4.1.328_548.462_661.png\r\n",
      "│   │   ├── image.4.2.55_295.55_337.png\r\n",
      "│   │   └── image.5.1.400_475.474_478.png\r\n",
      "│   └── \u001b[01;34msvg\u001b[00m\r\n",
      "│       ├── fulltext-page.0.svg\r\n",
      "│       ├── fulltext-page.1.svg\r\n",
      "│       ├── fulltext-page.2.svg\r\n",
      "│       ├── fulltext-page.3.svg\r\n",
      "│       ├── fulltext-page.4.svg\r\n",
      "│       └── fulltext-page.5.svg\r\n",
      "├── physrevlett.125.045701.pdf\r\n",
      "├── \u001b[01;34mphysrevlett.125.085902\u001b[00m\r\n",
      "│   ├── fulltext.pdf\r\n",
      "│   ├── \u001b[01;34mpdfimages\u001b[00m\r\n",
      "│   │   ├── image.2.1.316_559.55_325.png\r\n",
      "│   │   ├── image.3.1.52_297.398_628.png\r\n",
      "│   │   ├── image.4.1.55_558.527_650.png\r\n",
      "│   │   └── image.5.1.400_475.642_646.png\r\n",
      "│   └── \u001b[01;34msvg\u001b[00m\r\n",
      "│       ├── fulltext-page.0.svg\r\n",
      "│       ├── fulltext-page.1.svg\r\n",
      "│       ├── fulltext-page.2.svg\r\n",
      "│       ├── fulltext-page.3.svg\r\n",
      "│       ├── fulltext-page.4.svg\r\n",
      "│       ├── fulltext-page.5.svg\r\n",
      "│       └── fulltext-page.6.svg\r\n",
      "├── physrevlett.125.085902.pdf\r\n",
      "├── \u001b[01;34mphysrevmaterials.4.054002\u001b[00m\r\n",
      "│   ├── fulltext.pdf\r\n",
      "│   ├── \u001b[01;34mpdfimages\u001b[00m\r\n",
      "│   │   ├── image.1.1.114_128.247_260.png\r\n",
      "│   │   ├── image.2.1.54_555.60_264.png\r\n",
      "│   │   ├── image.3.1.65_281.60_406.png\r\n",
      "│   │   ├── image.3.2.328_544.60_239.png\r\n",
      "│   │   └── image.4.1.328_544.60_230.png\r\n",
      "│   └── \u001b[01;34msvg\u001b[00m\r\n",
      "│       ├── fulltext-page.0.svg\r\n",
      "│       ├── fulltext-page.1.svg\r\n",
      "│       ├── fulltext-page.2.svg\r\n",
      "│       ├── fulltext-page.3.svg\r\n",
      "│       └── fulltext-page.4.svg\r\n",
      "└── physrevmaterials.4.054002.pdf\r\n",
      "\r\n",
      "21 directories, 77 files\r\n"
     ]
    }
   ],
   "source": [
    "! tree /Users/pm286/workspace/work/thermo/"
   ]
  },
  {
   "cell_type": "code",
   "execution_count": null,
   "metadata": {},
   "outputs": [],
   "source": []
  }
 ],
 "metadata": {
  "kernelspec": {
   "display_name": "Python 3",
   "language": "python",
   "name": "python3"
  },
  "language_info": {
   "codemirror_mode": {
    "name": "ipython",
    "version": 3
   },
   "file_extension": ".py",
   "mimetype": "text/x-python",
   "name": "python",
   "nbconvert_exporter": "python",
   "pygments_lexer": "ipython3",
   "version": "3.8.3"
  }
 },
 "nbformat": 4,
 "nbformat_minor": 4
}

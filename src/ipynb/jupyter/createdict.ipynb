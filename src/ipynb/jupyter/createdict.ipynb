{
 "cells": [
  {
   "cell_type": "code",
   "execution_count": 16,
   "metadata": {},
   "outputs": [],
   "source": [
    "# dictionary creation\n"
   ]
  },
  {
   "cell_type": "code",
   "execution_count": 17,
   "metadata": {},
   "outputs": [
    {
     "name": "stdout",
     "output_type": "stream",
     "text": [
      "Usage: \u001b[1mamidict\u001b[21m\u001b[0m [OPTIONS] COMMAND\r\n",
      "\r\n",
      "`amidict` is a command suite for managing dictionary:\r\n",
      "\r\n",
      "Parameters:\r\n",
      "===========\r\n",
      "      [\u001b[33m@<filename>\u001b[39m\u001b[0m...]   One or more argument files containing options.\r\n",
      "Options:\r\n",
      "========\r\n",
      "  \u001b[33m-d\u001b[39m\u001b[0m, \u001b[33m--dictionary\u001b[39m\u001b[0m=\u001b[3m<dict\u001b[23m\u001b[0m\u001b[3mionaryNameList>\u001b[23m\u001b[0m[,\u001b[3m<dictionaryNameList>\u001b[23m\u001b[0m...]...\r\n",
      "                         input or output dictionary NAMES/s. for 'create' must be singular; when 'display' or\r\n",
      "                           'translate', any number. Names should be lowercase, unique. [a-z][a-z0-9._]. Dots can be\r\n",
      "                           used to structure dictionaries intodirectories. Dictionary names are relative to\r\n",
      "                           'directory'. If <directory> is absent then dictionary names are absolute. ) This doesn't\r\n",
      "                           make sense; it should relate to current working directory.\r\n",
      "  \u001b[33m-D\u001b[39m\u001b[0m, \u001b[33m--directory\u001b[39m\u001b[0m=\u001b[3m<direc\u001b[23m\u001b[0m\u001b[3mtory>\u001b[23m\u001b[0m\r\n",
      "                         top directory containing dictionary/s. Subdirectories will use structured names (NYI). Thus\r\n",
      "                           dictionary 'animals' is found in '<directory>/animals.xml', while 'plants.parts' is found in\r\n",
      "                           <directory>/plants/parts.xml (NYI). Required for relative dictionary names.\r\n",
      "  \u001b[33m-h\u001b[39m\u001b[0m, \u001b[33m--help\u001b[39m\u001b[0m             Show this help message and exit.\r\n",
      "  \u001b[33m-V\u001b[39m\u001b[0m, \u001b[33m--version\u001b[39m\u001b[0m          Print version information and exit.\r\n",
      "General Options:\r\n",
      "  \u001b[33m-i\u001b[39m\u001b[0m, \u001b[33m--input\u001b[39m\u001b[0m=\u001b[3mFILE\u001b[23m\u001b[0m       Input filename, containing input for dictionary. its basename becomes the inputname\r\n",
      "  \u001b[33m-n\u001b[39m\u001b[0m, \u001b[33m--inputname\u001b[39m\u001b[0m=\u001b[3mPATH\u001b[23m\u001b[0m   User's basename for inputfiles (e.g. foo/bar/<basename>.txt). The default name for the\r\n",
      "                           dictionary;  but may be obsolete and superseded by `dictionary`\r\n",
      "  \u001b[33m-L\u001b[39m\u001b[0m, \u001b[33m--inputnamelist\u001b[39m\u001b[0m=\u001b[3mPA\u001b[23m\u001b[0m\u001b[3mTH\u001b[23m\u001b[0m...\r\n",
      "                         List of inputnames; will iterate over them, essentially compressing multiple commands into\r\n",
      "                           one. Experimental.\r\n",
      "  \u001b[33m-x\u001b[39m\u001b[0m, \u001b[33m--informat\u001b[39m\u001b[0m=\u001b[3mPATH\u001b[23m\u001b[0m    extension for dictionary file , default: xml\r\n",
      "Logging Options:\r\n",
      "  \u001b[33m-v\u001b[39m\u001b[0m, \u001b[33m--verbose\u001b[39m\u001b[0m          Specify multiple -v options to increase verbosity. For example, `-v -v -v` or `-vvv`. We map\r\n",
      "                           ERROR or WARN -> 0 (i.e. always print), INFO -> 1(-v), DEBUG->2 (-vv)\r\n",
      "      \u001b[33m--log4j\u001b[39m\u001b[0m\u001b[3m=(CLASS LEV\u001b[23m\u001b[0m\u001b[3mEL)...\u001b[23m\u001b[0m\r\n",
      "                         Customize logging configuration. Format: <classname> <level>; sets logging level of class, e.\r\n",
      "                           g.\r\n",
      "                          org.contentmine.ami.lookups.WikipediaDictionary INFO\r\n",
      "Commands:\r\n",
      "=========\r\n",
      "  \u001b[1mcreate\u001b[21m\u001b[0m     creates dictionaries from text, Wikimedia, etc..\r\n",
      "  \u001b[1mdisplay\u001b[21m\u001b[0m    Displays AMI dictionaries. (Under Development)\r\n",
      "  \u001b[1msearch\u001b[21m\u001b[0m     searches within dictionaries\r\n",
      "  \u001b[1mtranslate\u001b[21m\u001b[0m  translates dictionaries between formats\r\n",
      "  \u001b[1mupdate\u001b[21m\u001b[0m     updates or merges dictionaries\r\n"
     ]
    }
   ],
   "source": [
    "# help for amidict - note list of general options which apply to all commands\n",
    "# and note the subcommands\n",
    "!amidict --help"
   ]
  },
  {
   "cell_type": "code",
   "execution_count": 18,
   "metadata": {
    "scrolled": false
   },
   "outputs": [
    {
     "name": "stdout",
     "output_type": "stream",
     "text": [
      "Usage: \u001b[1mamidict create\u001b[21m\u001b[0m [\u001b[33m-hV\u001b[39m\u001b[0m] [\u001b[33m--query\u001b[39m\u001b[0m[=\u001b[3mquery\u001b[23m\u001b[0m]] [\u001b[33m-D\u001b[39m\u001b[0m=\u001b[3m<directory>\u001b[23m\u001b[0m] [\u001b[33m-i\u001b[39m\u001b[0m=\u001b[3mFILE\u001b[23m\u001b[0m]\r\n",
      "                      [\u001b[33m--informat\u001b[39m\u001b[0m=\u001b[3minput format\u001b[23m\u001b[0m] [\u001b[33m--linkcol\u001b[39m\u001b[0m=\u001b[3m<linkCol>\u001b[23m\u001b[0m]\r\n",
      "                      [\u001b[33m--maxcount\u001b[39m\u001b[0m=\u001b[3m<maxcount>\u001b[23m\u001b[0m] [\u001b[33m--sparqlquery\u001b[39m\u001b[0m=\u001b[3m<sparqlQueryFile>\u001b[23m\u001b[0m]\r\n",
      "                      [\u001b[33m--termcol\u001b[39m\u001b[0m=\u001b[3m<termCol>\u001b[23m\u001b[0m] [\u001b[33m--termfile\u001b[39m\u001b[0m=\u001b[3m<termfile>\u001b[23m\u001b[0m]\r\n",
      "                      [\u001b[33m--testString\u001b[39m\u001b[0m=\u001b[3m<testString>\u001b[23m\u001b[0m] [\u001b[33m--wptype\u001b[39m\u001b[0m=\u001b[3m<wptype>\u001b[23m\u001b[0m]\r\n",
      "                      [\u001b[33m--sparqlmap\u001b[39m\u001b[0m=\u001b[3m<String=String>\u001b[23m\u001b[0m[,\u001b[3m<String=String>\u001b[23m\u001b[0m...]]...\r\n",
      "                      [\u001b[33m--synonyms\u001b[39m\u001b[0m=\u001b[3m<synonymList>\u001b[23m\u001b[0m]...\r\n",
      "                      [\u001b[33m--transformName\u001b[39m\u001b[0m=\u001b[3m<String=String>\u001b[23m\u001b[0m[@\u001b[3m<String=String>\u001b[23m\u001b[0m...]]...\r\n",
      "                      [\u001b[33m--wikilinks\u001b[39m\u001b[0m[=\u001b[3m<wikiLinks>\u001b[23m\u001b[0m[,\u001b[3m<wikiLinks>\u001b[23m\u001b[0m...]...]]...\r\n",
      "                      [\u001b[33m--namecol\u001b[39m\u001b[0m=\u001b[3m<nameCol>\u001b[23m\u001b[0m...] [\u001b[33m-d\u001b[39m\u001b[0m=\u001b[3m<dictionaryNameList>\u001b[23m\u001b[0m[,\r\n",
      "                      \u001b[3m<dictionaryNameList>\u001b[23m\u001b[0m...]...]... [\u001b[33m--datacols\u001b[39m\u001b[0m=\u001b[3mdatacol\u001b[23m\u001b[0m[,\r\n",
      "                      \u001b[3mdatacol\u001b[23m\u001b[0m...]...]... [\u001b[33m--hrefcols\u001b[39m\u001b[0m=\u001b[3mhrefcol\u001b[23m\u001b[0m[,\r\n",
      "                      \u001b[3mhrefcol\u001b[23m\u001b[0m...]...]... [\u001b[33m-L\u001b[39m\u001b[0m=\u001b[3mPATH\u001b[23m\u001b[0m...]... [\u001b[33m--outformats\u001b[39m\u001b[0m=\u001b[3moutput \u001b[23m\u001b[0m\r\n",
      "               \u001b[3m       format\u001b[23m\u001b[0m[,\u001b[3moutput format\u001b[23m\u001b[0m...]...]...\r\n",
      "                      [\u001b[33m--template\u001b[39m\u001b[0m=\u001b[3m<templateNames>\u001b[23m\u001b[0m...]... [\u001b[33m--terms\u001b[39m\u001b[0m=\u001b[3m<terms>\u001b[23m\u001b[0m[,\r\n",
      "                      \u001b[3m<terms>\u001b[23m\u001b[0m...]...]...\r\n",
      "creates dictionaries from text, Wikimedia, etc..\r\n",
      "TBD\r\n",
      "  \u001b[33m-d\u001b[39m\u001b[0m, \u001b[33m--dictionary\u001b[39m\u001b[0m=\u001b[3m<diction\u001b[23m\u001b[0m\u001b[3maryNameList>\u001b[23m\u001b[0m[,\u001b[3m<dictionaryNameList>\u001b[23m\u001b[0m...]...\r\n",
      "                            input or output dictionary NAMES/s. for 'create'\r\n",
      "                              must be singular; when 'display' or 'translate',\r\n",
      "                              any number. Names should be lowercase, unique.\r\n",
      "                              [a-z][a-z0-9._]. Dots can be used to structure\r\n",
      "                              dictionaries intodirectories. Dictionary names\r\n",
      "                              are relative to 'directory'. If <directory> is\r\n",
      "                              absent then dictionary names are absolute. ) This\r\n",
      "                              doesn't make sense; it should relate to current\r\n",
      "                              working directory.\r\n",
      "  \u001b[33m-D\u001b[39m\u001b[0m, \u001b[33m--directory\u001b[39m\u001b[0m=\u001b[3m<director\u001b[23m\u001b[0m\u001b[3my>\u001b[23m\u001b[0m\r\n",
      "                            top directory containing dictionary/s.\r\n",
      "                              Subdirectories will use structured names (NYI).\r\n",
      "                              Thus dictionary 'animals' is found in\r\n",
      "                              '<directory>/animals.xml', while 'plants.parts'\r\n",
      "                              is found in <directory>/plants/parts.xml (NYI).\r\n",
      "                              Required for relative dictionary names.\r\n",
      "      \u001b[33m--datacols\u001b[39m\u001b[0m=\u001b[3mdatacol\u001b[23m\u001b[0m[,\u001b[3md\u001b[23m\u001b[0m\u001b[3matacol\u001b[23m\u001b[0m...]...\r\n",
      "                            use these columns (by name) as additional data\r\n",
      "                              fields in dictionary. datacols='foo,bar' creates\r\n",
      "                              foo='fooval1' bar='barval1' if present. No\r\n",
      "                              controlled use or vocabulary and no hyperlinks.\r\n",
      "  \u001b[33m-h\u001b[39m\u001b[0m, \u001b[33m--help\u001b[39m\u001b[0m                Show this help message and exit.\r\n",
      "      \u001b[33m--hrefcols\u001b[39m\u001b[0m=\u001b[3mhrefcol\u001b[23m\u001b[0m[,\u001b[3mh\u001b[23m\u001b[0m\u001b[3mrefcol\u001b[23m\u001b[0m...]...\r\n",
      "                            external hyperlink column from table; might be\r\n",
      "                              Wikidata or remote site(s)\r\n",
      "  \u001b[33m-i\u001b[39m\u001b[0m, \u001b[33m--input\u001b[39m\u001b[0m=\u001b[3mFILE\u001b[23m\u001b[0m          Input filename (no defaults)\r\n",
      "      \u001b[33m--informat\u001b[39m\u001b[0m=\u001b[3minput form\u001b[23m\u001b[0m\u001b[3mat\u001b[23m\u001b[0m\r\n",
      "                            input format (csv, list, mediawikitemplate,\r\n",
      "                              wikisparqlquery, wikisparqlcsv, wikisparqlxml,\r\n",
      "                              wikicategory, wikipage, wikitable, wikitemplate)\r\n",
      "  \u001b[33m-L\u001b[39m\u001b[0m, \u001b[33m--inputnamelist\u001b[39m\u001b[0m=\u001b[3mPATH\u001b[23m\u001b[0m...\r\n",
      "                            List of inputnames; will iterate over them,\r\n",
      "                              essentially compressing multiple commands into\r\n",
      "                              one. Experimental.\r\n",
      "      \u001b[33m--linkcol\u001b[39m\u001b[0m=\u001b[3m<linkCol>\u001b[23m\u001b[0m   column to extract link to internal pages. main use\r\n",
      "                              Wikipedia. Defaults to the 'name' column\r\n",
      "      \u001b[33m--maxcount\u001b[39m\u001b[0m=\u001b[3m<maxcount>\u001b[23m\u001b[0m maximum number of entries to process (mainly for\r\n",
      "                              testing) ; default MAX_VALUE\r\n",
      "      \u001b[33m--namecol\u001b[39m\u001b[0m=\u001b[3m<nameCol>\u001b[23m\u001b[0m...\r\n",
      "                            column(s) to extract name; use exact case (e.g.\r\n",
      "                              Common name)\r\n",
      "      \u001b[33m--outformats\u001b[39m\u001b[0m=\u001b[3moutput f\u001b[23m\u001b[0m\u001b[3mormat\u001b[23m\u001b[0m[,\u001b[3moutput format\u001b[23m\u001b[0m...]...\r\n",
      "                            output format (xml, html, json); default XML\r\n",
      "      \u001b[33m--query\u001b[39m\u001b[0m[=\u001b[3mquery\u001b[23m\u001b[0m]       generate query for cut and paste into EPMC or\r\n",
      "                              similar. value sets size of chunks (too large\r\n",
      "                              crashes EPMC). If missing, no query generated.Not\r\n",
      "                              very useful.\r\n",
      "      \u001b[33m--sparqlmap\u001b[39m\u001b[0m=\u001b[3m<String=S\u001b[23m\u001b[0m\u001b[3mtring>\u001b[23m\u001b[0m[,\u001b[3m<String=String>\u001b[23m\u001b[0m...]\r\n",
      "                            maps wikidata/SPARQL name onto AMIDict names.\r\n",
      "                              builtin names = id, term, name, wikidataURL,\r\n",
      "                              wikidataID, wikipediaURL, wikipediaPage,\r\n",
      "                              description, wikidata names are _p[\\d]+_*\r\n",
      "                              (properties)  and _q[\\d]+_* (items), ( see  *  )\r\n",
      "                              other names are _[a-zA-Z]* , everything else is\r\n",
      "                              an error.updated 2020-08-21. (this is still\r\n",
      "                              liable to change)Mandatory for wikisparql inputs\r\n",
      "      \u001b[33m--sparqlquery\u001b[39m\u001b[0m=\u001b[3m<sparql\u001b[23m\u001b[0m\u001b[3mQueryFile>\u001b[23m\u001b[0m\r\n",
      "                            File with wikidata query\r\n",
      "      \u001b[33m--synonyms\u001b[39m\u001b[0m=\u001b[3m<synonymLi\u001b[23m\u001b[0m\u001b[3mst>\u001b[23m\u001b[0m\r\n",
      "                            pointers (labels) to synonyms retrived from source.\r\n",
      "                              Syntax depends on source type.for `sparql` and\r\n",
      "                              `synonyms=`wikidataAltLabels` this retrieves a\r\n",
      "                              single String with comma-separated synonyms (and\r\n",
      "                              maybe extraneous commas). DEPRECATED - will move\r\n",
      "                              to `ami update`\r\n",
      "      \u001b[33m--template\u001b[39m\u001b[0m=\u001b[3m<templateN\u001b[23m\u001b[0m\u001b[3mames>\u001b[23m\u001b[0m...\r\n",
      "                            names of Wikipedia Templates, e.g.\r\n",
      "                              Viral_systemic_diseases (note underscores not\r\n",
      "                              spaces). Dictionaries will be created with\r\n",
      "                              lowercasenames and all punctuation removed).\r\n",
      "      \u001b[33m--termcol\u001b[39m\u001b[0m=\u001b[3m<termCol>\u001b[23m\u001b[0m   column(s) to extract term; use exact case (e.g.\r\n",
      "                              Term). Could be same as namecol\r\n",
      "      \u001b[33m--termfile\u001b[39m\u001b[0m=\u001b[3m<termfile>\u001b[23m\u001b[0m list of terms in file, line-separated. <basename>\r\n",
      "                              will become dictionary name, i.e. terpenes.txt\r\n",
      "                              creates basename=terpenes\r\n",
      "      \u001b[33m--terms\u001b[39m\u001b[0m=\u001b[3m<terms>\u001b[23m\u001b[0m[,\u001b[3m<ter\u001b[23m\u001b[0m\u001b[3mms>\u001b[23m\u001b[0m...]...\r\n",
      "                            list of terms (entries), space-separated. Requires\r\n",
      "                              `inputname` or `dictionary`\r\n",
      "      \u001b[33m--testString\u001b[39m\u001b[0m=\u001b[3m<testStr\u001b[23m\u001b[0m\u001b[3ming>\u001b[23m\u001b[0m\r\n",
      "                            String input for debugging; semantics depend on task\r\n",
      "      \u001b[33m--transformName\u001b[39m\u001b[0m=\u001b[3m<Stri\u001b[23m\u001b[0m\u001b[3mng=String>\u001b[23m\u001b[0m[@\u001b[3m<String=String>\u001b[23m\u001b[0m...]\r\n",
      "                            create new attribute name (key) and populate\r\n",
      "                              transformed map value. Syntax:newAttName@operation\r\n",
      "                              (oldAttName,operationValue) where 'operation' is\r\n",
      "                              REGEX and operationValue is a regex with\r\n",
      "                              captures. More operations may be added later (e.\r\n",
      "                              g. delete and append). DEPRECATED. Will move to\r\n",
      "                              ami update\r\n",
      "  \u001b[33m-V\u001b[39m\u001b[0m, \u001b[33m--version\u001b[39m\u001b[0m             Print version information and exit.\r\n",
      "      \u001b[33m--wikilinks\u001b[39m\u001b[0m[=\u001b[3m<wikiLin\u001b[23m\u001b[0m\u001b[3mks>\u001b[23m\u001b[0m[,\u001b[3m<wikiLinks>\u001b[23m\u001b[0m...]...]\r\n",
      "                            try to add link to Wikidata and/or Wikipedia page\r\n",
      "                              of same name.\r\n",
      "      \u001b[33m--wptype\u001b[39m\u001b[0m=\u001b[3m<wptype>\u001b[23m\u001b[0m     type of input (HTML , mediawiki)\r\n"
     ]
    }
   ],
   "source": [
    "# list options for `amidict create`\n",
    "!amidict create --help"
   ]
  },
  {
   "cell_type": "code",
   "execution_count": 19,
   "metadata": {},
   "outputs": [
    {
     "name": "stdout",
     "output_type": "stream",
     "text": [
      "\n",
      "Generic values (DictionaryCreationTool)\n",
      "================================\n",
      "-v to see generic values\n",
      "\n",
      "Specific values (DictionaryCreationTool)\n",
      "================================\n",
      "--testString        : d      null\n",
      "--wikilinks         : d [Lorg.contentmine.ami.tools.AbstractAMIDictTool$WikiLink;@2974f221\n",
      "--datacols          : d      null\n",
      "--hrefcols          : d      null\n",
      "--informat          : d      list\n",
      "--linkcol           : d      null\n",
      "--maxcount          : d 2147483647\n",
      "--namecol           : d      null\n",
      "--outformats        : d [Lorg.contentmine.ami.tools.AbstractAMIDictTool$DictionaryFileFormat;@4b23c30a\n",
      "--query             : d      null\n",
      "--sparqlmap         : d        {}\n",
      "--sparqlquery       : d      null\n",
      "--synonyms          : d      null\n",
      "--template          : d      null\n",
      "--termcol           : d      null\n",
      "--termfile          : d      null\n",
      "--terms             : m [avermectin, ketaconazole]\n",
      "--transformName     : d        {}\n",
      "--wptype            : d      null\n",
      "--input             : d      null\n",
      "--inputnamelist     : d      null\n",
      "--help              : d     false\n",
      "--version           : d     false\n",
      "--dictionary        : m [antifungal]\n",
      "--directory         : m /Users/pm286/dictionary\n",
      "..++NO terms extracted\n"
     ]
    }
   ],
   "source": [
    "#create dictionary from list of terms\n",
    "!amidict create \\\n",
    "    --dictionary antifungal \\\n",
    "    --directory \"/Users/pm286/dictionary\" \\\n",
    "    --terms \"avermectin\" \"ketaconazole\""
   ]
  },
  {
   "cell_type": "code",
   "execution_count": 20,
   "metadata": {},
   "outputs": [
    {
     "name": "stdout",
     "output_type": "stream",
     "text": [
      "total 8\r\n",
      "-rw-r--r--  1 pm286  staff  276 15 Oct 11:01 antifungal.xml\r\n"
     ]
    }
   ],
   "source": [
    "ls -lt /Users/pm286/dictionary\n"
   ]
  },
  {
   "cell_type": "code",
   "execution_count": 21,
   "metadata": {},
   "outputs": [
    {
     "name": "stdout",
     "output_type": "stream",
     "text": [
      "<?xml version=\"1.0\" encoding=\"UTF-8\"?>\n",
      "<dictionary title=\"antifungal\">\n",
      " <entry term=\"avermectin\" name=\"avermectin\" wikipedia=\"avermectin\" id=\"CM.antifungal.0\"/>\n",
      " <entry term=\"ketaconazole\" name=\"ketaconazole\" wikipedia=\"ketaconazole\" id=\"CM.antifungal.1\"/>\n",
      "</dictionary>\n",
      "\u001b[K\u001b[?1l\u001b>/pm286/dictionary/antifungal.xml (END)\u001b[m\u001b[K\u0007"
     ]
    }
   ],
   "source": [
    "!more /Users/pm286/dictionary/antifungal.xml"
   ]
  },
  {
   "cell_type": "code",
   "execution_count": 22,
   "metadata": {},
   "outputs": [],
   "source": [
    "#create from wikipedia Category https://en.wikipedia.org/wiki/Category:Lymphocytes"
   ]
  },
  {
   "cell_type": "code",
   "execution_count": 23,
   "metadata": {},
   "outputs": [
    {
     "name": "stdout",
     "output_type": "stream",
     "text": [
      "\n",
      "Generic values (DictionaryCreationTool)\n",
      "================================\n",
      "-v to see generic values\n",
      "\n",
      "Specific values (DictionaryCreationTool)\n",
      "================================\n",
      "--testString        : d      null\n",
      "--wikilinks         : d [Lorg.contentmine.ami.tools.AbstractAMIDictTool$WikiLink;@2974f221\n",
      "--datacols          : d      null\n",
      "--hrefcols          : d      null\n",
      "--informat          : m wikicategory\n",
      "--linkcol           : d      null\n",
      "--maxcount          : d 2147483647\n",
      "--namecol           : d      null\n",
      "--outformats        : d [Lorg.contentmine.ami.tools.AbstractAMIDictTool$DictionaryFileFormat;@4b23c30a\n",
      "--query             : d      null\n",
      "--sparqlmap         : d        {}\n",
      "--sparqlquery       : d      null\n",
      "--synonyms          : d      null\n",
      "--template          : d      null\n",
      "--termcol           : d      null\n",
      "--termfile          : d      null\n",
      "--terms             : d      null\n",
      "--transformName     : d        {}\n",
      "--wptype            : d      null\n",
      "--input             : m https://en.wikipedia.org/wiki/Category:Lymphocytes\n",
      "--inputnamelist     : d      null\n",
      "--help              : d     false\n",
      "--version           : d     false\n",
      "--dictionary        : m [lymphocytes]\n",
      "--directory         : m /Users/pm286/dictionary\n",
      "NO terms extracted\n"
     ]
    }
   ],
   "source": [
    "!amidict create --informat=wikicategory --directory /Users/pm286/dictionary --dictionary lymphocytes --input https://en.wikipedia.org/wiki/Category:Lymphocytes"
   ]
  },
  {
   "cell_type": "code",
   "execution_count": null,
   "metadata": {},
   "outputs": [],
   "source": []
  }
 ],
 "metadata": {
  "kernelspec": {
   "display_name": "Python 3",
   "language": "python",
   "name": "python3"
  },
  "language_info": {
   "codemirror_mode": {
    "name": "ipython",
    "version": 3
   },
   "file_extension": ".py",
   "mimetype": "text/x-python",
   "name": "python",
   "nbconvert_exporter": "python",
   "pygments_lexer": "ipython3",
   "version": "3.8.3"
  }
 },
 "nbformat": 4,
 "nbformat_minor": 4
}

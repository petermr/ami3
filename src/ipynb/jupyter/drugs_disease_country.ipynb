{
 "cells": [
  {
   "cell_type": "markdown",
   "metadata": {},
   "source": [
    "# search with ami\n",
    "\n"
   ]
  },
  {
   "cell_type": "markdown",
   "metadata": {},
   "source": [
    "### define the parameters of the search\n",
    "\n",
    "It is useful to use symbolic variables where possible\n"
   ]
  },
  {
   "cell_type": "code",
   "execution_count": 31,
   "metadata": {},
   "outputs": [
    {
     "name": "stdout",
     "output_type": "stream",
     "text": [
      "ls: date: No such file or directory\r\n"
     ]
    }
   ],
   "source": [
    "! date"
   ]
  },
  {
   "cell_type": "code",
   "execution_count": 32,
   "metadata": {},
   "outputs": [],
   "source": [
    "# specific problem\n",
    "PROJECT = \"drugs_disease_country\"\n",
    "EPMC = \"viral epidemics\"\n",
    "HITS = 100\n",
    "DICTIONARIES = \"drugs disease country\"\n",
    "CLEAN = True"
   ]
  },
  {
   "cell_type": "code",
   "execution_count": 33,
   "metadata": {},
   "outputs": [],
   "source": [
    "# This will be user-specific. EDIT\n",
    "# defines AMI3 and WORK\n",
    "\n",
    "# where is your workspace?\n",
    "HOME = \"/Users/pm286/\"\n",
    "WORK = HOME + \"workspace/work/search/\"\n",
    "\n",
    "# and where is ami3 distrib (DEMO ONLY)?\n",
    "AMI3 = HOME + \"workspace/cmdev/ami3/src/ipynb/work/search/\""
   ]
  },
  {
   "cell_type": "code",
   "execution_count": 34,
   "metadata": {
    "scrolled": false
   },
   "outputs": [
    {
     "name": "stdout",
     "output_type": "stream",
     "text": [
      "working in: /Users/pm286/workspace/work/search/\n",
      "files: \n",
      "\n",
      "\u001b[34mdict8\u001b[m\u001b[m                       \u001b[34mlogs\u001b[m\u001b[m\r\n",
      "dicts_8.ipynb               search.ipynb\r\n",
      "\u001b[34mdrugs_disease_country\u001b[m\u001b[m       \u001b[34mtarget\u001b[m\u001b[m\r\n",
      "drugs_disease_country.ipynb tempAll.svg\r\n",
      "\u001b[34mfunders\u001b[m\u001b[m                     tempAllPlots.svg\r\n",
      "funders.ipynb\r\n"
     ]
    }
   ],
   "source": [
    "# user independent \n",
    "# (DEMO ONLY) copy so we don't contaminate AMI3\n",
    "! cp -R $AMI3 $WORK\n",
    "\n",
    "#specific project\n",
    "PROJECT_WORK = WORK + PROJECT + \"/\"\n",
    "\n",
    "! cd $WORK\n",
    "print (\"working in: \" + WORK + \"\\nfiles: \\n\")\n",
    "# list all files in directory\n",
    "! ls\n",
    "\n"
   ]
  },
  {
   "cell_type": "code",
   "execution_count": 35,
   "metadata": {
    "scrolled": true
   },
   "outputs": [
    {
     "name": "stdout",
     "output_type": "stream",
     "text": [
      "==== clean: drugs_disease_country? True =====\n",
      "\n",
      "total 5984\n",
      "drwxr-xr-x  134 pm286  staff     4288 30 Sep 18:46 \u001b[34mdict8\u001b[m\u001b[m\n",
      "-rw-r--r--@   1 pm286  staff  2764454 30 Sep 18:48 dicts_8.ipynb\n",
      "-rw-r--r--@   1 pm286  staff     5547  1 Oct 12:09 drugs_disease_country.ipynb\n",
      "drwxr-xr-x  116 pm286  staff     3712 30 Sep 17:58 \u001b[34mfunders\u001b[m\u001b[m\n",
      "-rw-r--r--@   1 pm286  staff   274722 30 Sep 18:09 funders.ipynb\n",
      "drwxr-xr-x    3 pm286  staff       96 30 Sep 10:31 \u001b[34mlogs\u001b[m\u001b[m\n",
      "-rw-r--r--@   1 pm286  staff    11607 30 Sep 12:22 search.ipynb\n",
      "drwxr-xr-x    4 pm286  staff      128 30 Sep 10:32 \u001b[34mtarget\u001b[m\u001b[m\n"
     ]
    }
   ],
   "source": [
    "# clean project completely \n",
    "print (\"==== clean: \" + PROJECT + \"? \" + str(CLEAN) + \" =====\\n\")\n",
    "if (CLEAN):\n",
    "    ! rm -rf $PROJECT\n",
    "    ! rm tempAllPlots.svg tempAll.svg\n",
    "! ls -l"
   ]
  },
  {
   "cell_type": "markdown",
   "metadata": {},
   "source": [
    "## search EPMC with getpapers\n",
    "This needs\n",
    "* a search query (EPMC) to send to europepmc.org\n",
    "* a project name (PROJECT) which will create a directory under your current directory\n",
    "* maximum hits (HITS)"
   ]
  },
  {
   "cell_type": "code",
   "execution_count": 36,
   "metadata": {},
   "outputs": [
    {
     "name": "stdout",
     "output_type": "stream",
     "text": [
      "running: getpapers -q \"viral epidemics\" -o drugs_disease_country -x -k 100\n",
      "\u001b[32minfo\u001b[39m: Searching using eupmc API\n",
      "\u001b[32minfo\u001b[39m: Found 21406 open access results\n",
      "\u001b[33mwarn\u001b[39m: This version of getpapers wasn't built with this version of the EuPMC api in mind\n",
      "\u001b[33mwarn\u001b[39m: getpapers EuPMCVersion: 5.3.2 vs. 6.4 reported by api\n",
      "\u001b[32minfo\u001b[39m: Limiting to 100 hits\n",
      "\u001b[2K\u001b[1GRetrieving results [\u001b[32m=\u001b[39m\u001b[32m=\u001b[39m\u001b[32m=\u001b[39m\u001b[32m=\u001b[39m\u001b[32m=\u001b[39m\u001b[32m=\u001b[39m\u001b[32m=\u001b[39m\u001b[32m=\u001b[39m\u001b[32m=\u001b[39m\u001b[32m=\u001b[39m\u001b[32m=\u001b[39m\u001b[32m=\u001b[39m\u001b[32m=\u001b[39m\u001b[32m=\u001b[39m\u001b[32m=\u001b[39m\u001b[32m=\u001b[39m\u001b[32m=\u001b[39m\u001b[32m=\u001b[39m\u001b[32m=\u001b[39m\u001b[32m=\u001b[39m\u001b[32m=\u001b[39m\u001b[32m=\u001b[39m\u001b[32m=\u001b[39m\u001b[32m=\u001b[39m\u001b[32m=\u001b[39m\u001b[32m=\u001b[39m\u001b[32m=\u001b[39m\u001b[32m=\u001b[39m\u001b[32m=\u001b[39m\u001b[32m=\u001b[39m] 100% (eta 0.0s)\n",
      "\u001b[32minfo\u001b[39m: Done collecting results\n",
      "\u001b[32minfo\u001b[39m: limiting hits\n",
      "\u001b[32minfo\u001b[39m: Saving result metadata\n",
      "\u001b[32minfo\u001b[39m: Full EUPMC result metadata written to \u001b[34meupmc_results.json\u001b[39m\n",
      "\u001b[32minfo\u001b[39m: Individual EUPMC result metadata records written\n",
      "\u001b[32minfo\u001b[39m: Extracting fulltext HTML URL list (may not be available for all articles)\n",
      "\u001b[32minfo\u001b[39m: Fulltext HTML URL list written to \u001b[34meupmc_fulltext_html_urls.txt\u001b[39m\n",
      "\u001b[33mwarn\u001b[39m: Article with doi \"10.1101/2020.06.10.20127597 did not have a PMCID (therefore no XML)\n",
      "\u001b[33mwarn\u001b[39m: Article with pmcid \"PMC6517453\" was not Open Access (therefore no XML)\n",
      "\u001b[33mwarn\u001b[39m: Article with pmcid \"PMC7516576\" was not Open Access (therefore no XML)\n",
      "\u001b[33mwarn\u001b[39m: Article with pmcid \"PMC7513765\" was not Open Access (therefore no XML)\n",
      "\u001b[33mwarn\u001b[39m: Article with pmcid \"PMC7513919\" was not Open Access (therefore no XML)\n",
      "\u001b[33mwarn\u001b[39m: Article with pmcid \"PMC7485949\" was not Open Access (therefore no XML)\n",
      "\u001b[33mwarn\u001b[39m: Article with pmcid \"PMC7515607\" was not Open Access (therefore no XML)\n",
      "\u001b[33mwarn\u001b[39m: Article with pmcid \"PMC7371815\" was not Open Access (therefore no XML)\n",
      "\u001b[33mwarn\u001b[39m: Article with pmcid \"PMC7516517\" was not Open Access (therefore no XML)\n",
      "\u001b[33mwarn\u001b[39m: Article with pmcid \"PMC7467093\" was not Open Access (therefore no XML)\n",
      "\u001b[33mwarn\u001b[39m: Article with doi \"10.1101/2020.09.02.20187203 did not have a PMCID (therefore no XML)\n",
      "\u001b[33mwarn\u001b[39m: Article with pmcid \"PMC7314157\" was not Open Access (therefore no XML)\n",
      "\u001b[33mwarn\u001b[39m: Article with pmcid \"PMC7391983\" was not Open Access (therefore no XML)\n",
      "\u001b[33mwarn\u001b[39m: Article with pmcid \"PMC7508551\" was not Open Access (therefore no XML)\n",
      "\u001b[33mwarn\u001b[39m: Article with pmcid \"PMC7486873\" was not Open Access (therefore no XML)\n",
      "\u001b[33mwarn\u001b[39m: Article with pmcid \"PMC7164915\" was not Open Access (therefore no XML)\n",
      "\u001b[33mwarn\u001b[39m: Article with doi \"10.1101/2020.09.04.20187948 did not have a PMCID (therefore no XML)\n",
      "\u001b[33mwarn\u001b[39m: Article with pmcid \"PMC7180667\" was not Open Access (therefore no XML)\n",
      "\u001b[32minfo\u001b[39m: Got XML URLs for 82 out of 100 results\n",
      "\u001b[32minfo\u001b[39m: Downloading fulltext XML files\n"
     ]
    },
    {
     "name": "stdout",
     "output_type": "stream",
     "text": [
      "\u001b[2K\u001b[1GDownloading files [--------------------------] 1% (1/82) [0.0s elapsed, eta 0.0]\u001b[2K\u001b[1GDownloading files [\u001b[32m=\u001b[39m-------------------------] 2% (2/82) [0.0s elapsed, eta 0.0]\u001b[2K\u001b[1GDownloading files [\u001b[32m=\u001b[39m-------------------------] 4% (3/82) [0.0s elapsed, eta 0.0]\u001b[2K\u001b[1GDownloading files [\u001b[32m=\u001b[39m-------------------------] 5% (4/82) [0.0s elapsed, eta 0.0]\u001b[2K\u001b[1GDownloading files [\u001b[32m=\u001b[39m\u001b[32m=\u001b[39m------------------------] 6% (5/82) [0.0s elapsed, eta 0.0]\u001b[2K\u001b[1GDownloading files [\u001b[32m=\u001b[39m\u001b[32m=\u001b[39m------------------------] 7% (6/82) [0.0s elapsed, eta 0.0]\u001b[2K\u001b[1GDownloading files [\u001b[32m=\u001b[39m\u001b[32m=\u001b[39m------------------------] 9% (7/82) [0.0s elapsed, eta 0.0]\u001b[2K\u001b[1GDownloading files [\u001b[32m=\u001b[39m\u001b[32m=\u001b[39m-----------------------] 10% (8/82) [0.0s elapsed, eta 0.0]\u001b[2K\u001b[1GDownloading files [\u001b[32m=\u001b[39m\u001b[32m=\u001b[39m\u001b[32m=\u001b[39m----------------------] 11% (9/82) [0.0s elapsed, eta 0.0]\u001b[2K\u001b[1GDownloading files [\u001b[32m=\u001b[39m\u001b[32m=\u001b[39m\u001b[32m=\u001b[39m---------------------] 12% (10/82) [0.0s elapsed, eta 0.0]\u001b[2K\u001b[1GDownloading files [\u001b[32m=\u001b[39m\u001b[32m=\u001b[39m\u001b[32m=\u001b[39m---------------------] 13% (11/82) [0.5s elapsed, eta 3.4]\u001b[2K\u001b[1GDownloading files [\u001b[32m=\u001b[39m\u001b[32m=\u001b[39m\u001b[32m=\u001b[39m\u001b[32m=\u001b[39m--------------------] 15% (12/82) [0.5s elapsed, eta 3.1]\u001b[2K\u001b[1GDownloading files [\u001b[32m=\u001b[39m\u001b[32m=\u001b[39m\u001b[32m=\u001b[39m\u001b[32m=\u001b[39m--------------------] 16% (13/82) [0.5s elapsed, eta 2.8]\u001b[2K\u001b[1GDownloading files [\u001b[32m=\u001b[39m\u001b[32m=\u001b[39m\u001b[32m=\u001b[39m\u001b[32m=\u001b[39m--------------------] 17% (14/82) [0.6s elapsed, eta 2.9]\u001b[2K\u001b[1GDownloading files [\u001b[32m=\u001b[39m\u001b[32m=\u001b[39m\u001b[32m=\u001b[39m\u001b[32m=\u001b[39m--------------------] 18% (15/82) [0.7s elapsed, eta 3.2]\u001b[2K\u001b[1GDownloading files [\u001b[32m=\u001b[39m\u001b[32m=\u001b[39m\u001b[32m=\u001b[39m\u001b[32m=\u001b[39m\u001b[32m=\u001b[39m-------------------] 20% (16/82) [0.7s elapsed, eta 3.0]\u001b[2K\u001b[1GDownloading files [\u001b[32m=\u001b[39m\u001b[32m=\u001b[39m\u001b[32m=\u001b[39m\u001b[32m=\u001b[39m\u001b[32m=\u001b[39m-------------------] 21% (17/82) [0.8s elapsed, eta 2.9]\u001b[2K\u001b[1GDownloading files [\u001b[32m=\u001b[39m\u001b[32m=\u001b[39m\u001b[32m=\u001b[39m\u001b[32m=\u001b[39m\u001b[32m=\u001b[39m-------------------] 22% (18/82) [0.8s elapsed, eta 2.7]\u001b[2K\u001b[1GDownloading files [\u001b[32m=\u001b[39m\u001b[32m=\u001b[39m\u001b[32m=\u001b[39m\u001b[32m=\u001b[39m\u001b[32m=\u001b[39m\u001b[32m=\u001b[39m------------------] 23% (19/82) [1.0s elapsed, eta 3.3]\u001b[2K\u001b[1GDownloading files [\u001b[32m=\u001b[39m\u001b[32m=\u001b[39m\u001b[32m=\u001b[39m\u001b[32m=\u001b[39m\u001b[32m=\u001b[39m\u001b[32m=\u001b[39m------------------] 24% (20/82) [1.1s elapsed, eta 3.4]\u001b[2K\u001b[1GDownloading files [\u001b[32m=\u001b[39m\u001b[32m=\u001b[39m\u001b[32m=\u001b[39m\u001b[32m=\u001b[39m\u001b[32m=\u001b[39m\u001b[32m=\u001b[39m------------------] 26% (21/82) [1.2s elapsed, eta 3.6]\u001b[2K\u001b[1GDownloading files [\u001b[32m=\u001b[39m\u001b[32m=\u001b[39m\u001b[32m=\u001b[39m\u001b[32m=\u001b[39m\u001b[32m=\u001b[39m\u001b[32m=\u001b[39m------------------] 27% (22/82) [1.3s elapsed, eta 3.5]\u001b[2K\u001b[1GDownloading files [\u001b[32m=\u001b[39m\u001b[32m=\u001b[39m\u001b[32m=\u001b[39m\u001b[32m=\u001b[39m\u001b[32m=\u001b[39m\u001b[32m=\u001b[39m\u001b[32m=\u001b[39m-----------------] 28% (23/82) [1.3s elapsed, eta 3.4]\u001b[2K\u001b[1GDownloading files [\u001b[32m=\u001b[39m\u001b[32m=\u001b[39m\u001b[32m=\u001b[39m\u001b[32m=\u001b[39m\u001b[32m=\u001b[39m\u001b[32m=\u001b[39m\u001b[32m=\u001b[39m-----------------] 29% (24/82) [1.3s elapsed, eta 3.2]\u001b[2K\u001b[1GDownloading files [\u001b[32m=\u001b[39m\u001b[32m=\u001b[39m\u001b[32m=\u001b[39m\u001b[32m=\u001b[39m\u001b[32m=\u001b[39m\u001b[32m=\u001b[39m\u001b[32m=\u001b[39m-----------------] 30% (25/82) [1.4s elapsed, eta 3.1]\u001b[2K\u001b[1GDownloading files [\u001b[32m=\u001b[39m\u001b[32m=\u001b[39m\u001b[32m=\u001b[39m\u001b[32m=\u001b[39m\u001b[32m=\u001b[39m\u001b[32m=\u001b[39m\u001b[32m=\u001b[39m\u001b[32m=\u001b[39m----------------] 32% (26/82) [1.4s elapsed, eta 3.0]\u001b[2K\u001b[1GDownloading files [\u001b[32m=\u001b[39m\u001b[32m=\u001b[39m\u001b[32m=\u001b[39m\u001b[32m=\u001b[39m\u001b[32m=\u001b[39m\u001b[32m=\u001b[39m\u001b[32m=\u001b[39m\u001b[32m=\u001b[39m----------------] 33% (27/82) [1.4s elapsed, eta 2.9]\u001b[2K\u001b[1GDownloading files [\u001b[32m=\u001b[39m\u001b[32m=\u001b[39m\u001b[32m=\u001b[39m\u001b[32m=\u001b[39m\u001b[32m=\u001b[39m\u001b[32m=\u001b[39m\u001b[32m=\u001b[39m\u001b[32m=\u001b[39m----------------] 34% (28/82) [1.4s elapsed, eta 2.8]\u001b[2K\u001b[1GDownloading files [\u001b[32m=\u001b[39m\u001b[32m=\u001b[39m\u001b[32m=\u001b[39m\u001b[32m=\u001b[39m\u001b[32m=\u001b[39m\u001b[32m=\u001b[39m\u001b[32m=\u001b[39m\u001b[32m=\u001b[39m----------------] 35% (29/82) [1.5s elapsed, eta 2.7]\u001b[2K\u001b[1GDownloading files [\u001b[32m=\u001b[39m\u001b[32m=\u001b[39m\u001b[32m=\u001b[39m\u001b[32m=\u001b[39m\u001b[32m=\u001b[39m\u001b[32m=\u001b[39m\u001b[32m=\u001b[39m\u001b[32m=\u001b[39m\u001b[32m=\u001b[39m---------------] 37% (30/82) [1.6s elapsed, eta 2.7]\u001b[2K\u001b[1GDownloading files [\u001b[32m=\u001b[39m\u001b[32m=\u001b[39m\u001b[32m=\u001b[39m\u001b[32m=\u001b[39m\u001b[32m=\u001b[39m\u001b[32m=\u001b[39m\u001b[32m=\u001b[39m\u001b[32m=\u001b[39m\u001b[32m=\u001b[39m---------------] 38% (31/82) [2.1s elapsed, eta 3.5]\u001b[2K\u001b[1GDownloading files [\u001b[32m=\u001b[39m\u001b[32m=\u001b[39m\u001b[32m=\u001b[39m\u001b[32m=\u001b[39m\u001b[32m=\u001b[39m\u001b[32m=\u001b[39m\u001b[32m=\u001b[39m\u001b[32m=\u001b[39m\u001b[32m=\u001b[39m---------------] 39% (32/82) [2.3s elapsed, eta 3.6]\u001b[2K\u001b[1GDownloading files [\u001b[32m=\u001b[39m\u001b[32m=\u001b[39m\u001b[32m=\u001b[39m\u001b[32m=\u001b[39m\u001b[32m=\u001b[39m\u001b[32m=\u001b[39m\u001b[32m=\u001b[39m\u001b[32m=\u001b[39m\u001b[32m=\u001b[39m\u001b[32m=\u001b[39m--------------] 40% (33/82) [2.3s elapsed, eta 3.4]\u001b[2K\u001b[1GDownloading files [\u001b[32m=\u001b[39m\u001b[32m=\u001b[39m\u001b[32m=\u001b[39m\u001b[32m=\u001b[39m\u001b[32m=\u001b[39m\u001b[32m=\u001b[39m\u001b[32m=\u001b[39m\u001b[32m=\u001b[39m\u001b[32m=\u001b[39m\u001b[32m=\u001b[39m--------------] 41% (34/82) [2.3s elapsed, eta 3.3]\u001b[2K\u001b[1GDownloading files [\u001b[32m=\u001b[39m\u001b[32m=\u001b[39m\u001b[32m=\u001b[39m\u001b[32m=\u001b[39m\u001b[32m=\u001b[39m\u001b[32m=\u001b[39m\u001b[32m=\u001b[39m\u001b[32m=\u001b[39m\u001b[32m=\u001b[39m\u001b[32m=\u001b[39m--------------] 43% (35/82) [2.3s elapsed, eta 3.1]\u001b[2K\u001b[1GDownloading files [\u001b[32m=\u001b[39m\u001b[32m=\u001b[39m\u001b[32m=\u001b[39m\u001b[32m=\u001b[39m\u001b[32m=\u001b[39m\u001b[32m=\u001b[39m\u001b[32m=\u001b[39m\u001b[32m=\u001b[39m\u001b[32m=\u001b[39m\u001b[32m=\u001b[39m\u001b[32m=\u001b[39m-------------] 44% (36/82) [2.4s elapsed, eta 3.1]\u001b[2K\u001b[1GDownloading files [\u001b[32m=\u001b[39m\u001b[32m=\u001b[39m\u001b[32m=\u001b[39m\u001b[32m=\u001b[39m\u001b[32m=\u001b[39m\u001b[32m=\u001b[39m\u001b[32m=\u001b[39m\u001b[32m=\u001b[39m\u001b[32m=\u001b[39m\u001b[32m=\u001b[39m\u001b[32m=\u001b[39m-------------] 45% (37/82) [2.4s elapsed, eta 2.9]\u001b[2K\u001b[1GDownloading files [\u001b[32m=\u001b[39m\u001b[32m=\u001b[39m\u001b[32m=\u001b[39m\u001b[32m=\u001b[39m\u001b[32m=\u001b[39m\u001b[32m=\u001b[39m\u001b[32m=\u001b[39m\u001b[32m=\u001b[39m\u001b[32m=\u001b[39m\u001b[32m=\u001b[39m\u001b[32m=\u001b[39m-------------] 46% (38/82) [2.4s elapsed, eta 2.8]\u001b[2K\u001b[1GDownloading files [\u001b[32m=\u001b[39m\u001b[32m=\u001b[39m\u001b[32m=\u001b[39m\u001b[32m=\u001b[39m\u001b[32m=\u001b[39m\u001b[32m=\u001b[39m\u001b[32m=\u001b[39m\u001b[32m=\u001b[39m\u001b[32m=\u001b[39m\u001b[32m=\u001b[39m\u001b[32m=\u001b[39m-------------] 48% (39/82) [2.5s elapsed, eta 2.8]\u001b[2K\u001b[1GDownloading files [\u001b[32m=\u001b[39m\u001b[32m=\u001b[39m\u001b[32m=\u001b[39m\u001b[32m=\u001b[39m\u001b[32m=\u001b[39m\u001b[32m=\u001b[39m\u001b[32m=\u001b[39m\u001b[32m=\u001b[39m\u001b[32m=\u001b[39m\u001b[32m=\u001b[39m\u001b[32m=\u001b[39m\u001b[32m=\u001b[39m------------] 49% (40/82) [2.5s elapsed, eta 2.7]\u001b[2K\u001b[1GDownloading files [\u001b[32m=\u001b[39m\u001b[32m=\u001b[39m\u001b[32m=\u001b[39m\u001b[32m=\u001b[39m\u001b[32m=\u001b[39m\u001b[32m=\u001b[39m\u001b[32m=\u001b[39m\u001b[32m=\u001b[39m\u001b[32m=\u001b[39m\u001b[32m=\u001b[39m\u001b[32m=\u001b[39m\u001b[32m=\u001b[39m------------] 50% (41/82) [3.2s elapsed, eta 3.2]\u001b[2K\u001b[1GDownloading files [\u001b[32m=\u001b[39m\u001b[32m=\u001b[39m\u001b[32m=\u001b[39m\u001b[32m=\u001b[39m\u001b[32m=\u001b[39m\u001b[32m=\u001b[39m\u001b[32m=\u001b[39m\u001b[32m=\u001b[39m\u001b[32m=\u001b[39m\u001b[32m=\u001b[39m\u001b[32m=\u001b[39m\u001b[32m=\u001b[39m------------] 51% (42/82) [3.5s elapsed, eta 3.3]\u001b[2K\u001b[1GDownloading files [\u001b[32m=\u001b[39m\u001b[32m=\u001b[39m\u001b[32m=\u001b[39m\u001b[32m=\u001b[39m\u001b[32m=\u001b[39m\u001b[32m=\u001b[39m\u001b[32m=\u001b[39m\u001b[32m=\u001b[39m\u001b[32m=\u001b[39m\u001b[32m=\u001b[39m\u001b[32m=\u001b[39m\u001b[32m=\u001b[39m\u001b[32m=\u001b[39m-----------] 52% (43/82) [3.5s elapsed, eta 3.2]\u001b[2K\u001b[1GDownloading files [\u001b[32m=\u001b[39m\u001b[32m=\u001b[39m\u001b[32m=\u001b[39m\u001b[32m=\u001b[39m\u001b[32m=\u001b[39m\u001b[32m=\u001b[39m\u001b[32m=\u001b[39m\u001b[32m=\u001b[39m\u001b[32m=\u001b[39m\u001b[32m=\u001b[39m\u001b[32m=\u001b[39m\u001b[32m=\u001b[39m\u001b[32m=\u001b[39m-----------] 54% (44/82) [3.5s elapsed, eta 3.0]\u001b[2K\u001b[1GDownloading files [\u001b[32m=\u001b[39m\u001b[32m=\u001b[39m\u001b[32m=\u001b[39m\u001b[32m=\u001b[39m\u001b[32m=\u001b[39m\u001b[32m=\u001b[39m\u001b[32m=\u001b[39m\u001b[32m=\u001b[39m\u001b[32m=\u001b[39m\u001b[32m=\u001b[39m\u001b[32m=\u001b[39m\u001b[32m=\u001b[39m\u001b[32m=\u001b[39m-----------] 55% (45/82) [3.5s elapsed, eta 2.9]\u001b[2K\u001b[1GDownloading files [\u001b[32m=\u001b[39m\u001b[32m=\u001b[39m\u001b[32m=\u001b[39m\u001b[32m=\u001b[39m\u001b[32m=\u001b[39m\u001b[32m=\u001b[39m\u001b[32m=\u001b[39m\u001b[32m=\u001b[39m\u001b[32m=\u001b[39m\u001b[32m=\u001b[39m\u001b[32m=\u001b[39m\u001b[32m=\u001b[39m\u001b[32m=\u001b[39m-----------] 56% (46/82) [3.5s elapsed, eta 2.8]\u001b[2K\u001b[1GDownloading files [\u001b[32m=\u001b[39m\u001b[32m=\u001b[39m\u001b[32m=\u001b[39m\u001b[32m=\u001b[39m\u001b[32m=\u001b[39m\u001b[32m=\u001b[39m\u001b[32m=\u001b[39m\u001b[32m=\u001b[39m\u001b[32m=\u001b[39m\u001b[32m=\u001b[39m\u001b[32m=\u001b[39m\u001b[32m=\u001b[39m\u001b[32m=\u001b[39m\u001b[32m=\u001b[39m----------] 57% (47/82) [3.5s elapsed, eta 2.6]\u001b[2K\u001b[1GDownloading files [\u001b[32m=\u001b[39m\u001b[32m=\u001b[39m\u001b[32m=\u001b[39m\u001b[32m=\u001b[39m\u001b[32m=\u001b[39m\u001b[32m=\u001b[39m\u001b[32m=\u001b[39m\u001b[32m=\u001b[39m\u001b[32m=\u001b[39m\u001b[32m=\u001b[39m\u001b[32m=\u001b[39m\u001b[32m=\u001b[39m\u001b[32m=\u001b[39m\u001b[32m=\u001b[39m----------] 59% (48/82) [3.6s elapsed, eta 2.6]\u001b[2K\u001b[1GDownloading files [\u001b[32m=\u001b[39m\u001b[32m=\u001b[39m\u001b[32m=\u001b[39m\u001b[32m=\u001b[39m\u001b[32m=\u001b[39m\u001b[32m=\u001b[39m\u001b[32m=\u001b[39m\u001b[32m=\u001b[39m\u001b[32m=\u001b[39m\u001b[32m=\u001b[39m\u001b[32m=\u001b[39m\u001b[32m=\u001b[39m\u001b[32m=\u001b[39m\u001b[32m=\u001b[39m----------] 60% (49/82) [3.8s elapsed, eta 2.5]\u001b[2K\u001b[1GDownloading files [\u001b[32m=\u001b[39m\u001b[32m=\u001b[39m\u001b[32m=\u001b[39m\u001b[32m=\u001b[39m\u001b[32m=\u001b[39m\u001b[32m=\u001b[39m\u001b[32m=\u001b[39m\u001b[32m=\u001b[39m\u001b[32m=\u001b[39m\u001b[32m=\u001b[39m\u001b[32m=\u001b[39m\u001b[32m=\u001b[39m\u001b[32m=\u001b[39m\u001b[32m=\u001b[39m\u001b[32m=\u001b[39m---------] 61% (50/82) [3.8s elapsed, eta 2.4]\u001b[2K\u001b[1GDownloading files [\u001b[32m=\u001b[39m\u001b[32m=\u001b[39m\u001b[32m=\u001b[39m\u001b[32m=\u001b[39m\u001b[32m=\u001b[39m\u001b[32m=\u001b[39m\u001b[32m=\u001b[39m\u001b[32m=\u001b[39m\u001b[32m=\u001b[39m\u001b[32m=\u001b[39m\u001b[32m=\u001b[39m\u001b[32m=\u001b[39m\u001b[32m=\u001b[39m\u001b[32m=\u001b[39m\u001b[32m=\u001b[39m---------] 62% (51/82) [4.4s elapsed, eta 2.7]\u001b[2K\u001b[1GDownloading files [\u001b[32m=\u001b[39m\u001b[32m=\u001b[39m\u001b[32m=\u001b[39m\u001b[32m=\u001b[39m\u001b[32m=\u001b[39m\u001b[32m=\u001b[39m\u001b[32m=\u001b[39m\u001b[32m=\u001b[39m\u001b[32m=\u001b[39m\u001b[32m=\u001b[39m\u001b[32m=\u001b[39m\u001b[32m=\u001b[39m\u001b[32m=\u001b[39m\u001b[32m=\u001b[39m\u001b[32m=\u001b[39m---------] 63% (52/82) [4.4s elapsed, eta 2.5]\u001b[2K\u001b[1GDownloading files [\u001b[32m=\u001b[39m\u001b[32m=\u001b[39m\u001b[32m=\u001b[39m\u001b[32m=\u001b[39m\u001b[32m=\u001b[39m\u001b[32m=\u001b[39m\u001b[32m=\u001b[39m\u001b[32m=\u001b[39m\u001b[32m=\u001b[39m\u001b[32m=\u001b[39m\u001b[32m=\u001b[39m\u001b[32m=\u001b[39m\u001b[32m=\u001b[39m\u001b[32m=\u001b[39m\u001b[32m=\u001b[39m\u001b[32m=\u001b[39m--------] 65% (53/82) [4.4s elapsed, eta 2.4]\u001b[2K\u001b[1GDownloading files [\u001b[32m=\u001b[39m\u001b[32m=\u001b[39m\u001b[32m=\u001b[39m\u001b[32m=\u001b[39m\u001b[32m=\u001b[39m\u001b[32m=\u001b[39m\u001b[32m=\u001b[39m\u001b[32m=\u001b[39m\u001b[32m=\u001b[39m\u001b[32m=\u001b[39m\u001b[32m=\u001b[39m\u001b[32m=\u001b[39m\u001b[32m=\u001b[39m\u001b[32m=\u001b[39m\u001b[32m=\u001b[39m\u001b[32m=\u001b[39m--------] 66% (54/82) [4.4s elapsed, eta 2.3]"
     ]
    },
    {
     "name": "stdout",
     "output_type": "stream",
     "text": [
      "\u001b[2K\u001b[1GDownloading files [\u001b[32m=\u001b[39m\u001b[32m=\u001b[39m\u001b[32m=\u001b[39m\u001b[32m=\u001b[39m\u001b[32m=\u001b[39m\u001b[32m=\u001b[39m\u001b[32m=\u001b[39m\u001b[32m=\u001b[39m\u001b[32m=\u001b[39m\u001b[32m=\u001b[39m\u001b[32m=\u001b[39m\u001b[32m=\u001b[39m\u001b[32m=\u001b[39m\u001b[32m=\u001b[39m\u001b[32m=\u001b[39m\u001b[32m=\u001b[39m--------] 67% (55/82) [4.4s elapsed, eta 2.2]\u001b[2K\u001b[1GDownloading files [\u001b[32m=\u001b[39m\u001b[32m=\u001b[39m\u001b[32m=\u001b[39m\u001b[32m=\u001b[39m\u001b[32m=\u001b[39m\u001b[32m=\u001b[39m\u001b[32m=\u001b[39m\u001b[32m=\u001b[39m\u001b[32m=\u001b[39m\u001b[32m=\u001b[39m\u001b[32m=\u001b[39m\u001b[32m=\u001b[39m\u001b[32m=\u001b[39m\u001b[32m=\u001b[39m\u001b[32m=\u001b[39m\u001b[32m=\u001b[39m--------] 68% (56/82) [4.4s elapsed, eta 2.1]\u001b[2K\u001b[1GDownloading files [\u001b[32m=\u001b[39m\u001b[32m=\u001b[39m\u001b[32m=\u001b[39m\u001b[32m=\u001b[39m\u001b[32m=\u001b[39m\u001b[32m=\u001b[39m\u001b[32m=\u001b[39m\u001b[32m=\u001b[39m\u001b[32m=\u001b[39m\u001b[32m=\u001b[39m\u001b[32m=\u001b[39m\u001b[32m=\u001b[39m\u001b[32m=\u001b[39m\u001b[32m=\u001b[39m\u001b[32m=\u001b[39m\u001b[32m=\u001b[39m\u001b[32m=\u001b[39m-------] 70% (57/82) [4.4s elapsed, eta 1.9]\u001b[2K\u001b[1GDownloading files [\u001b[32m=\u001b[39m\u001b[32m=\u001b[39m\u001b[32m=\u001b[39m\u001b[32m=\u001b[39m\u001b[32m=\u001b[39m\u001b[32m=\u001b[39m\u001b[32m=\u001b[39m\u001b[32m=\u001b[39m\u001b[32m=\u001b[39m\u001b[32m=\u001b[39m\u001b[32m=\u001b[39m\u001b[32m=\u001b[39m\u001b[32m=\u001b[39m\u001b[32m=\u001b[39m\u001b[32m=\u001b[39m\u001b[32m=\u001b[39m\u001b[32m=\u001b[39m-------] 71% (58/82) [4.5s elapsed, eta 1.8]\u001b[2K\u001b[1GDownloading files [\u001b[32m=\u001b[39m\u001b[32m=\u001b[39m\u001b[32m=\u001b[39m\u001b[32m=\u001b[39m\u001b[32m=\u001b[39m\u001b[32m=\u001b[39m\u001b[32m=\u001b[39m\u001b[32m=\u001b[39m\u001b[32m=\u001b[39m\u001b[32m=\u001b[39m\u001b[32m=\u001b[39m\u001b[32m=\u001b[39m\u001b[32m=\u001b[39m\u001b[32m=\u001b[39m\u001b[32m=\u001b[39m\u001b[32m=\u001b[39m\u001b[32m=\u001b[39m-------] 72% (59/82) [4.5s elapsed, eta 1.7]\u001b[2K\u001b[1GDownloading files [\u001b[32m=\u001b[39m\u001b[32m=\u001b[39m\u001b[32m=\u001b[39m\u001b[32m=\u001b[39m\u001b[32m=\u001b[39m\u001b[32m=\u001b[39m\u001b[32m=\u001b[39m\u001b[32m=\u001b[39m\u001b[32m=\u001b[39m\u001b[32m=\u001b[39m\u001b[32m=\u001b[39m\u001b[32m=\u001b[39m\u001b[32m=\u001b[39m\u001b[32m=\u001b[39m\u001b[32m=\u001b[39m\u001b[32m=\u001b[39m\u001b[32m=\u001b[39m\u001b[32m=\u001b[39m------] 73% (60/82) [4.5s elapsed, eta 1.6]\u001b[2K\u001b[1GDownloading files [\u001b[32m=\u001b[39m\u001b[32m=\u001b[39m\u001b[32m=\u001b[39m\u001b[32m=\u001b[39m\u001b[32m=\u001b[39m\u001b[32m=\u001b[39m\u001b[32m=\u001b[39m\u001b[32m=\u001b[39m\u001b[32m=\u001b[39m\u001b[32m=\u001b[39m\u001b[32m=\u001b[39m\u001b[32m=\u001b[39m\u001b[32m=\u001b[39m\u001b[32m=\u001b[39m\u001b[32m=\u001b[39m\u001b[32m=\u001b[39m\u001b[32m=\u001b[39m\u001b[32m=\u001b[39m------] 74% (61/82) [5.3s elapsed, eta 1.8]\u001b[2K\u001b[1GDownloading files [\u001b[32m=\u001b[39m\u001b[32m=\u001b[39m\u001b[32m=\u001b[39m\u001b[32m=\u001b[39m\u001b[32m=\u001b[39m\u001b[32m=\u001b[39m\u001b[32m=\u001b[39m\u001b[32m=\u001b[39m\u001b[32m=\u001b[39m\u001b[32m=\u001b[39m\u001b[32m=\u001b[39m\u001b[32m=\u001b[39m\u001b[32m=\u001b[39m\u001b[32m=\u001b[39m\u001b[32m=\u001b[39m\u001b[32m=\u001b[39m\u001b[32m=\u001b[39m\u001b[32m=\u001b[39m------] 76% (62/82) [5.3s elapsed, eta 1.7]\u001b[2K\u001b[1GDownloading files [\u001b[32m=\u001b[39m\u001b[32m=\u001b[39m\u001b[32m=\u001b[39m\u001b[32m=\u001b[39m\u001b[32m=\u001b[39m\u001b[32m=\u001b[39m\u001b[32m=\u001b[39m\u001b[32m=\u001b[39m\u001b[32m=\u001b[39m\u001b[32m=\u001b[39m\u001b[32m=\u001b[39m\u001b[32m=\u001b[39m\u001b[32m=\u001b[39m\u001b[32m=\u001b[39m\u001b[32m=\u001b[39m\u001b[32m=\u001b[39m\u001b[32m=\u001b[39m\u001b[32m=\u001b[39m------] 77% (63/82) [5.4s elapsed, eta 1.6]\u001b[2K\u001b[1GDownloading files [\u001b[32m=\u001b[39m\u001b[32m=\u001b[39m\u001b[32m=\u001b[39m\u001b[32m=\u001b[39m\u001b[32m=\u001b[39m\u001b[32m=\u001b[39m\u001b[32m=\u001b[39m\u001b[32m=\u001b[39m\u001b[32m=\u001b[39m\u001b[32m=\u001b[39m\u001b[32m=\u001b[39m\u001b[32m=\u001b[39m\u001b[32m=\u001b[39m\u001b[32m=\u001b[39m\u001b[32m=\u001b[39m\u001b[32m=\u001b[39m\u001b[32m=\u001b[39m\u001b[32m=\u001b[39m\u001b[32m=\u001b[39m-----] 78% (64/82) [5.4s elapsed, eta 1.5]\u001b[2K\u001b[1GDownloading files [\u001b[32m=\u001b[39m\u001b[32m=\u001b[39m\u001b[32m=\u001b[39m\u001b[32m=\u001b[39m\u001b[32m=\u001b[39m\u001b[32m=\u001b[39m\u001b[32m=\u001b[39m\u001b[32m=\u001b[39m\u001b[32m=\u001b[39m\u001b[32m=\u001b[39m\u001b[32m=\u001b[39m\u001b[32m=\u001b[39m\u001b[32m=\u001b[39m\u001b[32m=\u001b[39m\u001b[32m=\u001b[39m\u001b[32m=\u001b[39m\u001b[32m=\u001b[39m\u001b[32m=\u001b[39m\u001b[32m=\u001b[39m-----] 79% (65/82) [5.4s elapsed, eta 1.4]\u001b[2K\u001b[1GDownloading files [\u001b[32m=\u001b[39m\u001b[32m=\u001b[39m\u001b[32m=\u001b[39m\u001b[32m=\u001b[39m\u001b[32m=\u001b[39m\u001b[32m=\u001b[39m\u001b[32m=\u001b[39m\u001b[32m=\u001b[39m\u001b[32m=\u001b[39m\u001b[32m=\u001b[39m\u001b[32m=\u001b[39m\u001b[32m=\u001b[39m\u001b[32m=\u001b[39m\u001b[32m=\u001b[39m\u001b[32m=\u001b[39m\u001b[32m=\u001b[39m\u001b[32m=\u001b[39m\u001b[32m=\u001b[39m\u001b[32m=\u001b[39m-----] 80% (66/82) [5.4s elapsed, eta 1.3]\u001b[2K\u001b[1GDownloading files [\u001b[32m=\u001b[39m\u001b[32m=\u001b[39m\u001b[32m=\u001b[39m\u001b[32m=\u001b[39m\u001b[32m=\u001b[39m\u001b[32m=\u001b[39m\u001b[32m=\u001b[39m\u001b[32m=\u001b[39m\u001b[32m=\u001b[39m\u001b[32m=\u001b[39m\u001b[32m=\u001b[39m\u001b[32m=\u001b[39m\u001b[32m=\u001b[39m\u001b[32m=\u001b[39m\u001b[32m=\u001b[39m\u001b[32m=\u001b[39m\u001b[32m=\u001b[39m\u001b[32m=\u001b[39m\u001b[32m=\u001b[39m\u001b[32m=\u001b[39m----] 82% (67/82) [5.4s elapsed, eta 1.2]\u001b[2K\u001b[1GDownloading files [\u001b[32m=\u001b[39m\u001b[32m=\u001b[39m\u001b[32m=\u001b[39m\u001b[32m=\u001b[39m\u001b[32m=\u001b[39m\u001b[32m=\u001b[39m\u001b[32m=\u001b[39m\u001b[32m=\u001b[39m\u001b[32m=\u001b[39m\u001b[32m=\u001b[39m\u001b[32m=\u001b[39m\u001b[32m=\u001b[39m\u001b[32m=\u001b[39m\u001b[32m=\u001b[39m\u001b[32m=\u001b[39m\u001b[32m=\u001b[39m\u001b[32m=\u001b[39m\u001b[32m=\u001b[39m\u001b[32m=\u001b[39m\u001b[32m=\u001b[39m----] 83% (68/82) [5.4s elapsed, eta 1.1]\u001b[2K\u001b[1GDownloading files [\u001b[32m=\u001b[39m\u001b[32m=\u001b[39m\u001b[32m=\u001b[39m\u001b[32m=\u001b[39m\u001b[32m=\u001b[39m\u001b[32m=\u001b[39m\u001b[32m=\u001b[39m\u001b[32m=\u001b[39m\u001b[32m=\u001b[39m\u001b[32m=\u001b[39m\u001b[32m=\u001b[39m\u001b[32m=\u001b[39m\u001b[32m=\u001b[39m\u001b[32m=\u001b[39m\u001b[32m=\u001b[39m\u001b[32m=\u001b[39m\u001b[32m=\u001b[39m\u001b[32m=\u001b[39m\u001b[32m=\u001b[39m\u001b[32m=\u001b[39m----] 84% (69/82) [5.4s elapsed, eta 1.0]\u001b[2K\u001b[1GDownloading files [\u001b[32m=\u001b[39m\u001b[32m=\u001b[39m\u001b[32m=\u001b[39m\u001b[32m=\u001b[39m\u001b[32m=\u001b[39m\u001b[32m=\u001b[39m\u001b[32m=\u001b[39m\u001b[32m=\u001b[39m\u001b[32m=\u001b[39m\u001b[32m=\u001b[39m\u001b[32m=\u001b[39m\u001b[32m=\u001b[39m\u001b[32m=\u001b[39m\u001b[32m=\u001b[39m\u001b[32m=\u001b[39m\u001b[32m=\u001b[39m\u001b[32m=\u001b[39m\u001b[32m=\u001b[39m\u001b[32m=\u001b[39m\u001b[32m=\u001b[39m----] 85% (70/82) [5.5s elapsed, eta 0.9]\u001b[2K\u001b[1GDownloading files [\u001b[32m=\u001b[39m\u001b[32m=\u001b[39m\u001b[32m=\u001b[39m\u001b[32m=\u001b[39m\u001b[32m=\u001b[39m\u001b[32m=\u001b[39m\u001b[32m=\u001b[39m\u001b[32m=\u001b[39m\u001b[32m=\u001b[39m\u001b[32m=\u001b[39m\u001b[32m=\u001b[39m\u001b[32m=\u001b[39m\u001b[32m=\u001b[39m\u001b[32m=\u001b[39m\u001b[32m=\u001b[39m\u001b[32m=\u001b[39m\u001b[32m=\u001b[39m\u001b[32m=\u001b[39m\u001b[32m=\u001b[39m\u001b[32m=\u001b[39m\u001b[32m=\u001b[39m---] 87% (71/82) [6.2s elapsed, eta 1.0]\u001b[2K\u001b[1GDownloading files [\u001b[32m=\u001b[39m\u001b[32m=\u001b[39m\u001b[32m=\u001b[39m\u001b[32m=\u001b[39m\u001b[32m=\u001b[39m\u001b[32m=\u001b[39m\u001b[32m=\u001b[39m\u001b[32m=\u001b[39m\u001b[32m=\u001b[39m\u001b[32m=\u001b[39m\u001b[32m=\u001b[39m\u001b[32m=\u001b[39m\u001b[32m=\u001b[39m\u001b[32m=\u001b[39m\u001b[32m=\u001b[39m\u001b[32m=\u001b[39m\u001b[32m=\u001b[39m\u001b[32m=\u001b[39m\u001b[32m=\u001b[39m\u001b[32m=\u001b[39m\u001b[32m=\u001b[39m---] 88% (72/82) [6.3s elapsed, eta 0.9]\u001b[2K\u001b[1GDownloading files [\u001b[32m=\u001b[39m\u001b[32m=\u001b[39m\u001b[32m=\u001b[39m\u001b[32m=\u001b[39m\u001b[32m=\u001b[39m\u001b[32m=\u001b[39m\u001b[32m=\u001b[39m\u001b[32m=\u001b[39m\u001b[32m=\u001b[39m\u001b[32m=\u001b[39m\u001b[32m=\u001b[39m\u001b[32m=\u001b[39m\u001b[32m=\u001b[39m\u001b[32m=\u001b[39m\u001b[32m=\u001b[39m\u001b[32m=\u001b[39m\u001b[32m=\u001b[39m\u001b[32m=\u001b[39m\u001b[32m=\u001b[39m\u001b[32m=\u001b[39m\u001b[32m=\u001b[39m---] 89% (73/82) [6.3s elapsed, eta 0.8]\u001b[2K\u001b[1GDownloading files [\u001b[32m=\u001b[39m\u001b[32m=\u001b[39m\u001b[32m=\u001b[39m\u001b[32m=\u001b[39m\u001b[32m=\u001b[39m\u001b[32m=\u001b[39m\u001b[32m=\u001b[39m\u001b[32m=\u001b[39m\u001b[32m=\u001b[39m\u001b[32m=\u001b[39m\u001b[32m=\u001b[39m\u001b[32m=\u001b[39m\u001b[32m=\u001b[39m\u001b[32m=\u001b[39m\u001b[32m=\u001b[39m\u001b[32m=\u001b[39m\u001b[32m=\u001b[39m\u001b[32m=\u001b[39m\u001b[32m=\u001b[39m\u001b[32m=\u001b[39m\u001b[32m=\u001b[39m\u001b[32m=\u001b[39m--] 90% (74/82) [6.3s elapsed, eta 0.7]\u001b[2K\u001b[1GDownloading files [\u001b[32m=\u001b[39m\u001b[32m=\u001b[39m\u001b[32m=\u001b[39m\u001b[32m=\u001b[39m\u001b[32m=\u001b[39m\u001b[32m=\u001b[39m\u001b[32m=\u001b[39m\u001b[32m=\u001b[39m\u001b[32m=\u001b[39m\u001b[32m=\u001b[39m\u001b[32m=\u001b[39m\u001b[32m=\u001b[39m\u001b[32m=\u001b[39m\u001b[32m=\u001b[39m\u001b[32m=\u001b[39m\u001b[32m=\u001b[39m\u001b[32m=\u001b[39m\u001b[32m=\u001b[39m\u001b[32m=\u001b[39m\u001b[32m=\u001b[39m\u001b[32m=\u001b[39m\u001b[32m=\u001b[39m--] 91% (75/82) [6.4s elapsed, eta 0.6]\u001b[2K\u001b[1GDownloading files [\u001b[32m=\u001b[39m\u001b[32m=\u001b[39m\u001b[32m=\u001b[39m\u001b[32m=\u001b[39m\u001b[32m=\u001b[39m\u001b[32m=\u001b[39m\u001b[32m=\u001b[39m\u001b[32m=\u001b[39m\u001b[32m=\u001b[39m\u001b[32m=\u001b[39m\u001b[32m=\u001b[39m\u001b[32m=\u001b[39m\u001b[32m=\u001b[39m\u001b[32m=\u001b[39m\u001b[32m=\u001b[39m\u001b[32m=\u001b[39m\u001b[32m=\u001b[39m\u001b[32m=\u001b[39m\u001b[32m=\u001b[39m\u001b[32m=\u001b[39m\u001b[32m=\u001b[39m\u001b[32m=\u001b[39m--] 93% (76/82) [6.4s elapsed, eta 0.5]\u001b[2K\u001b[1GDownloading files [\u001b[32m=\u001b[39m\u001b[32m=\u001b[39m\u001b[32m=\u001b[39m\u001b[32m=\u001b[39m\u001b[32m=\u001b[39m\u001b[32m=\u001b[39m\u001b[32m=\u001b[39m\u001b[32m=\u001b[39m\u001b[32m=\u001b[39m\u001b[32m=\u001b[39m\u001b[32m=\u001b[39m\u001b[32m=\u001b[39m\u001b[32m=\u001b[39m\u001b[32m=\u001b[39m\u001b[32m=\u001b[39m\u001b[32m=\u001b[39m\u001b[32m=\u001b[39m\u001b[32m=\u001b[39m\u001b[32m=\u001b[39m\u001b[32m=\u001b[39m\u001b[32m=\u001b[39m\u001b[32m=\u001b[39m\u001b[32m=\u001b[39m-] 94% (77/82) [6.4s elapsed, eta 0.4]\u001b[2K\u001b[1GDownloading files [\u001b[32m=\u001b[39m\u001b[32m=\u001b[39m\u001b[32m=\u001b[39m\u001b[32m=\u001b[39m\u001b[32m=\u001b[39m\u001b[32m=\u001b[39m\u001b[32m=\u001b[39m\u001b[32m=\u001b[39m\u001b[32m=\u001b[39m\u001b[32m=\u001b[39m\u001b[32m=\u001b[39m\u001b[32m=\u001b[39m\u001b[32m=\u001b[39m\u001b[32m=\u001b[39m\u001b[32m=\u001b[39m\u001b[32m=\u001b[39m\u001b[32m=\u001b[39m\u001b[32m=\u001b[39m\u001b[32m=\u001b[39m\u001b[32m=\u001b[39m\u001b[32m=\u001b[39m\u001b[32m=\u001b[39m\u001b[32m=\u001b[39m-] 95% (78/82) [6.4s elapsed, eta 0.3]\u001b[2K\u001b[1GDownloading files [\u001b[32m=\u001b[39m\u001b[32m=\u001b[39m\u001b[32m=\u001b[39m\u001b[32m=\u001b[39m\u001b[32m=\u001b[39m\u001b[32m=\u001b[39m\u001b[32m=\u001b[39m\u001b[32m=\u001b[39m\u001b[32m=\u001b[39m\u001b[32m=\u001b[39m\u001b[32m=\u001b[39m\u001b[32m=\u001b[39m\u001b[32m=\u001b[39m\u001b[32m=\u001b[39m\u001b[32m=\u001b[39m\u001b[32m=\u001b[39m\u001b[32m=\u001b[39m\u001b[32m=\u001b[39m\u001b[32m=\u001b[39m\u001b[32m=\u001b[39m\u001b[32m=\u001b[39m\u001b[32m=\u001b[39m\u001b[32m=\u001b[39m-] 96% (79/82) [6.5s elapsed, eta 0.2]\u001b[2K\u001b[1GDownloading files [\u001b[32m=\u001b[39m\u001b[32m=\u001b[39m\u001b[32m=\u001b[39m\u001b[32m=\u001b[39m\u001b[32m=\u001b[39m\u001b[32m=\u001b[39m\u001b[32m=\u001b[39m\u001b[32m=\u001b[39m\u001b[32m=\u001b[39m\u001b[32m=\u001b[39m\u001b[32m=\u001b[39m\u001b[32m=\u001b[39m\u001b[32m=\u001b[39m\u001b[32m=\u001b[39m\u001b[32m=\u001b[39m\u001b[32m=\u001b[39m\u001b[32m=\u001b[39m\u001b[32m=\u001b[39m\u001b[32m=\u001b[39m\u001b[32m=\u001b[39m\u001b[32m=\u001b[39m\u001b[32m=\u001b[39m\u001b[32m=\u001b[39m-] 98% (80/82) [6.5s elapsed, eta 0.2]\u001b[2K\u001b[1GDownloading files [\u001b[32m=\u001b[39m\u001b[32m=\u001b[39m\u001b[32m=\u001b[39m\u001b[32m=\u001b[39m\u001b[32m=\u001b[39m\u001b[32m=\u001b[39m\u001b[32m=\u001b[39m\u001b[32m=\u001b[39m\u001b[32m=\u001b[39m\u001b[32m=\u001b[39m\u001b[32m=\u001b[39m\u001b[32m=\u001b[39m\u001b[32m=\u001b[39m\u001b[32m=\u001b[39m\u001b[32m=\u001b[39m\u001b[32m=\u001b[39m\u001b[32m=\u001b[39m\u001b[32m=\u001b[39m\u001b[32m=\u001b[39m\u001b[32m=\u001b[39m\u001b[32m=\u001b[39m\u001b[32m=\u001b[39m\u001b[32m=\u001b[39m\u001b[32m=\u001b[39m] 99% (81/82) [7.2s elapsed, eta 0.1]\u001b[2K\u001b[1GDownloading files [\u001b[32m=\u001b[39m\u001b[32m=\u001b[39m\u001b[32m=\u001b[39m\u001b[32m=\u001b[39m\u001b[32m=\u001b[39m\u001b[32m=\u001b[39m\u001b[32m=\u001b[39m\u001b[32m=\u001b[39m\u001b[32m=\u001b[39m\u001b[32m=\u001b[39m\u001b[32m=\u001b[39m\u001b[32m=\u001b[39m\u001b[32m=\u001b[39m\u001b[32m=\u001b[39m\u001b[32m=\u001b[39m\u001b[32m=\u001b[39m\u001b[32m=\u001b[39m\u001b[32m=\u001b[39m\u001b[32m=\u001b[39m\u001b[32m=\u001b[39m\u001b[32m=\u001b[39m\u001b[32m=\u001b[39m\u001b[32m=\u001b[39m] 100% (82/82) [7.4s elapsed, eta 0.0]\n",
      "\u001b[32minfo\u001b[39m: All downloads succeeded!\n"
     ]
    }
   ],
   "source": [
    "print (\"running: getpapers -q \\\"\" + EPMC + \"\\\" -o \" + PROJECT + \" -x -k \" + str(HITS))\n",
    "! getpapers -q \"$EPMC\" -o $PROJECT -x -k $HITS\n",
    "       "
   ]
  },
  {
   "cell_type": "code",
   "execution_count": 37,
   "metadata": {},
   "outputs": [
    {
     "name": "stdout",
     "output_type": "stream",
     "text": [
      "===== created drugs_disease_country =======\n",
      "\u001b[34m10.1101\u001b[m\u001b[m                      \u001b[34mPMC7395586\u001b[m\u001b[m\n",
      "\u001b[34mPMC3004943\u001b[m\u001b[m                   \u001b[34mPMC7402518\u001b[m\u001b[m\n",
      "\u001b[34mPMC3561042\u001b[m\u001b[m                   \u001b[34mPMC7402651\u001b[m\u001b[m\n",
      "\u001b[34mPMC6517453\u001b[m\u001b[m                   \u001b[34mPMC7402669\u001b[m\u001b[m\n",
      "\u001b[34mPMC6695746\u001b[m\u001b[m                   \u001b[34mPMC7404095\u001b[m\u001b[m\n",
      "\u001b[34mPMC6964091\u001b[m\u001b[m                   \u001b[34mPMC7409732\u001b[m\u001b[m\n",
      "\u001b[34mPMC7098263\u001b[m\u001b[m                   \u001b[34mPMC7413401\u001b[m\u001b[m\n",
      "\u001b[34mPMC7102705\u001b[m\u001b[m                   \u001b[34mPMC7414693\u001b[m\u001b[m\n",
      "\u001b[34mPMC7119083\u001b[m\u001b[m                   \u001b[34mPMC7414935\u001b[m\u001b[m\n",
      "\u001b[34mPMC7120695\u001b[m\u001b[m                   \u001b[34mPMC7416915\u001b[m\u001b[m\n",
      "\u001b[34mPMC7144339\u001b[m\u001b[m                   \u001b[34mPMC7419580\u001b[m\u001b[m\n",
      "\u001b[34mPMC7164915\u001b[m\u001b[m                   \u001b[34mPMC7423094\u001b[m\u001b[m\n",
      "\u001b[34mPMC7180007\u001b[m\u001b[m                   \u001b[34mPMC7423499\u001b[m\u001b[m\n",
      "\u001b[34mPMC7180667\u001b[m\u001b[m                   \u001b[34mPMC7427094\u001b[m\u001b[m\n",
      "\u001b[34mPMC7182292\u001b[m\u001b[m                   \u001b[34mPMC7427313\u001b[m\u001b[m\n",
      "\u001b[34mPMC7197577\u001b[m\u001b[m                   \u001b[34mPMC7428060\u001b[m\u001b[m\n",
      "\u001b[34mPMC7202122\u001b[m\u001b[m                   \u001b[34mPMC7431640\u001b[m\u001b[m\n",
      "\u001b[34mPMC7203543\u001b[m\u001b[m                   \u001b[34mPMC7435559\u001b[m\u001b[m\n",
      "\u001b[34mPMC7225630\u001b[m\u001b[m                   \u001b[34mPMC7440033\u001b[m\u001b[m\n",
      "\u001b[34mPMC7229974\u001b[m\u001b[m                   \u001b[34mPMC7441048\u001b[m\u001b[m\n",
      "\u001b[34mPMC7241517\u001b[m\u001b[m                   \u001b[34mPMC7445369\u001b[m\u001b[m\n",
      "\u001b[34mPMC7245250\u001b[m\u001b[m                   \u001b[34mPMC7448857\u001b[m\u001b[m\n",
      "\u001b[34mPMC7256497\u001b[m\u001b[m                   \u001b[34mPMC7454301\u001b[m\u001b[m\n",
      "\u001b[34mPMC7257617\u001b[m\u001b[m                   \u001b[34mPMC7454384\u001b[m\u001b[m\n",
      "\u001b[34mPMC7265527\u001b[m\u001b[m                   \u001b[34mPMC7454771\u001b[m\u001b[m\n",
      "\u001b[34mPMC7279053\u001b[m\u001b[m                   \u001b[34mPMC7458341\u001b[m\u001b[m\n",
      "\u001b[34mPMC7283747\u001b[m\u001b[m                   \u001b[34mPMC7459150\u001b[m\u001b[m\n",
      "\u001b[34mPMC7298473\u001b[m\u001b[m                   \u001b[34mPMC7461001\u001b[m\u001b[m\n",
      "\u001b[34mPMC7300792\u001b[m\u001b[m                   \u001b[34mPMC7461190\u001b[m\u001b[m\n",
      "\u001b[34mPMC7309422\u001b[m\u001b[m                   \u001b[34mPMC7462751\u001b[m\u001b[m\n",
      "\u001b[34mPMC7309641\u001b[m\u001b[m                   \u001b[34mPMC7466926\u001b[m\u001b[m\n",
      "\u001b[34mPMC7314157\u001b[m\u001b[m                   \u001b[34mPMC7467093\u001b[m\u001b[m\n",
      "\u001b[34mPMC7316359\u001b[m\u001b[m                   \u001b[34mPMC7467230\u001b[m\u001b[m\n",
      "\u001b[34mPMC7320681\u001b[m\u001b[m                   \u001b[34mPMC7467512\u001b[m\u001b[m\n",
      "\u001b[34mPMC7323437\u001b[m\u001b[m                   \u001b[34mPMC7469891\u001b[m\u001b[m\n",
      "\u001b[34mPMC7326430\u001b[m\u001b[m                   \u001b[34mPMC7470771\u001b[m\u001b[m\n",
      "\u001b[34mPMC7332278\u001b[m\u001b[m                   \u001b[34mPMC7472381\u001b[m\u001b[m\n",
      "\u001b[34mPMC7338960\u001b[m\u001b[m                   \u001b[34mPMC7482569\u001b[m\u001b[m\n",
      "\u001b[34mPMC7341479\u001b[m\u001b[m                   \u001b[34mPMC7485949\u001b[m\u001b[m\n",
      "\u001b[34mPMC7341712\u001b[m\u001b[m                   \u001b[34mPMC7486873\u001b[m\u001b[m\n",
      "\u001b[34mPMC7361333\u001b[m\u001b[m                   \u001b[34mPMC7494453\u001b[m\u001b[m\n",
      "\u001b[34mPMC7362058\u001b[m\u001b[m                   \u001b[34mPMC7499620\u001b[m\u001b[m\n",
      "\u001b[34mPMC7365411\u001b[m\u001b[m                   \u001b[34mPMC7508551\u001b[m\u001b[m\n",
      "\u001b[34mPMC7365643\u001b[m\u001b[m                   \u001b[34mPMC7513765\u001b[m\u001b[m\n",
      "\u001b[34mPMC7371815\u001b[m\u001b[m                   \u001b[34mPMC7513919\u001b[m\u001b[m\n",
      "\u001b[34mPMC7373336\u001b[m\u001b[m                   \u001b[34mPMC7515607\u001b[m\u001b[m\n",
      "\u001b[34mPMC7376323\u001b[m\u001b[m                   \u001b[34mPMC7516517\u001b[m\u001b[m\n",
      "\u001b[34mPMC7386680\u001b[m\u001b[m                   \u001b[34mPMC7516576\u001b[m\u001b[m\n",
      "\u001b[34mPMC7391983\u001b[m\u001b[m                   eupmc_fulltext_html_urls.txt\n",
      "\u001b[34mPMC7392634\u001b[m\u001b[m                   eupmc_results.json\n"
     ]
    }
   ],
   "source": [
    "print (\"===== created \" + PROJECT + \" =======\")\n",
    "! ls $PROJECT"
   ]
  },
  {
   "cell_type": "markdown",
   "metadata": {},
   "source": [
    "## `ami search` on results of `getpapers`\n",
    "\n",
    "This requires one or more dictionaries (space-separated) in DICTIONARIES\n",
    "It can transform/search 1-3 papers/sec and is quicker the second time around. "
   ]
  },
  {
   "cell_type": "code",
   "execution_count": 38,
   "metadata": {},
   "outputs": [
    {
     "name": "stdout",
     "output_type": "stream",
     "text": [
      "===== running  ami -p drugs_disease_country search --dictionary drugs disease country =======\n",
      "\n",
      "Generic values (AMISearchTool)\n",
      "================================\n",
      "\n",
      "Specific values (AMISearchTool)\n",
      "================================\n",
      "created COMMAND: word(frequencies)xpath:@count>20~w.stopwords:pmcstop.txt_stopwords.txt search(drugs) search(disease) search(country)\n",
      "cProject: drugs_disease_country\n",
      "created COMMAND: word(frequencies)xpath:@count>20~w.stopwords:pmcstop.txt_stopwords.txt search(drugs) search(disease) search(country)\n",
      "legacy cmd> word(frequencies)xpath:@count>20~w.stopwords:pmcstop.txt_stopwords.txt\n",
      "legacy cmd> search(drugs)\n",
      "legacy cmd> search(disease)\n",
      "legacy cmd> search(country)\n",
      "!10.1101 .PMC3004943 nlm:toHtml.xsl\n",
      "unknown tag table-wrap\n",
      "unknown tag table-wrap-foot\n",
      "PMC3561042 nlm:toHtml.xsl\n",
      "unknown tag table-wrap\n",
      "unknown tag table-wrap-foot\n",
      "!PMC6517453 PMC6695746 nlm:toHtml.xsl\n",
      "unknown tag table-wrap\n",
      "PMC6964091 nlm:toHtml.xsl\n",
      "unknown tag table-wrap\n",
      "PMC7098263 nlm:toHtml.xsl\n",
      "PMC7102705 nlm:toHtml.xsl\n",
      "unknown tag table-wrap\n",
      "unknown tag table-wrap-foot\n",
      "PMC7119083 nlm:toHtml.xsl\n",
      "PMC7120695 nlm:toHtml.xsl\n",
      "unknown tag tex-math\n",
      "PMC7144339 nlm:toHtml.xsl\n",
      ".!PMC7164915 PMC7180007 nlm:toHtml.xsl\n",
      "!PMC7180667 PMC7182292 nlm:toHtml.xsl\n",
      "unknown tag table-wrap\n",
      "unknown tag table-wrap-foot\n",
      "PMC7197577 nlm:toHtml.xsl\n",
      "unknown tag table-wrap\n",
      "unknown tag table-wrap-foot\n",
      "PMC7202122 nlm:toHtml.xsl\n",
      "unknown tag table-wrap\n",
      "unknown tag sc\n",
      "unknown tag table-wrap-foot\n",
      "PMC7203543 nlm:toHtml.xsl\n",
      "PMC7225630 nlm:toHtml.xsl\n",
      "PMC7229974 nlm:toHtml.xsl\n",
      "PMC7241517 nlm:toHtml.xsl\n",
      ".PMC7245250 nlm:toHtml.xsl\n",
      "PMC7256497 nlm:toHtml.xsl\n",
      "PMC7257617 nlm:toHtml.xsl\n",
      "UNKNOWN nlm tag: article-version\n",
      "unknown tag sc\n",
      "PMC7265527 nlm:toHtml.xsl\n",
      "unknown tag table-wrap\n",
      "unknown tag tex-math\n",
      "unknown tag math\n",
      "unknown tag mi\n",
      "unknown tag table-wrap-foot\n",
      "unknown tag mn\n",
      "unknown tag mo\n",
      "unknown tag msup\n",
      "unknown tag mrow\n",
      "unknown tag msub\n",
      "unknown tag mfrac\n",
      "unknown tag msubsup\n",
      "PMC7279053 nlm:toHtml.xsl\n",
      "unknown tag table-wrap\n",
      "PMC7283747 nlm:toHtml.xsl\n",
      "PMC7298473 nlm:toHtml.xsl\n",
      "PMC7300792 nlm:toHtml.xsl\n",
      "PMC7309422 nlm:toHtml.xsl\n",
      "PMC7309641 nlm:toHtml.xsl\n",
      ".!PMC7314157 PMC7316359 nlm:toHtml.xsl\n",
      "unknown tag table-wrap\n",
      "unknown tag math\n",
      "unknown tag mi\n",
      "unknown tag mo\n",
      "unknown tag mrow\n",
      "unknown tag mfrac\n",
      "unknown tag msub\n",
      "unknown tag mtable\n",
      "unknown tag mtr\n",
      "unknown tag mtd\n",
      "unknown tag munder\n",
      "PMC7320681 nlm:toHtml.xsl\n",
      "PMC7323437 nlm:toHtml.xsl\n",
      "unknown tag sc\n",
      "PMC7326430 nlm:toHtml.xsl\n",
      "PMC7332278 nlm:toHtml.xsl\n",
      "unknown tag table-wrap\n",
      "unknown tag table-wrap-foot\n",
      "PMC7338960 nlm:toHtml.xsl\n",
      "PMC7341479 nlm:toHtml.xsl\n",
      "unknown tag table-wrap\n",
      "PMC7341712 nlm:toHtml.xsl\n",
      "PMC7361333 nlm:toHtml.xsl\n",
      "unknown tag sc\n",
      ".PMC7362058 nlm:toHtml.xsl\n",
      "PMC7365411 nlm:toHtml.xsl\n",
      "PMC7365643 nlm:toHtml.xsl\n",
      "!PMC7371815 PMC7373336 nlm:toHtml.xsl\n",
      "PMC7376323 nlm:toHtml.xsl\n",
      "PMC7386680 nlm:toHtml.xsl\n",
      "!PMC7391983 PMC7392634 nlm:toHtml.xsl\n",
      "unknown tag table-wrap\n",
      "unknown tag table-wrap-foot\n",
      "PMC7395586 nlm:toHtml.xsl\n",
      ".PMC7402518 nlm:toHtml.xsl\n",
      "unknown tag table-wrap\n",
      "PMC7402651 nlm:toHtml.xsl\n",
      "PMC7402669 nlm:toHtml.xsl\n",
      "PMC7404095 nlm:toHtml.xsl\n",
      "PMC7409732 nlm:toHtml.xsl\n",
      "PMC7413401 nlm:toHtml.xsl\n",
      "unknown tag table-wrap\n",
      "unknown tag table-wrap-foot\n",
      "PMC7414693 nlm:toHtml.xsl\n",
      "PMC7414935 nlm:toHtml.xsl\n",
      "unknown tag table-wrap\n",
      "PMC7416915 nlm:toHtml.xsl\n",
      "unknown tag math\n",
      "unknown tag mtable\n",
      "unknown tag mtr\n",
      "unknown tag mtd\n",
      "unknown tag mfrac\n",
      "unknown tag mrow\n",
      "unknown tag mi\n",
      "unknown tag mo\n",
      "unknown tag mn\n",
      "unknown tag mspace\n",
      "unknown tag table-wrap\n",
      "unknown tag table-wrap-foot\n",
      "unknown tag msub\n",
      "PMC7419580 nlm:toHtml.xsl\n",
      ".PMC7423094 nlm:toHtml.xsl\n",
      "PMC7423499 nlm:toHtml.xsl\n",
      "PMC7427094 nlm:toHtml.xsl\n",
      "unknown tag table-wrap\n",
      "unknown tag table-wrap-foot\n",
      "PMC7427313 nlm:toHtml.xsl\n",
      "PMC7428060 nlm:toHtml.xsl\n",
      "unknown tag table-wrap\n",
      "unknown tag table-wrap-foot\n",
      "PMC7431640 nlm:toHtml.xsl\n",
      "unknown tag table-wrap\n",
      "PMC7435559 nlm:toHtml.xsl\n",
      "PMC7440033 nlm:toHtml.xsl\n",
      "PMC7441048 nlm:toHtml.xsl\n",
      "unknown tag table-wrap\n",
      "unknown tag table-wrap-foot\n",
      "PMC7445369 nlm:toHtml.xsl\n",
      ".PMC7448857 nlm:toHtml.xsl\n",
      "UNKNOWN nlm tag: article-version\n",
      "PMC7454301 nlm:toHtml.xsl\n",
      "unknown tag table-wrap\n",
      "unknown tag tex-math\n",
      "PMC7454384 nlm:toHtml.xsl\n",
      "PMC7454771 nlm:toHtml.xsl\n",
      "PMC7458341 nlm:toHtml.xsl\n",
      "unknown tag table-wrap\n",
      "unknown tag table-wrap-foot\n",
      "PMC7459150 nlm:toHtml.xsl\n",
      "PMC7461001 nlm:toHtml.xsl\n",
      "unknown tag math\n",
      "unknown tag mfrac\n",
      "unknown tag mrow\n",
      "unknown tag mi\n",
      "unknown tag mfenced\n",
      "unknown tag mo\n",
      "unknown tag msub\n",
      "unknown tag mn\n",
      "unknown tag mspace\n",
      "unknown tag mtext\n",
      "unknown tag msup\n",
      "unknown tag msubsup\n",
      "PMC7461190 nlm:toHtml.xsl\n",
      "PMC7462751 nlm:toHtml.xsl\n",
      "PMC7466926 nlm:toHtml.xsl\n",
      ".!PMC7467093 PMC7467230 nlm:toHtml.xsl\n",
      "unknown tag table-wrap\n",
      "unknown tag table-wrap-foot\n",
      "PMC7467512 nlm:toHtml.xsl\n",
      "unknown tag table-wrap\n",
      "PMC7469891 nlm:toHtml.xsl\n",
      "PMC7470771 nlm:toHtml.xsl\n",
      "unknown tag math\n",
      "unknown tag mrow\n",
      "unknown tag mn\n",
      "unknown tag msup\n",
      "unknown tag mi\n",
      "unknown tag msub\n",
      "unknown tag mo\n",
      "unknown tag msubsup\n",
      "unknown tag mfrac\n",
      "unknown tag mfenced\n",
      "unknown tag mtable\n",
      "unknown tag mtr\n",
      "unknown tag mtd\n",
      "unknown tag mspace\n",
      "unknown tag mtext\n",
      "unknown tag munderover\n",
      "unknown tag table-wrap\n",
      "PMC7472381 nlm:toHtml.xsl\n",
      "unknown tag math\n",
      "unknown tag mrow\n",
      "unknown tag msub\n",
      "unknown tag mi\n",
      "unknown tag mtable\n",
      "unknown tag mtr\n",
      "unknown tag mtd\n",
      "unknown tag mo\n",
      "unknown tag mn\n",
      "unknown tag mfrac\n",
      "unknown tag msup\n",
      "unknown tag mstyle\n",
      "unknown tag mtext\n",
      "unknown tag munderover\n",
      "unknown tag table-wrap\n",
      "unknown tag table-wrap-foot\n",
      "PMC7482569 nlm:toHtml.xsl\n",
      "unknown tag math\n",
      "unknown tag mstyle\n",
      "unknown tag mrow\n",
      "unknown tag mfrac\n",
      "unknown tag mtext\n",
      "unknown tag mi\n",
      "unknown tag mo\n",
      "unknown tag msup\n",
      "unknown tag mn\n",
      "unknown tag msub\n",
      "unknown tag msubsup\n",
      "unknown tag mtable\n",
      "unknown tag mtr\n",
      "unknown tag mtd\n",
      "unknown tag mspace\n",
      "unknown tag table-wrap\n",
      "unknown tag mover\n",
      "!PMC7485949 !PMC7486873 PMC7494453 nlm:toHtml.xsl\n",
      "unknown tag table-wrap\n",
      "unknown tag table-wrap-foot\n",
      ".PMC7499620 nlm:toHtml.xsl\n",
      "!PMC7508551 !PMC7513765 !PMC7513919 !PMC7515607 !PMC7516517 !PMC7516576 Cannot read stopword stream: /org/contentmine/ami/wordutil, ami3, version 2020/08/09_09/54-NEXT-SNAPSHOT/pmcstop.txt\n",
      "Cannot read stopword stream: /org/contentmine/ami/wordutil, ami3, version 2020/08/09_09/54-NEXT-SNAPSHOT/stopwords.txt\n",
      "10.1101 !w.PMC3004943 PMC3561042 PMC6517453 !wPMC6695746 PMC6964091 PMC7098263 PMC7102705 PMC7119083 PMC7120695 PMC7144339 .PMC7164915 !wPMC7180007 PMC7180667 !wPMC7182292 PMC7197577 PMC7202122 PMC7203543 PMC7225630 PMC7229974 PMC7241517 .PMC7245250 PMC7256497 PMC7257617 PMC7265527 PMC7279053 PMC7283747 PMC7298473 PMC7300792 PMC7309422 PMC7309641 .PMC7314157 !wPMC7316359 PMC7320681 PMC7323437 PMC7326430 PMC7332278 PMC7338960 PMC7341479 PMC7341712 PMC7361333 .PMC7362058 PMC7365411 PMC7365643 PMC7371815 !wPMC7373336 PMC7376323 PMC7386680 PMC7391983 !wPMC7392634 PMC7395586 .PMC7402518 PMC7402651 PMC7402669 PMC7404095 PMC7409732 PMC7413401 PMC7414693 PMC7414935 PMC7416915 PMC7419580 .PMC7423094 PMC7423499 PMC7427094 PMC7427313 PMC7428060 PMC7431640 PMC7435559 PMC7440033 PMC7441048 PMC7445369 .PMC7448857 PMC7454301 PMC7454384 PMC7454771 PMC7458341 PMC7459150 PMC7461001 PMC7461190 PMC7462751 PMC7466926 .PMC7467093 !wPMC7467230 PMC7467512 PMC7469891 PMC7470771 PMC7472381 PMC7482569 PMC7485949 !wPMC7486873 !wPMC7494453 .PMC7499620 PMC7508551 !wPMC7513765 !wPMC7513919 !wPMC7515607 !wPMC7516517 !wPMC7516576 !w..............................................................................................................\n",
      "create data tables\n",
      "rrrrrrrrrrrrrrrrrrrrrrrrrrrrrrrrrrrr"
     ]
    }
   ],
   "source": [
    "print (\"===== running \" + \" ami -p \" + PROJECT + \" search --dictionary \"\\\n",
    "       + DICTIONARIES + \" =======\")\n",
    "! ami -p $PROJECT search --dictionary $DICTIONARIES"
   ]
  },
  {
   "cell_type": "code",
   "execution_count": 39,
   "metadata": {
    "scrolled": false
   },
   "outputs": [
    {
     "name": "stdout",
     "output_type": "stream",
     "text": [
      "\u001b[34m10.1101\u001b[m\u001b[m/                        \u001b[34mPMC7416915\u001b[m\u001b[m/\r\n",
      "\u001b[34mPMC3004943\u001b[m\u001b[m/                     \u001b[34mPMC7419580\u001b[m\u001b[m/\r\n",
      "\u001b[34mPMC3561042\u001b[m\u001b[m/                     \u001b[34mPMC7423094\u001b[m\u001b[m/\r\n",
      "\u001b[34mPMC6517453\u001b[m\u001b[m/                     \u001b[34mPMC7423499\u001b[m\u001b[m/\r\n",
      "\u001b[34mPMC6695746\u001b[m\u001b[m/                     \u001b[34mPMC7427094\u001b[m\u001b[m/\r\n",
      "\u001b[34mPMC6964091\u001b[m\u001b[m/                     \u001b[34mPMC7427313\u001b[m\u001b[m/\r\n",
      "\u001b[34mPMC7098263\u001b[m\u001b[m/                     \u001b[34mPMC7428060\u001b[m\u001b[m/\r\n",
      "\u001b[34mPMC7102705\u001b[m\u001b[m/                     \u001b[34mPMC7431640\u001b[m\u001b[m/\r\n",
      "\u001b[34mPMC7119083\u001b[m\u001b[m/                     \u001b[34mPMC7435559\u001b[m\u001b[m/\r\n",
      "\u001b[34mPMC7120695\u001b[m\u001b[m/                     \u001b[34mPMC7440033\u001b[m\u001b[m/\r\n",
      "\u001b[34mPMC7144339\u001b[m\u001b[m/                     \u001b[34mPMC7441048\u001b[m\u001b[m/\r\n",
      "\u001b[34mPMC7164915\u001b[m\u001b[m/                     \u001b[34mPMC7445369\u001b[m\u001b[m/\r\n",
      "\u001b[34mPMC7180007\u001b[m\u001b[m/                     \u001b[34mPMC7448857\u001b[m\u001b[m/\r\n",
      "\u001b[34mPMC7180667\u001b[m\u001b[m/                     \u001b[34mPMC7454301\u001b[m\u001b[m/\r\n",
      "\u001b[34mPMC7182292\u001b[m\u001b[m/                     \u001b[34mPMC7454384\u001b[m\u001b[m/\r\n",
      "\u001b[34mPMC7197577\u001b[m\u001b[m/                     \u001b[34mPMC7454771\u001b[m\u001b[m/\r\n",
      "\u001b[34mPMC7202122\u001b[m\u001b[m/                     \u001b[34mPMC7458341\u001b[m\u001b[m/\r\n",
      "\u001b[34mPMC7203543\u001b[m\u001b[m/                     \u001b[34mPMC7459150\u001b[m\u001b[m/\r\n",
      "\u001b[34mPMC7225630\u001b[m\u001b[m/                     \u001b[34mPMC7461001\u001b[m\u001b[m/\r\n",
      "\u001b[34mPMC7229974\u001b[m\u001b[m/                     \u001b[34mPMC7461190\u001b[m\u001b[m/\r\n",
      "\u001b[34mPMC7241517\u001b[m\u001b[m/                     \u001b[34mPMC7462751\u001b[m\u001b[m/\r\n",
      "\u001b[34mPMC7245250\u001b[m\u001b[m/                     \u001b[34mPMC7466926\u001b[m\u001b[m/\r\n",
      "\u001b[34mPMC7256497\u001b[m\u001b[m/                     \u001b[34mPMC7467093\u001b[m\u001b[m/\r\n",
      "\u001b[34mPMC7257617\u001b[m\u001b[m/                     \u001b[34mPMC7467230\u001b[m\u001b[m/\r\n",
      "\u001b[34mPMC7265527\u001b[m\u001b[m/                     \u001b[34mPMC7467512\u001b[m\u001b[m/\r\n",
      "\u001b[34mPMC7279053\u001b[m\u001b[m/                     \u001b[34mPMC7469891\u001b[m\u001b[m/\r\n",
      "\u001b[34mPMC7283747\u001b[m\u001b[m/                     \u001b[34mPMC7470771\u001b[m\u001b[m/\r\n",
      "\u001b[34mPMC7298473\u001b[m\u001b[m/                     \u001b[34mPMC7472381\u001b[m\u001b[m/\r\n",
      "\u001b[34mPMC7300792\u001b[m\u001b[m/                     \u001b[34mPMC7482569\u001b[m\u001b[m/\r\n",
      "\u001b[34mPMC7309422\u001b[m\u001b[m/                     \u001b[34mPMC7485949\u001b[m\u001b[m/\r\n",
      "\u001b[34mPMC7309641\u001b[m\u001b[m/                     \u001b[34mPMC7486873\u001b[m\u001b[m/\r\n",
      "\u001b[34mPMC7314157\u001b[m\u001b[m/                     \u001b[34mPMC7494453\u001b[m\u001b[m/\r\n",
      "\u001b[34mPMC7316359\u001b[m\u001b[m/                     \u001b[34mPMC7499620\u001b[m\u001b[m/\r\n",
      "\u001b[34mPMC7320681\u001b[m\u001b[m/                     \u001b[34mPMC7508551\u001b[m\u001b[m/\r\n",
      "\u001b[34mPMC7323437\u001b[m\u001b[m/                     \u001b[34mPMC7513765\u001b[m\u001b[m/\r\n",
      "\u001b[34mPMC7326430\u001b[m\u001b[m/                     \u001b[34mPMC7513919\u001b[m\u001b[m/\r\n",
      "\u001b[34mPMC7332278\u001b[m\u001b[m/                     \u001b[34mPMC7515607\u001b[m\u001b[m/\r\n",
      "\u001b[34mPMC7338960\u001b[m\u001b[m/                     \u001b[34mPMC7516517\u001b[m\u001b[m/\r\n",
      "\u001b[34mPMC7341479\u001b[m\u001b[m/                     \u001b[34mPMC7516576\u001b[m\u001b[m/\r\n",
      "\u001b[34mPMC7341712\u001b[m\u001b[m/                     \u001b[34m__cooccurrence\u001b[m\u001b[m/\r\n",
      "\u001b[34mPMC7361333\u001b[m\u001b[m/                     commonest.dataTables.html\r\n",
      "\u001b[34mPMC7362058\u001b[m\u001b[m/                     count.dataTables.html\r\n",
      "\u001b[34mPMC7365411\u001b[m\u001b[m/                     entries.dataTables.html\r\n",
      "\u001b[34mPMC7365643\u001b[m\u001b[m/                     eupmc_fulltext_html_urls.txt\r\n",
      "\u001b[34mPMC7371815\u001b[m\u001b[m/                     eupmc_results.json\r\n",
      "\u001b[34mPMC7373336\u001b[m\u001b[m/                     full.dataTables.html\r\n",
      "\u001b[34mPMC7376323\u001b[m\u001b[m/                     search.country.count.xml\r\n",
      "\u001b[34mPMC7386680\u001b[m\u001b[m/                     search.country.documents.xml\r\n",
      "\u001b[34mPMC7391983\u001b[m\u001b[m/                     search.country.snippets.xml\r\n",
      "\u001b[34mPMC7392634\u001b[m\u001b[m/                     search.disease.count.xml\r\n",
      "\u001b[34mPMC7395586\u001b[m\u001b[m/                     search.disease.documents.xml\r\n",
      "\u001b[34mPMC7402518\u001b[m\u001b[m/                     search.disease.snippets.xml\r\n",
      "\u001b[34mPMC7402651\u001b[m\u001b[m/                     search.drugs.count.xml\r\n",
      "\u001b[34mPMC7402669\u001b[m\u001b[m/                     search.drugs.documents.xml\r\n",
      "\u001b[34mPMC7404095\u001b[m\u001b[m/                     search.drugs.snippets.xml\r\n",
      "\u001b[34mPMC7409732\u001b[m\u001b[m/                     word.frequencies.count.xml\r\n",
      "\u001b[34mPMC7413401\u001b[m\u001b[m/                     word.frequencies.documents.xml\r\n",
      "\u001b[34mPMC7414693\u001b[m\u001b[m/                     word.frequencies.snippets.xml\r\n",
      "\u001b[34mPMC7414935\u001b[m\u001b[m/\r\n"
     ]
    }
   ],
   "source": [
    "ls $PROJECT"
   ]
  },
  {
   "cell_type": "markdown",
   "metadata": {},
   "source": [
    "[link to dashboard (full.dataTables)](drugs_disease_country/full.dataTables.html)"
   ]
  },
  {
   "cell_type": "code",
   "execution_count": 40,
   "metadata": {},
   "outputs": [],
   "source": [
    "## cooccurrence plots\n",
    "\n",
    "### First, list the plots"
   ]
  },
  {
   "cell_type": "code",
   "execution_count": 41,
   "metadata": {},
   "outputs": [
    {
     "name": "stdout",
     "output_type": "stream",
     "text": [
      "allPlots.svg    \u001b[34mcountry-country\u001b[m\u001b[m \u001b[34mdisease-country\u001b[m\u001b[m \u001b[34mdrugs\u001b[m\u001b[m           \u001b[34mdrugs-disease\u001b[m\u001b[m\n",
      "\u001b[34mcountry\u001b[m\u001b[m         \u001b[34mdisease\u001b[m\u001b[m         \u001b[34mdisease-disease\u001b[m\u001b[m \u001b[34mdrugs-country\u001b[m\u001b[m   \u001b[34mdrugs-drugs\u001b[m\u001b[m\n",
      "drugs_disease_country/__cooccurrence/allPlots.svg\n"
     ]
    }
   ],
   "source": [
    "! ls $PROJECT/__cooccurrence/\n",
    "! ls $PROJECT/__cooccurrence/allPlots.svg \n",
    "# this is a kludge until we work out how to display the file\n",
    "! cp $PROJECT/__cooccurrence/allPlots.svg tempAllPlots.svg"
   ]
  },
  {
   "cell_type": "markdown",
   "metadata": {},
   "source": [
    "### display the all-vs-all plot\n",
    "*WARNING uses a temp file - we need to find a generic way with `display()`\n"
   ]
  },
  {
   "cell_type": "markdown",
   "metadata": {},
   "source": [
    "## all-by-all plots\n",
    "<img src=\"tempAllPlots.svg\">\n",
    "\n",
    "licence\n",
    "![Alt text](https://mirrors.creativecommons.org/presskit/logos/cc.logo.svg)\n",
    "\n"
   ]
  },
  {
   "cell_type": "code",
   "execution_count": 42,
   "metadata": {},
   "outputs": [
    {
     "name": "stdout",
     "output_type": "stream",
     "text": [
      "ls: date: No such file or directory\r\n"
     ]
    }
   ],
   "source": [
    "! date"
   ]
  }
 ],
 "metadata": {
  "kernelspec": {
   "display_name": "Python 3",
   "language": "python",
   "name": "python3"
  },
  "language_info": {
   "codemirror_mode": {
    "name": "ipython",
    "version": 3
   },
   "file_extension": ".py",
   "mimetype": "text/x-python",
   "name": "python",
   "nbconvert_exporter": "python",
   "pygments_lexer": "ipython3",
   "version": "3.8.3"
  }
 },
 "nbformat": 4,
 "nbformat_minor": 4
}

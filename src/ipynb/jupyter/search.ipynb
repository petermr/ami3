{
 "cells": [
  {
   "cell_type": "markdown",
   "metadata": {},
   "source": [
    "# search with ami\n",
    "\n"
   ]
  },
  {
   "cell_type": "markdown",
   "metadata": {},
   "source": [
    "### variables\n",
    "\n"
   ]
  },
  {
   "cell_type": "code",
   "execution_count": 1,
   "metadata": {},
   "outputs": [],
   "source": [
    "# specific problem\n",
    "PROJECT = \"tulsi\"\n",
    "EPMC = \"tulsi\"\n",
    "HITS = 10\n",
    "DICTIONARIES = \"country funder\"\n",
    "\n",
    "# where is ami3? (assume you have checked out or copied `ami3` distrib)\n",
    "HOME = \"/Users/pm286/\"\n",
    "WORKSPACE = HOME + \"workspace/\"\n",
    "\n",
    "# local workspace\n",
    "WORK = WORKSPACE + \"work/\"\n",
    "PROJECT_WORK = WORK + PROJECT + \"/\"\n",
    "\n",
    "# general data resource within the `ami3` distrib\n",
    "AMI3 = WORKSPACE + \"cmdev/ami3\"\n",
    "TEST_RESOURCES = AMI3 + \"src/test/resources/\"\n",
    "AMI_DATA = TEST_RESOURCES + \"org/contentmine/ami/\"\n",
    "PROJECT_DATA = AMI_DATA + PROJECT + \"/\"\n"
   ]
  },
  {
   "cell_type": "code",
   "execution_count": 2,
   "metadata": {},
   "outputs": [
    {
     "name": "stdout",
     "output_type": "stream",
     "text": [
      "\u001b[32minfo\u001b[39m: Searching using eupmc API\n",
      "\u001b[32minfo\u001b[39m: Found 561 open access results\n",
      "\u001b[33mwarn\u001b[39m: This version of getpapers wasn't built with this version of the EuPMC api in mind\n",
      "\u001b[33mwarn\u001b[39m: getpapers EuPMCVersion: 5.3.2 vs. 6.4 reported by api\n",
      "\u001b[32minfo\u001b[39m: Limiting to 10 hits\n",
      "\u001b[2K\u001b[1GRetrieving results [\u001b[32m=\u001b[39m\u001b[32m=\u001b[39m\u001b[32m=\u001b[39m\u001b[32m=\u001b[39m\u001b[32m=\u001b[39m\u001b[32m=\u001b[39m\u001b[32m=\u001b[39m\u001b[32m=\u001b[39m\u001b[32m=\u001b[39m\u001b[32m=\u001b[39m\u001b[32m=\u001b[39m\u001b[32m=\u001b[39m\u001b[32m=\u001b[39m\u001b[32m=\u001b[39m\u001b[32m=\u001b[39m\u001b[32m=\u001b[39m\u001b[32m=\u001b[39m\u001b[32m=\u001b[39m\u001b[32m=\u001b[39m\u001b[32m=\u001b[39m\u001b[32m=\u001b[39m\u001b[32m=\u001b[39m\u001b[32m=\u001b[39m\u001b[32m=\u001b[39m\u001b[32m=\u001b[39m\u001b[32m=\u001b[39m\u001b[32m=\u001b[39m\u001b[32m=\u001b[39m\u001b[32m=\u001b[39m\u001b[32m=\u001b[39m] 100% (eta 0.0s)\n",
      "\u001b[32minfo\u001b[39m: Done collecting results\n",
      "\u001b[32minfo\u001b[39m: limiting hits\n",
      "\u001b[32minfo\u001b[39m: Saving result metadata\n",
      "\u001b[32minfo\u001b[39m: Full EUPMC result metadata written to \u001b[34meupmc_results.json\u001b[39m\n",
      "\u001b[32minfo\u001b[39m: Individual EUPMC result metadata records written\n",
      "\u001b[32minfo\u001b[39m: Extracting fulltext HTML URL list (may not be available for all articles)\n",
      "\u001b[32minfo\u001b[39m: Fulltext HTML URL list written to \u001b[34meupmc_fulltext_html_urls.txt\u001b[39m\n",
      "\u001b[33mwarn\u001b[39m: Article with pmcid \"PMC7484581\" was not Open Access (therefore no XML)\n",
      "\u001b[33mwarn\u001b[39m: Article with pmcid \"PMC7302926\" was not Open Access (therefore no XML)\n",
      "\u001b[33mwarn\u001b[39m: Article with pmcid \"PMC7490892\" was not Open Access (therefore no XML)\n",
      "\u001b[32minfo\u001b[39m: Got XML URLs for 7 out of 10 results\n",
      "\u001b[32minfo\u001b[39m: Downloading fulltext XML files\n",
      "\u001b[2K\u001b[1GDownloading files [\u001b[32m=\u001b[39m\u001b[32m=\u001b[39m\u001b[32m=\u001b[39m\u001b[32m=\u001b[39m----------------------] 14% (1/7) [0.0s elapsed, eta 0.0]\u001b[2K\u001b[1GDownloading files [\u001b[32m=\u001b[39m\u001b[32m=\u001b[39m\u001b[32m=\u001b[39m\u001b[32m=\u001b[39m\u001b[32m=\u001b[39m\u001b[32m=\u001b[39m\u001b[32m=\u001b[39m-------------------] 29% (2/7) [0.0s elapsed, eta 0.0]\u001b[2K\u001b[1GDownloading files [\u001b[32m=\u001b[39m\u001b[32m=\u001b[39m\u001b[32m=\u001b[39m\u001b[32m=\u001b[39m\u001b[32m=\u001b[39m\u001b[32m=\u001b[39m\u001b[32m=\u001b[39m\u001b[32m=\u001b[39m\u001b[32m=\u001b[39m\u001b[32m=\u001b[39m\u001b[32m=\u001b[39m---------------] 43% (3/7) [0.0s elapsed, eta 0.0]\u001b[2K\u001b[1GDownloading files [\u001b[32m=\u001b[39m\u001b[32m=\u001b[39m\u001b[32m=\u001b[39m\u001b[32m=\u001b[39m\u001b[32m=\u001b[39m\u001b[32m=\u001b[39m\u001b[32m=\u001b[39m\u001b[32m=\u001b[39m\u001b[32m=\u001b[39m\u001b[32m=\u001b[39m\u001b[32m=\u001b[39m\u001b[32m=\u001b[39m\u001b[32m=\u001b[39m\u001b[32m=\u001b[39m\u001b[32m=\u001b[39m-----------] 57% (4/7) [0.0s elapsed, eta 0.0]\u001b[2K\u001b[1GDownloading files [\u001b[32m=\u001b[39m\u001b[32m=\u001b[39m\u001b[32m=\u001b[39m\u001b[32m=\u001b[39m\u001b[32m=\u001b[39m\u001b[32m=\u001b[39m\u001b[32m=\u001b[39m\u001b[32m=\u001b[39m\u001b[32m=\u001b[39m\u001b[32m=\u001b[39m\u001b[32m=\u001b[39m\u001b[32m=\u001b[39m\u001b[32m=\u001b[39m\u001b[32m=\u001b[39m\u001b[32m=\u001b[39m\u001b[32m=\u001b[39m\u001b[32m=\u001b[39m\u001b[32m=\u001b[39m\u001b[32m=\u001b[39m-------] 71% (5/7) [0.0s elapsed, eta 0.0]\u001b[2K\u001b[1GDownloading files [\u001b[32m=\u001b[39m\u001b[32m=\u001b[39m\u001b[32m=\u001b[39m\u001b[32m=\u001b[39m\u001b[32m=\u001b[39m\u001b[32m=\u001b[39m\u001b[32m=\u001b[39m\u001b[32m=\u001b[39m\u001b[32m=\u001b[39m\u001b[32m=\u001b[39m\u001b[32m=\u001b[39m\u001b[32m=\u001b[39m\u001b[32m=\u001b[39m\u001b[32m=\u001b[39m\u001b[32m=\u001b[39m\u001b[32m=\u001b[39m\u001b[32m=\u001b[39m\u001b[32m=\u001b[39m\u001b[32m=\u001b[39m\u001b[32m=\u001b[39m\u001b[32m=\u001b[39m\u001b[32m=\u001b[39m----] 86% (6/7) [0.0s elapsed, eta 0.0]\u001b[2K\u001b[1GDownloading files [\u001b[32m=\u001b[39m\u001b[32m=\u001b[39m\u001b[32m=\u001b[39m\u001b[32m=\u001b[39m\u001b[32m=\u001b[39m\u001b[32m=\u001b[39m\u001b[32m=\u001b[39m\u001b[32m=\u001b[39m\u001b[32m=\u001b[39m\u001b[32m=\u001b[39m\u001b[32m=\u001b[39m\u001b[32m=\u001b[39m\u001b[32m=\u001b[39m\u001b[32m=\u001b[39m\u001b[32m=\u001b[39m\u001b[32m=\u001b[39m\u001b[32m=\u001b[39m\u001b[32m=\u001b[39m\u001b[32m=\u001b[39m\u001b[32m=\u001b[39m\u001b[32m=\u001b[39m\u001b[32m=\u001b[39m\u001b[32m=\u001b[39m\u001b[32m=\u001b[39m\u001b[32m=\u001b[39m] 100% (7/7) [0.0s elapsed, eta 0.0]\n",
      "\u001b[32minfo\u001b[39m: File of type: XML and id: PMC7372259 already exists. Skipping.\n",
      "\u001b[32minfo\u001b[39m: File of type: XML and id: PMC7269281 already exists. Skipping.\n",
      "\u001b[32minfo\u001b[39m: File of type: XML and id: PMC6948066 already exists. Skipping.\n",
      "\u001b[32minfo\u001b[39m: File of type: XML and id: PMC7225528 already exists. Skipping.\n",
      "\u001b[32minfo\u001b[39m: File of type: XML and id: PMC6873596 already exists. Skipping.\n",
      "\u001b[32minfo\u001b[39m: File of type: XML and id: PMC7408206 already exists. Skipping.\n",
      "\u001b[32minfo\u001b[39m: File of type: XML and id: PMC7430223 already exists. Skipping.\n"
     ]
    }
   ],
   "source": [
    "! getpapers -q \"$EPMC\" -o $PROJECT -x -k $HITS"
   ]
  },
  {
   "cell_type": "code",
   "execution_count": 3,
   "metadata": {},
   "outputs": [
    {
     "name": "stdout",
     "output_type": "stream",
     "text": [
      "\n",
      "Generic values (AMISearchTool)\n",
      "================================\n",
      "\n",
      "Specific values (AMISearchTool)\n",
      "================================\n",
      "created COMMAND: word(frequencies)xpath:@count>20~w.stopwords:pmcstop.txt_stopwords.txt search(country) search(funder)\n",
      "cProject: tulsi\n",
      "created COMMAND: word(frequencies)xpath:@count>20~w.stopwords:pmcstop.txt_stopwords.txt search(country) search(funder)\n",
      "legacy cmd> word(frequencies)xpath:@count>20~w.stopwords:pmcstop.txt_stopwords.txt\n",
      "legacy cmd> search(country)\n",
      "legacy cmd> search(funder)\n",
      "PMC6873596 .PMC6948066 PMC7225528 PMC7269281 !PMC7302926 PMC7372259 PMC7408206 PMC7430223 !PMC7484581 !PMC7490892 Cannot read stopword stream: /org/contentmine/ami/wordutil, ami3, version 2020/08/09_09/54-NEXT-SNAPSHOT/pmcstop.txt\n",
      "Cannot read stopword stream: /org/contentmine/ami/wordutil, ami3, version 2020/08/09_09/54-NEXT-SNAPSHOT/stopwords.txt\n",
      "PMC6873596 .PMC6948066 PMC7225528 PMC7269281 PMC7302926 !wPMC7372259 PMC7408206 PMC7430223 PMC7484581 !wPMC7490892 !w.....cannot run command: search([funder])[]; cannot process argument: --sr.search (RuntimeException: cannot read inputStream for dictionary: /org/contentmine/ami/plugins/dictionary/funder.xml)\n",
      "\n",
      "create data tables\n",
      "rrrr"
     ]
    }
   ],
   "source": [
    "! ami -p $PROJECT search --dictionary country funder"
   ]
  },
  {
   "cell_type": "code",
   "execution_count": 4,
   "metadata": {},
   "outputs": [
    {
     "name": "stdout",
     "output_type": "stream",
     "text": [
      "\u001b[34mPMC6873596\u001b[m\u001b[m/                     count.dataTables.html\r\n",
      "\u001b[34mPMC6948066\u001b[m\u001b[m/                     entries.dataTables.html\r\n",
      "\u001b[34mPMC7225528\u001b[m\u001b[m/                     eupmc_fulltext_html_urls.txt\r\n",
      "\u001b[34mPMC7269281\u001b[m\u001b[m/                     eupmc_results.json\r\n",
      "\u001b[34mPMC7302926\u001b[m\u001b[m/                     full.dataTables.html\r\n",
      "\u001b[34mPMC7372259\u001b[m\u001b[m/                     search.country.count.xml\r\n",
      "\u001b[34mPMC7408206\u001b[m\u001b[m/                     search.country.documents.xml\r\n",
      "\u001b[34mPMC7430223\u001b[m\u001b[m/                     search.country.snippets.xml\r\n",
      "\u001b[34mPMC7484581\u001b[m\u001b[m/                     word.frequencies.count.xml\r\n",
      "\u001b[34mPMC7490892\u001b[m\u001b[m/                     word.frequencies.documents.xml\r\n",
      "\u001b[34m__cooccurrence\u001b[m\u001b[m/                 word.frequencies.snippets.xml\r\n",
      "commonest.dataTables.html\r\n"
     ]
    }
   ],
   "source": [
    "ls $PROJECT"
   ]
  },
  {
   "cell_type": "code",
   "execution_count": 5,
   "metadata": {},
   "outputs": [
    {
     "name": "stdout",
     "output_type": "stream",
     "text": [
      "allPlots.svg     \u001b[34mcountry-country\u001b[m\u001b[m/ \u001b[34mfunder\u001b[m\u001b[m/\r\n",
      "\u001b[34mcountry\u001b[m\u001b[m/         \u001b[34mcountry-funder\u001b[m\u001b[m/  \u001b[34mfunder-funder\u001b[m\u001b[m/\r\n"
     ]
    }
   ],
   "source": [
    "ls $PROJECT/__cooccurrence/"
   ]
  },
  {
   "cell_type": "code",
   "execution_count": 7,
   "metadata": {
    "scrolled": true
   },
   "outputs": [
    {
     "name": "stdout",
     "output_type": "stream",
     "text": [
      "tulsi/__cooccurrence/allPlots.svg\r\n"
     ]
    }
   ],
   "source": [
    "ls $PROJECT/__cooccurrence/allPlots.svg "
   ]
  },
  {
   "cell_type": "markdown",
   "metadata": {},
   "source": [
    "<img src=\"$PROJECT/__cooccurrence/allPlots.svg\">"
   ]
  },
  {
   "cell_type": "markdown",
   "metadata": {},
   "source": [
    "licence\n",
    "![Alt text](https://mirrors.creativecommons.org/presskit/logos/cc.logo.svg)"
   ]
  },
  {
   "cell_type": "code",
   "execution_count": null,
   "metadata": {},
   "outputs": [],
   "source": []
  }
 ],
 "metadata": {
  "kernelspec": {
   "display_name": "Python 3",
   "language": "python",
   "name": "python3"
  },
  "language_info": {
   "codemirror_mode": {
    "name": "ipython",
    "version": 3
   },
   "file_extension": ".py",
   "mimetype": "text/x-python",
   "name": "python",
   "nbconvert_exporter": "python",
   "pygments_lexer": "ipython3",
   "version": "3.8.3"
  }
 },
 "nbformat": 4,
 "nbformat_minor": 4
}

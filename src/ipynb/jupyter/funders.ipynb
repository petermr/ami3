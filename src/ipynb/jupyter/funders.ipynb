{
 "cells": [
  {
   "cell_type": "markdown",
   "metadata": {},
   "source": [
    "# search with ami\n",
    "\n"
   ]
  },
  {
   "cell_type": "markdown",
   "metadata": {},
   "source": [
    "### define the parameters of the search\n",
    "\n"
   ]
  },
  {
   "cell_type": "code",
   "execution_count": null,
   "metadata": {
    "scrolled": true
   },
   "outputs": [],
   "source": [
    "# specific problem\n",
    "PROJECT = \"funders\"\n",
    "EPMC = \"viral epidemics\"\n",
    "HITS = 100\n",
    "DEBUG = \"vv\" # from -v to -vvv \n",
    "\n",
    "\n",
    "# This will be user-specific. EDIT\n",
    "\n",
    "# where is your workspace?\n",
    "HOME = \"/Users/pm286/\"\n",
    "WORK = HOME + \"workspace/work/search/\"\n",
    "\n",
    "# and where is ami3 distrib (DEMO ONLY)?\n",
    "AMI3 = HOME + \"workspace/cmdev/ami3/\"\n",
    "\n",
    "# where is the dictionary directory?\n",
    "OPEN_VIRUS = HOME + \"projects/openVirus/\"\n",
    "DICTIONARIES_DIR = OPEN_VIRUS + \"cambiohack2020/dictionaries/\" \n",
    "\n",
    "# and the demo\n",
    "IPYNB = AMI3 + \"src/ipynb/work/search/\"\n",
    "\n",
    "# (DEMO ONLY) copy so we don't contaminate AMI3\n",
    "! cp -R $IPYNB $WORK\n",
    "\n",
    "#specific project\n",
    "PROJECT_WORK = WORK + PROJECT + \"/\"\n",
    "\n",
    "DICTIONARIES = \"country \" + DICTIONARIES_DIR +\"funder.xml \"\n",
    "\n",
    "! cd $WORK\n",
    "print (\"working in: \" + WORK + \"\\nfiles: \\n\")\n",
    "! ls"
   ]
  },
  {
   "cell_type": "markdown",
   "metadata": {},
   "source": [
    "## search EPMC with getpapers\n",
    "This needs\n",
    "* a search query (EPMC) to send to europepmc.org\n",
    "* a project name (PROJECT) which will create a directory under your current directory\n",
    "* maximum hits (HITS)"
   ]
  },
  {
   "cell_type": "code",
   "execution_count": null,
   "metadata": {},
   "outputs": [],
   "source": [
    "! getpapers -q \"$EPMC\" -o $PROJECT -x -k $HITS"
   ]
  },
  {
   "cell_type": "markdown",
   "metadata": {},
   "source": [
    "## `ami search` on results of `getpapers`\n",
    "\n",
    "This requires one or more dictionaries (space-separated) in DICTIONARIES\n",
    "It can transform/search 1-3 papers/sec and is quicker the second time around. "
   ]
  },
  {
   "cell_type": "code",
   "execution_count": null,
   "metadata": {},
   "outputs": [],
   "source": [
    "! ami -$DEBUG -p $PROJECT search --dictionary $DICTIONARIES"
   ]
  },
  {
   "cell_type": "code",
   "execution_count": null,
   "metadata": {
    "scrolled": true
   },
   "outputs": [],
   "source": [
    "print (\"files in \" + PROJECT + \":\")\n",
    "! ls $PROJECT"
   ]
  },
  {
   "cell_type": "markdown",
   "metadata": {},
   "source": [
    "[dashboard](drugs_disease_country/full.dataTables.html)"
   ]
  },
  {
   "cell_type": "code",
   "execution_count": null,
   "metadata": {},
   "outputs": [],
   "source": [
    "## cooccurrence plots\n",
    "\n",
    "### First, list the plots"
   ]
  },
  {
   "cell_type": "code",
   "execution_count": null,
   "metadata": {},
   "outputs": [],
   "source": [
    "! ls $PROJECT/__cooccurrence/\n",
    "! ls $PROJECT/__cooccurrence/allPlots.svg \n",
    "# this is a kludge until we work out how to display the file\n",
    "! cp $PROJECT/__cooccurrence/allPlots.svg tempAllPlots.svg"
   ]
  },
  {
   "cell_type": "markdown",
   "metadata": {},
   "source": [
    "### display the all-vs-all plot\n",
    "*WARNING uses a temp file - we need to find a generic way with `display()`\n"
   ]
  },
  {
   "cell_type": "markdown",
   "metadata": {},
   "source": [
    "## all-by-all plots\n",
    "<img src=\"tempAllPlots.svg\">\n",
    "\n",
    "licence\n",
    "![Alt text](https://mirrors.creativecommons.org/presskit/logos/cc.logo.svg)\n",
    "\n"
   ]
  },
  {
   "cell_type": "code",
   "execution_count": null,
   "metadata": {},
   "outputs": [],
   "source": [
    "[x[0] for x in [[1,2],[3],[5,6]]]\n"
   ]
  },
  {
   "cell_type": "code",
   "execution_count": 1,
   "metadata": {},
   "outputs": [
    {
     "name": "stdout",
     "output_type": "stream",
     "text": [
      "Object `os` not found.\n"
     ]
    }
   ],
   "source": [
    "os?\n"
   ]
  },
  {
   "cell_type": "code",
   "execution_count": 2,
   "metadata": {},
   "outputs": [],
   "source": [
    "import os\n",
    "os?"
   ]
  },
  {
   "cell_type": "code",
   "execution_count": 4,
   "metadata": {},
   "outputs": [
    {
     "name": "stdout",
     "output_type": "stream",
     "text": [
      "/Users/pm286\n"
     ]
    }
   ],
   "source": [
    "from os.path import expanduser\n",
    "home = expanduser(\"~\")\n",
    "print (home)"
   ]
  },
  {
   "cell_type": "code",
   "execution_count": null,
   "metadata": {},
   "outputs": [],
   "source": []
  }
 ],
 "metadata": {
  "kernelspec": {
   "display_name": "Python 3",
   "language": "python",
   "name": "python3"
  },
  "language_info": {
   "codemirror_mode": {
    "name": "ipython",
    "version": 3
   },
   "file_extension": ".py",
   "mimetype": "text/x-python",
   "name": "python",
   "nbconvert_exporter": "python",
   "pygments_lexer": "ipython3",
   "version": "3.8.3"
  }
 },
 "nbformat": 4,
 "nbformat_minor": 4
}

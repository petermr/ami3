{
 "cells": [
  {
   "cell_type": "markdown",
   "metadata": {},
   "source": [
    "# search with ami\n",
    "\n"
   ]
  },
  {
   "cell_type": "markdown",
   "metadata": {},
   "source": [
    "### define the parameters of the search\n",
    "\n"
   ]
  },
  {
   "cell_type": "code",
   "execution_count": null,
   "metadata": {},
   "outputs": [],
   "source": [
    "import os\n",
    "from os.path import expanduser\n",
    "import shutil"
   ]
  },
  {
   "cell_type": "code",
   "execution_count": 12,
   "metadata": {
    "scrolled": true
   },
   "outputs": [],
   "source": [
    "# specific problem\n",
    "VARS = {}\n",
    "VARS[\"PROJECT\"] = \"funders\"\n",
    "VARS[\"E_QUERY\"] = \"viral epidemics\"\n",
    "VARS[\"G_HITS\"] = 100\n",
    "VARS[\"AMI_V\"] = \" -vv \"\n",
    "HOME = expanduser(\"~\")\n",
    "VARS[\"WORK\"] = HOME + \"workspace/work/search/\"\n",
    "VARS[\"AMI3\"] = HOME + \"workspace/cmdev/ami3/\"\n",
    "VARS[\"OPEN_VIRUS\"] = HOME + \"projects/openVirus/\"\n",
    "VARS[\"DICT_DIR\"] = VARS[\"OPEN_VIRUS\"] + \"cambiohack2020/dictionaries/\" \n",
    "\n",
    "# destination = shutil.copytree($IPYNB, $WORK)\n",
    "# shutil.rmtree(path)  \n",
    "\n"
   ]
  },
  {
   "cell_type": "markdown",
   "metadata": {},
   "source": [
    "## create dictionaries with `amidict`\n"
   ]
  },
  {
   "cell_type": "code",
   "execution_count": null,
   "metadata": {},
   "outputs": [],
   "source": [
    "! amidict -q \"$EPMC\" -o $PROJECT -x -k $HITS"
   ]
  },
  {
   "cell_type": "markdown",
   "metadata": {},
   "source": [
    "## `ami search` on results of `getpapers`\n",
    "\n",
    "This requires one or more dictionaries (space-separated) in DICTIONARIES\n",
    "It can transform/search 1-3 papers/sec and is quicker the second time around. "
   ]
  },
  {
   "cell_type": "code",
   "execution_count": null,
   "metadata": {},
   "outputs": [],
   "source": [
    "! ami -$DEBUG -p $PROJECT search --dictionary $DICTIONARIES"
   ]
  },
  {
   "cell_type": "code",
   "execution_count": null,
   "metadata": {
    "scrolled": true
   },
   "outputs": [],
   "source": [
    "print (\"files in \" + PROJECT + \":\")\n",
    "! ls $PROJECT"
   ]
  },
  {
   "cell_type": "markdown",
   "metadata": {},
   "source": [
    "[dashboard](drugs_disease_country/full.dataTables.html)"
   ]
  },
  {
   "cell_type": "code",
   "execution_count": null,
   "metadata": {},
   "outputs": [],
   "source": [
    "## cooccurrence plots\n",
    "\n",
    "### First, list the plots"
   ]
  },
  {
   "cell_type": "code",
   "execution_count": null,
   "metadata": {},
   "outputs": [],
   "source": [
    "! ls $PROJECT/__cooccurrence/\n",
    "! ls $PROJECT/__cooccurrence/allPlots.svg \n",
    "# this is a kludge until we work out how to display the file\n",
    "! cp $PROJECT/__cooccurrence/allPlots.svg tempAllPlots.svg"
   ]
  },
  {
   "cell_type": "markdown",
   "metadata": {},
   "source": [
    "### display the all-vs-all plot\n",
    "*WARNING uses a temp file - we need to find a generic way with `display()`\n"
   ]
  },
  {
   "cell_type": "markdown",
   "metadata": {},
   "source": [
    "## all-by-all plots\n",
    "<img src=\"tempAllPlots.svg\">\n",
    "\n",
    "licence\n",
    "![Alt text](https://mirrors.creativecommons.org/presskit/logos/cc.logo.svg)\n",
    "\n"
   ]
  },
  {
   "cell_type": "code",
   "execution_count": 9,
   "metadata": {
    "scrolled": true
   },
   "outputs": [
    {
     "data": {
      "text/plain": [
       "[(2, 1), (4, 3), (6, 5)]"
      ]
     },
     "execution_count": 9,
     "metadata": {},
     "output_type": "execute_result"
    }
   ],
   "source": [
    "[(x[1],x[0]) for x in [[1,2],[3,4],[5,6]]]\n"
   ]
  },
  {
   "cell_type": "code",
   "execution_count": 1,
   "metadata": {},
   "outputs": [
    {
     "name": "stdout",
     "output_type": "stream",
     "text": [
      "Object `os` not found.\n"
     ]
    }
   ],
   "source": [
    "\n"
   ]
  },
  {
   "cell_type": "code",
   "execution_count": 2,
   "metadata": {},
   "outputs": [],
   "source": []
  },
  {
   "cell_type": "code",
   "execution_count": 7,
   "metadata": {},
   "outputs": [
    {
     "name": "stdout",
     "output_type": "stream",
     "text": [
      "/Users/pm286\n"
     ]
    }
   ],
   "source": []
  },
  {
   "cell_type": "code",
   "execution_count": null,
   "metadata": {},
   "outputs": [],
   "source": []
  }
 ],
 "metadata": {
  "kernelspec": {
   "display_name": "Python 3",
   "language": "python",
   "name": "python3"
  },
  "language_info": {
   "codemirror_mode": {
    "name": "ipython",
    "version": 3
   },
   "file_extension": ".py",
   "mimetype": "text/x-python",
   "name": "python",
   "nbconvert_exporter": "python",
   "pygments_lexer": "ipython3",
   "version": "3.8.3"
  }
 },
 "nbformat": 4,
 "nbformat_minor": 4
}
